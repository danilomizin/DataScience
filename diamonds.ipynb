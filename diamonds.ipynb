{
  "nbformat": 4,
  "nbformat_minor": 0,
  "metadata": {
    "colab": {
      "name": "Untitled5.ipynb",
      "provenance": []
    },
    "kernelspec": {
      "name": "python3",
      "display_name": "Python 3"
    },
    "language_info": {
      "name": "python"
    }
  },
  "cells": [
    {
      "cell_type": "code",
      "metadata": {
        "id": "ASSJnAJPzLGB"
      },
      "source": [
        "import pandas as pd\n",
        "import numpy as np \n",
        "import seaborn as sns\n",
        "from sklearn.preprocessing import LabelEncoder, StandardScaler\n",
        "from sklearn.linear_model import LinearRegression\n",
        "from sklearn.model_selection import train_test_split, cross_val_score, GridSearchCV\n",
        "from sklearn.metrics import mean_squared_error\n",
        "from sklearn.ensemble import RandomForestRegressor"
      ],
      "execution_count": null,
      "outputs": []
    },
    {
      "cell_type": "code",
      "metadata": {
        "id": "dyiiCDbZ6KzF"
      },
      "source": [
        "def rmse(y_true, y_pred):\n",
        "  return np.sqrt(mean_squared_error(y_true, y_pred))"
      ],
      "execution_count": null,
      "outputs": []
    },
    {
      "cell_type": "code",
      "metadata": {
        "id": "tOJr0I-FzZoE"
      },
      "source": [
        "train = pd.read_csv('diamonds_train.csv')\n",
        "test = pd.read_csv('diamonds_test.csv')"
      ],
      "execution_count": null,
      "outputs": []
    },
    {
      "cell_type": "code",
      "metadata": {
        "colab": {
          "base_uri": "https://localhost:8080/",
          "height": 205
        },
        "id": "SOPrAaCtzhxh",
        "outputId": "830d4bda-11bd-449d-8452-83702bc7f61c"
      },
      "source": [
        "train.head()"
      ],
      "execution_count": null,
      "outputs": [
        {
          "output_type": "execute_result",
          "data": {
            "text/html": [
              "<div>\n",
              "<style scoped>\n",
              "    .dataframe tbody tr th:only-of-type {\n",
              "        vertical-align: middle;\n",
              "    }\n",
              "\n",
              "    .dataframe tbody tr th {\n",
              "        vertical-align: top;\n",
              "    }\n",
              "\n",
              "    .dataframe thead th {\n",
              "        text-align: right;\n",
              "    }\n",
              "</style>\n",
              "<table border=\"1\" class=\"dataframe\">\n",
              "  <thead>\n",
              "    <tr style=\"text-align: right;\">\n",
              "      <th></th>\n",
              "      <th>Unnamed: 0</th>\n",
              "      <th>carat</th>\n",
              "      <th>cut</th>\n",
              "      <th>color</th>\n",
              "      <th>clarity</th>\n",
              "      <th>depth</th>\n",
              "      <th>table</th>\n",
              "      <th>x</th>\n",
              "      <th>y</th>\n",
              "      <th>z</th>\n",
              "      <th>price</th>\n",
              "    </tr>\n",
              "  </thead>\n",
              "  <tbody>\n",
              "    <tr>\n",
              "      <th>0</th>\n",
              "      <td>0</td>\n",
              "      <td>1.21</td>\n",
              "      <td>Ideal</td>\n",
              "      <td>H</td>\n",
              "      <td>VS2</td>\n",
              "      <td>63.0</td>\n",
              "      <td>57.0</td>\n",
              "      <td>6.73</td>\n",
              "      <td>6.70</td>\n",
              "      <td>4.23</td>\n",
              "      <td>6134</td>\n",
              "    </tr>\n",
              "    <tr>\n",
              "      <th>1</th>\n",
              "      <td>1</td>\n",
              "      <td>0.28</td>\n",
              "      <td>Very Good</td>\n",
              "      <td>D</td>\n",
              "      <td>VVS2</td>\n",
              "      <td>64.0</td>\n",
              "      <td>56.0</td>\n",
              "      <td>4.14</td>\n",
              "      <td>4.17</td>\n",
              "      <td>2.66</td>\n",
              "      <td>532</td>\n",
              "    </tr>\n",
              "    <tr>\n",
              "      <th>2</th>\n",
              "      <td>2</td>\n",
              "      <td>0.42</td>\n",
              "      <td>Premium</td>\n",
              "      <td>F</td>\n",
              "      <td>VS1</td>\n",
              "      <td>61.2</td>\n",
              "      <td>58.0</td>\n",
              "      <td>4.86</td>\n",
              "      <td>4.82</td>\n",
              "      <td>2.96</td>\n",
              "      <td>1103</td>\n",
              "    </tr>\n",
              "    <tr>\n",
              "      <th>3</th>\n",
              "      <td>3</td>\n",
              "      <td>0.26</td>\n",
              "      <td>Ideal</td>\n",
              "      <td>H</td>\n",
              "      <td>IF</td>\n",
              "      <td>61.1</td>\n",
              "      <td>57.0</td>\n",
              "      <td>4.16</td>\n",
              "      <td>4.12</td>\n",
              "      <td>2.53</td>\n",
              "      <td>600</td>\n",
              "    </tr>\n",
              "    <tr>\n",
              "      <th>4</th>\n",
              "      <td>4</td>\n",
              "      <td>1.10</td>\n",
              "      <td>Good</td>\n",
              "      <td>G</td>\n",
              "      <td>SI1</td>\n",
              "      <td>63.4</td>\n",
              "      <td>57.0</td>\n",
              "      <td>6.52</td>\n",
              "      <td>6.55</td>\n",
              "      <td>4.14</td>\n",
              "      <td>4997</td>\n",
              "    </tr>\n",
              "  </tbody>\n",
              "</table>\n",
              "</div>"
            ],
            "text/plain": [
              "   Unnamed: 0  carat        cut color clarity  ...  table     x     y     z  price\n",
              "0           0   1.21      Ideal     H     VS2  ...   57.0  6.73  6.70  4.23   6134\n",
              "1           1   0.28  Very Good     D    VVS2  ...   56.0  4.14  4.17  2.66    532\n",
              "2           2   0.42    Premium     F     VS1  ...   58.0  4.86  4.82  2.96   1103\n",
              "3           3   0.26      Ideal     H      IF  ...   57.0  4.16  4.12  2.53    600\n",
              "4           4   1.10       Good     G     SI1  ...   57.0  6.52  6.55  4.14   4997\n",
              "\n",
              "[5 rows x 11 columns]"
            ]
          },
          "metadata": {},
          "execution_count": 5
        }
      ]
    },
    {
      "cell_type": "code",
      "metadata": {
        "colab": {
          "base_uri": "https://localhost:8080/"
        },
        "id": "fQHLm9ZTzkca",
        "outputId": "12869df5-1b18-4a76-deff-dbb723c3ded7"
      },
      "source": [
        "train.isna().sum()"
      ],
      "execution_count": null,
      "outputs": [
        {
          "output_type": "execute_result",
          "data": {
            "text/plain": [
              "Unnamed: 0    0\n",
              "carat         0\n",
              "cut           0\n",
              "color         0\n",
              "clarity       0\n",
              "depth         0\n",
              "table         0\n",
              "x             0\n",
              "y             0\n",
              "z             0\n",
              "price         0\n",
              "dtype: int64"
            ]
          },
          "metadata": {},
          "execution_count": 6
        }
      ]
    },
    {
      "cell_type": "code",
      "metadata": {
        "colab": {
          "base_uri": "https://localhost:8080/"
        },
        "id": "tijXaUC0zh2u",
        "outputId": "31e56d4b-5732-4f33-bc94-d86ead3eaf82"
      },
      "source": [
        "train.shape, test.shape"
      ],
      "execution_count": null,
      "outputs": [
        {
          "output_type": "execute_result",
          "data": {
            "text/plain": [
              "((40345, 11), (13449, 10))"
            ]
          },
          "metadata": {},
          "execution_count": 7
        }
      ]
    },
    {
      "cell_type": "code",
      "metadata": {
        "colab": {
          "base_uri": "https://localhost:8080/",
          "height": 354
        },
        "id": "AYuf2xi8z6-r",
        "outputId": "fdbe1e20-a69f-44bc-e0a3-13d65380c494"
      },
      "source": [
        "sns.countplot(train.cut)"
      ],
      "execution_count": null,
      "outputs": [
        {
          "output_type": "stream",
          "name": "stderr",
          "text": [
            "/usr/local/lib/python3.7/dist-packages/seaborn/_decorators.py:43: FutureWarning: Pass the following variable as a keyword arg: x. From version 0.12, the only valid positional argument will be `data`, and passing other arguments without an explicit keyword will result in an error or misinterpretation.\n",
            "  FutureWarning\n"
          ]
        },
        {
          "output_type": "execute_result",
          "data": {
            "text/plain": [
              "<matplotlib.axes._subplots.AxesSubplot at 0x7f703917be50>"
            ]
          },
          "metadata": {},
          "execution_count": 8
        },
        {
          "output_type": "display_data",
          "data": {
            "image/png": "[encoded data removed]",
            "text/plain": [
              "<Figure size 432x288 with 1 Axes>"
            ]
          },
          "metadata": {
            "needs_background": "light"
          }
        }
      ]
    },
    {
      "cell_type": "code",
      "metadata": {
        "colab": {
          "base_uri": "https://localhost:8080/",
          "height": 236
        },
        "id": "-9ekvW_20ooc",
        "outputId": "5a0a09e4-fc23-4eb4-8c19-08a43fde795e"
      },
      "source": [
        "train.groupby('cut').agg({'price': 'mean'})"
      ],
      "execution_count": null,
      "outputs": [
        {
          "output_type": "execute_result",
          "data": {
            "text/html": [
              "<div>\n",
              "<style scoped>\n",
              "    .dataframe tbody tr th:only-of-type {\n",
              "        vertical-align: middle;\n",
              "    }\n",
              "\n",
              "    .dataframe tbody tr th {\n",
              "        vertical-align: top;\n",
              "    }\n",
              "\n",
              "    .dataframe thead th {\n",
              "        text-align: right;\n",
              "    }\n",
              "</style>\n",
              "<table border=\"1\" class=\"dataframe\">\n",
              "  <thead>\n",
              "    <tr style=\"text-align: right;\">\n",
              "      <th></th>\n",
              "      <th>price</th>\n",
              "    </tr>\n",
              "    <tr>\n",
              "      <th>cut</th>\n",
              "      <th></th>\n",
              "    </tr>\n",
              "  </thead>\n",
              "  <tbody>\n",
              "    <tr>\n",
              "      <th>Fair</th>\n",
              "      <td>4377.750422</td>\n",
              "    </tr>\n",
              "    <tr>\n",
              "      <th>Good</th>\n",
              "      <td>3904.176232</td>\n",
              "    </tr>\n",
              "    <tr>\n",
              "      <th>Ideal</th>\n",
              "      <td>3449.843816</td>\n",
              "    </tr>\n",
              "    <tr>\n",
              "      <th>Premium</th>\n",
              "      <td>4583.088016</td>\n",
              "    </tr>\n",
              "    <tr>\n",
              "      <th>Very Good</th>\n",
              "      <td>3963.129150</td>\n",
              "    </tr>\n",
              "  </tbody>\n",
              "</table>\n",
              "</div>"
            ],
            "text/plain": [
              "                 price\n",
              "cut                   \n",
              "Fair       4377.750422\n",
              "Good       3904.176232\n",
              "Ideal      3449.843816\n",
              "Premium    4583.088016\n",
              "Very Good  3963.129150"
            ]
          },
          "metadata": {},
          "execution_count": 9
        }
      ]
    },
    {
      "cell_type": "code",
      "metadata": {
        "colab": {
          "base_uri": "https://localhost:8080/",
          "height": 354
        },
        "id": "UKygONqc09dg",
        "outputId": "d41a527a-7e00-456a-ccd3-09e84f8e0620"
      },
      "source": [
        "sns.countplot(train.color)"
      ],
      "execution_count": null,
      "outputs": [
        {
          "output_type": "stream",
          "name": "stderr",
          "text": [
            "/usr/local/lib/python3.7/dist-packages/seaborn/_decorators.py:43: FutureWarning: Pass the following variable as a keyword arg: x. From version 0.12, the only valid positional argument will be `data`, and passing other arguments without an explicit keyword will result in an error or misinterpretation.\n",
            "  FutureWarning\n"
          ]
        },
        {
          "output_type": "execute_result",
          "data": {
            "text/plain": [
              "<matplotlib.axes._subplots.AxesSubplot at 0x7f70260c31d0>"
            ]
          },
          "metadata": {},
          "execution_count": 10
        },
        {
          "output_type": "display_data",
          "data": {
            "image/png": "[encoded data removed]",
            "text/plain": [
              "<Figure size 432x288 with 1 Axes>"
            ]
          },
          "metadata": {
            "needs_background": "light"
          }
        }
      ]
    },
    {
      "cell_type": "code",
      "metadata": {
        "colab": {
          "base_uri": "https://localhost:8080/",
          "height": 299
        },
        "id": "0bnD9f2q1DBs",
        "outputId": "23e4bdf9-b10b-4d9c-c7a4-2efd43b53377"
      },
      "source": [
        "train.groupby('color').agg({'price': 'mean'}).sort_values('price', ascending=False)"
      ],
      "execution_count": null,
      "outputs": [
        {
          "output_type": "execute_result",
          "data": {
            "text/html": [
              "<div>\n",
              "<style scoped>\n",
              "    .dataframe tbody tr th:only-of-type {\n",
              "        vertical-align: middle;\n",
              "    }\n",
              "\n",
              "    .dataframe tbody tr th {\n",
              "        vertical-align: top;\n",
              "    }\n",
              "\n",
              "    .dataframe thead th {\n",
              "        text-align: right;\n",
              "    }\n",
              "</style>\n",
              "<table border=\"1\" class=\"dataframe\">\n",
              "  <thead>\n",
              "    <tr style=\"text-align: right;\">\n",
              "      <th></th>\n",
              "      <th>price</th>\n",
              "    </tr>\n",
              "    <tr>\n",
              "      <th>color</th>\n",
              "      <th></th>\n",
              "    </tr>\n",
              "  </thead>\n",
              "  <tbody>\n",
              "    <tr>\n",
              "      <th>J</th>\n",
              "      <td>5330.246804</td>\n",
              "    </tr>\n",
              "    <tr>\n",
              "      <th>I</th>\n",
              "      <td>5044.441959</td>\n",
              "    </tr>\n",
              "    <tr>\n",
              "      <th>H</th>\n",
              "      <td>4438.723933</td>\n",
              "    </tr>\n",
              "    <tr>\n",
              "      <th>G</th>\n",
              "      <td>3984.466761</td>\n",
              "    </tr>\n",
              "    <tr>\n",
              "      <th>F</th>\n",
              "      <td>3733.193128</td>\n",
              "    </tr>\n",
              "    <tr>\n",
              "      <th>D</th>\n",
              "      <td>3198.432203</td>\n",
              "    </tr>\n",
              "    <tr>\n",
              "      <th>E</th>\n",
              "      <td>3101.672698</td>\n",
              "    </tr>\n",
              "  </tbody>\n",
              "</table>\n",
              "</div>"
            ],
            "text/plain": [
              "             price\n",
              "color             \n",
              "J      5330.246804\n",
              "I      5044.441959\n",
              "H      4438.723933\n",
              "G      3984.466761\n",
              "F      3733.193128\n",
              "D      3198.432203\n",
              "E      3101.672698"
            ]
          },
          "metadata": {},
          "execution_count": 11
        }
      ]
    },
    {
      "cell_type": "code",
      "metadata": {
        "colab": {
          "base_uri": "https://localhost:8080/"
        },
        "id": "PwTu6P0n1wGy",
        "outputId": "11c201e5-b3b6-49de-e1de-e303f967b05b"
      },
      "source": [
        "train.price.max()"
      ],
      "execution_count": null,
      "outputs": [
        {
          "output_type": "execute_result",
          "data": {
            "text/plain": [
              "18818"
            ]
          },
          "metadata": {},
          "execution_count": 12
        }
      ]
    },
    {
      "cell_type": "code",
      "metadata": {
        "colab": {
          "base_uri": "https://localhost:8080/",
          "height": 422
        },
        "id": "-lTtPF5o1ykR",
        "outputId": "cb002343-f84e-4ab2-a4ef-5745a62da426"
      },
      "source": [
        "train.query('cut==\"Fair\" & color==\"J\"').sort_values('price', ascending=False)"
      ],
      "execution_count": null,
      "outputs": [
        {
          "output_type": "execute_result",
          "data": {
            "text/html": [
              "<div>\n",
              "<style scoped>\n",
              "    .dataframe tbody tr th:only-of-type {\n",
              "        vertical-align: middle;\n",
              "    }\n",
              "\n",
              "    .dataframe tbody tr th {\n",
              "        vertical-align: top;\n",
              "    }\n",
              "\n",
              "    .dataframe thead th {\n",
              "        text-align: right;\n",
              "    }\n",
              "</style>\n",
              "<table border=\"1\" class=\"dataframe\">\n",
              "  <thead>\n",
              "    <tr style=\"text-align: right;\">\n",
              "      <th></th>\n",
              "      <th>Unnamed: 0</th>\n",
              "      <th>carat</th>\n",
              "      <th>cut</th>\n",
              "      <th>color</th>\n",
              "      <th>clarity</th>\n",
              "      <th>depth</th>\n",
              "      <th>table</th>\n",
              "      <th>x</th>\n",
              "      <th>y</th>\n",
              "      <th>z</th>\n",
              "      <th>price</th>\n",
              "    </tr>\n",
              "  </thead>\n",
              "  <tbody>\n",
              "    <tr>\n",
              "      <th>29122</th>\n",
              "      <td>29122</td>\n",
              "      <td>2.40</td>\n",
              "      <td>Fair</td>\n",
              "      <td>J</td>\n",
              "      <td>SI2</td>\n",
              "      <td>65.4</td>\n",
              "      <td>56.0</td>\n",
              "      <td>8.35</td>\n",
              "      <td>8.29</td>\n",
              "      <td>5.44</td>\n",
              "      <td>15824</td>\n",
              "    </tr>\n",
              "    <tr>\n",
              "      <th>39813</th>\n",
              "      <td>39813</td>\n",
              "      <td>2.52</td>\n",
              "      <td>Fair</td>\n",
              "      <td>J</td>\n",
              "      <td>SI2</td>\n",
              "      <td>65.1</td>\n",
              "      <td>56.0</td>\n",
              "      <td>8.51</td>\n",
              "      <td>8.43</td>\n",
              "      <td>5.51</td>\n",
              "      <td>15776</td>\n",
              "    </tr>\n",
              "    <tr>\n",
              "      <th>39121</th>\n",
              "      <td>39121</td>\n",
              "      <td>2.06</td>\n",
              "      <td>Fair</td>\n",
              "      <td>J</td>\n",
              "      <td>VS1</td>\n",
              "      <td>64.6</td>\n",
              "      <td>58.0</td>\n",
              "      <td>7.91</td>\n",
              "      <td>8.04</td>\n",
              "      <td>5.15</td>\n",
              "      <td>14750</td>\n",
              "    </tr>\n",
              "    <tr>\n",
              "      <th>39388</th>\n",
              "      <td>39388</td>\n",
              "      <td>2.01</td>\n",
              "      <td>Fair</td>\n",
              "      <td>J</td>\n",
              "      <td>VS1</td>\n",
              "      <td>66.6</td>\n",
              "      <td>54.0</td>\n",
              "      <td>7.76</td>\n",
              "      <td>7.92</td>\n",
              "      <td>5.22</td>\n",
              "      <td>14402</td>\n",
              "    </tr>\n",
              "    <tr>\n",
              "      <th>18293</th>\n",
              "      <td>18293</td>\n",
              "      <td>2.01</td>\n",
              "      <td>Fair</td>\n",
              "      <td>J</td>\n",
              "      <td>VS2</td>\n",
              "      <td>64.9</td>\n",
              "      <td>60.0</td>\n",
              "      <td>7.82</td>\n",
              "      <td>7.78</td>\n",
              "      <td>5.06</td>\n",
              "      <td>13744</td>\n",
              "    </tr>\n",
              "    <tr>\n",
              "      <th>...</th>\n",
              "      <td>...</td>\n",
              "      <td>...</td>\n",
              "      <td>...</td>\n",
              "      <td>...</td>\n",
              "      <td>...</td>\n",
              "      <td>...</td>\n",
              "      <td>...</td>\n",
              "      <td>...</td>\n",
              "      <td>...</td>\n",
              "      <td>...</td>\n",
              "      <td>...</td>\n",
              "    </tr>\n",
              "    <tr>\n",
              "      <th>34832</th>\n",
              "      <td>34832</td>\n",
              "      <td>0.85</td>\n",
              "      <td>Fair</td>\n",
              "      <td>J</td>\n",
              "      <td>I1</td>\n",
              "      <td>65.5</td>\n",
              "      <td>59.0</td>\n",
              "      <td>5.95</td>\n",
              "      <td>5.82</td>\n",
              "      <td>3.86</td>\n",
              "      <td>1334</td>\n",
              "    </tr>\n",
              "    <tr>\n",
              "      <th>18613</th>\n",
              "      <td>18613</td>\n",
              "      <td>0.70</td>\n",
              "      <td>Fair</td>\n",
              "      <td>J</td>\n",
              "      <td>I1</td>\n",
              "      <td>64.7</td>\n",
              "      <td>59.0</td>\n",
              "      <td>5.59</td>\n",
              "      <td>5.50</td>\n",
              "      <td>3.59</td>\n",
              "      <td>1066</td>\n",
              "    </tr>\n",
              "    <tr>\n",
              "      <th>34218</th>\n",
              "      <td>34218</td>\n",
              "      <td>0.51</td>\n",
              "      <td>Fair</td>\n",
              "      <td>J</td>\n",
              "      <td>VS2</td>\n",
              "      <td>65.3</td>\n",
              "      <td>55.0</td>\n",
              "      <td>4.97</td>\n",
              "      <td>4.96</td>\n",
              "      <td>3.24</td>\n",
              "      <td>996</td>\n",
              "    </tr>\n",
              "    <tr>\n",
              "      <th>20428</th>\n",
              "      <td>20428</td>\n",
              "      <td>0.50</td>\n",
              "      <td>Fair</td>\n",
              "      <td>J</td>\n",
              "      <td>VS1</td>\n",
              "      <td>66.8</td>\n",
              "      <td>57.0</td>\n",
              "      <td>4.89</td>\n",
              "      <td>4.84</td>\n",
              "      <td>3.25</td>\n",
              "      <td>949</td>\n",
              "    </tr>\n",
              "    <tr>\n",
              "      <th>23486</th>\n",
              "      <td>23486</td>\n",
              "      <td>0.30</td>\n",
              "      <td>Fair</td>\n",
              "      <td>J</td>\n",
              "      <td>VS2</td>\n",
              "      <td>64.8</td>\n",
              "      <td>58.0</td>\n",
              "      <td>4.24</td>\n",
              "      <td>4.16</td>\n",
              "      <td>2.72</td>\n",
              "      <td>416</td>\n",
              "    </tr>\n",
              "  </tbody>\n",
              "</table>\n",
              "<p>81 rows × 11 columns</p>\n",
              "</div>"
            ],
            "text/plain": [
              "       Unnamed: 0  carat   cut color clarity  ...  table     x     y     z  price\n",
              "29122       29122   2.40  Fair     J     SI2  ...   56.0  8.35  8.29  5.44  15824\n",
              "39813       39813   2.52  Fair     J     SI2  ...   56.0  8.51  8.43  5.51  15776\n",
              "39121       39121   2.06  Fair     J     VS1  ...   58.0  7.91  8.04  5.15  14750\n",
              "39388       39388   2.01  Fair     J     VS1  ...   54.0  7.76  7.92  5.22  14402\n",
              "18293       18293   2.01  Fair     J     VS2  ...   60.0  7.82  7.78  5.06  13744\n",
              "...           ...    ...   ...   ...     ...  ...    ...   ...   ...   ...    ...\n",
              "34832       34832   0.85  Fair     J      I1  ...   59.0  5.95  5.82  3.86   1334\n",
              "18613       18613   0.70  Fair     J      I1  ...   59.0  5.59  5.50  3.59   1066\n",
              "34218       34218   0.51  Fair     J     VS2  ...   55.0  4.97  4.96  3.24    996\n",
              "20428       20428   0.50  Fair     J     VS1  ...   57.0  4.89  4.84  3.25    949\n",
              "23486       23486   0.30  Fair     J     VS2  ...   58.0  4.24  4.16  2.72    416\n",
              "\n",
              "[81 rows x 11 columns]"
            ]
          },
          "metadata": {},
          "execution_count": 13
        }
      ]
    },
    {
      "cell_type": "markdown",
      "metadata": {
        "id": "yv5g3-862Iw7"
      },
      "source": [
        "carat corr with price. If cut== Fair, color=J. It`s the best cut ant color\n"
      ]
    },
    {
      "cell_type": "code",
      "metadata": {
        "colab": {
          "base_uri": "https://localhost:8080/",
          "height": 354
        },
        "id": "nLOqO1dh2WGX",
        "outputId": "ac73bc2d-5777-4b7f-ccd1-1ab5373642a2"
      },
      "source": [
        "sns.countplot(train.clarity)"
      ],
      "execution_count": null,
      "outputs": [
        {
          "output_type": "stream",
          "name": "stderr",
          "text": [
            "/usr/local/lib/python3.7/dist-packages/seaborn/_decorators.py:43: FutureWarning: Pass the following variable as a keyword arg: x. From version 0.12, the only valid positional argument will be `data`, and passing other arguments without an explicit keyword will result in an error or misinterpretation.\n",
            "  FutureWarning\n"
          ]
        },
        {
          "output_type": "execute_result",
          "data": {
            "text/plain": [
              "<matplotlib.axes._subplots.AxesSubplot at 0x7f702b628a50>"
            ]
          },
          "metadata": {},
          "execution_count": 14
        },
        {
          "output_type": "display_data",
          "data": {
            "image/png": "[encoded data removed]",
            "text/plain": [
              "<Figure size 432x288 with 1 Axes>"
            ]
          },
          "metadata": {
            "needs_background": "light"
          }
        }
      ]
    },
    {
      "cell_type": "code",
      "metadata": {
        "colab": {
          "base_uri": "https://localhost:8080/",
          "height": 297
        },
        "id": "48OKoUuk24o_",
        "outputId": "f0ea4ca1-f36a-44c8-bce8-e4e5ef7e7cac"
      },
      "source": [
        "sns.histplot(train.price)"
      ],
      "execution_count": null,
      "outputs": [
        {
          "output_type": "execute_result",
          "data": {
            "text/plain": [
              "<matplotlib.axes._subplots.AxesSubplot at 0x7f702478cf50>"
            ]
          },
          "metadata": {},
          "execution_count": 15
        },
        {
          "output_type": "display_data",
          "data": {
            "image/png": "[encoded data removed]",
            "text/plain": [
              "<Figure size 432x288 with 1 Axes>"
            ]
          },
          "metadata": {
            "needs_background": "light"
          }
        }
      ]
    },
    {
      "cell_type": "code",
      "metadata": {
        "colab": {
          "base_uri": "https://localhost:8080/",
          "height": 354
        },
        "id": "lkfPNXPC3gH1",
        "outputId": "22e576ea-90e7-4d8a-cc04-7239626df079"
      },
      "source": [
        "sns.boxplot(train.price)"
      ],
      "execution_count": null,
      "outputs": [
        {
          "output_type": "stream",
          "name": "stderr",
          "text": [
            "/usr/local/lib/python3.7/dist-packages/seaborn/_decorators.py:43: FutureWarning: Pass the following variable as a keyword arg: x. From version 0.12, the only valid positional argument will be `data`, and passing other arguments without an explicit keyword will result in an error or misinterpretation.\n",
            "  FutureWarning\n"
          ]
        },
        {
          "output_type": "execute_result",
          "data": {
            "text/plain": [
              "<matplotlib.axes._subplots.AxesSubplot at 0x7f70246b0810>"
            ]
          },
          "metadata": {},
          "execution_count": 16
        },
        {
          "output_type": "display_data",
          "data": {
            "image/png": "[encoded data removed]",
            "text/plain": [
              "<Figure size 432x288 with 1 Axes>"
            ]
          },
          "metadata": {
            "needs_background": "light"
          }
        }
      ]
    },
    {
      "cell_type": "code",
      "metadata": {
        "colab": {
          "base_uri": "https://localhost:8080/",
          "height": 297
        },
        "id": "UEpG8vRKTgzE",
        "outputId": "0d5c088d-3f24-4604-cab3-8000416b6bf5"
      },
      "source": [
        "sns.histplot(np.log(train.price))"
      ],
      "execution_count": null,
      "outputs": [
        {
          "output_type": "execute_result",
          "data": {
            "text/plain": [
              "<matplotlib.axes._subplots.AxesSubplot at 0x7f70245adb10>"
            ]
          },
          "metadata": {},
          "execution_count": 17
        },
        {
          "output_type": "display_data",
          "data": {
            "image/png": "[encoded data removed]",
            "text/plain": [
              "<Figure size 432x288 with 1 Axes>"
            ]
          },
          "metadata": {
            "needs_background": "light"
          }
        }
      ]
    },
    {
      "cell_type": "code",
      "metadata": {
        "colab": {
          "base_uri": "https://localhost:8080/",
          "height": 354
        },
        "id": "8ZUHy2vnTkos",
        "outputId": "acc6cd62-585a-49b2-80ce-3f4bd5767d1e"
      },
      "source": [
        "sns.boxplot(np.log(train.price))"
      ],
      "execution_count": null,
      "outputs": [
        {
          "output_type": "stream",
          "name": "stderr",
          "text": [
            "/usr/local/lib/python3.7/dist-packages/seaborn/_decorators.py:43: FutureWarning: Pass the following variable as a keyword arg: x. From version 0.12, the only valid positional argument will be `data`, and passing other arguments without an explicit keyword will result in an error or misinterpretation.\n",
            "  FutureWarning\n"
          ]
        },
        {
          "output_type": "execute_result",
          "data": {
            "text/plain": [
              "<matplotlib.axes._subplots.AxesSubplot at 0x7f701f5b8b50>"
            ]
          },
          "metadata": {},
          "execution_count": 18
        },
        {
          "output_type": "display_data",
          "data": {
            "image/png": "[encoded data removed]",
            "text/plain": [
              "<Figure size 432x288 with 1 Axes>"
            ]
          },
          "metadata": {
            "needs_background": "light"
          }
        }
      ]
    },
    {
      "cell_type": "code",
      "metadata": {
        "colab": {
          "base_uri": "https://localhost:8080/",
          "height": 297
        },
        "id": "k4oaL35i3EKE",
        "outputId": "0602df76-eade-45e0-ec65-cd6a4d5a65ca"
      },
      "source": [
        "sns.histplot(train.carat)"
      ],
      "execution_count": null,
      "outputs": [
        {
          "output_type": "execute_result",
          "data": {
            "text/plain": [
              "<matplotlib.axes._subplots.AxesSubplot at 0x7f702445bb50>"
            ]
          },
          "metadata": {},
          "execution_count": 19
        },
        {
          "output_type": "display_data",
          "data": {
            "image/png": "[encoded data removed]",
            "text/plain": [
              "<Figure size 432x288 with 1 Axes>"
            ]
          },
          "metadata": {
            "needs_background": "light"
          }
        }
      ]
    },
    {
      "cell_type": "code",
      "metadata": {
        "colab": {
          "base_uri": "https://localhost:8080/",
          "height": 354
        },
        "id": "WfXX2OW92Hfc",
        "outputId": "68360256-0130-4984-b509-dd0dadce075d"
      },
      "source": [
        "sns.boxplot(train.carat)"
      ],
      "execution_count": null,
      "outputs": [
        {
          "output_type": "stream",
          "name": "stderr",
          "text": [
            "/usr/local/lib/python3.7/dist-packages/seaborn/_decorators.py:43: FutureWarning: Pass the following variable as a keyword arg: x. From version 0.12, the only valid positional argument will be `data`, and passing other arguments without an explicit keyword will result in an error or misinterpretation.\n",
            "  FutureWarning\n"
          ]
        },
        {
          "output_type": "execute_result",
          "data": {
            "text/plain": [
              "<matplotlib.axes._subplots.AxesSubplot at 0x7f701f3c4d10>"
            ]
          },
          "metadata": {},
          "execution_count": 20
        },
        {
          "output_type": "display_data",
          "data": {
            "image/png": "[encoded data removed]",
            "text/plain": [
              "<Figure size 432x288 with 1 Axes>"
            ]
          },
          "metadata": {
            "needs_background": "light"
          }
        }
      ]
    },
    {
      "cell_type": "code",
      "metadata": {
        "colab": {
          "base_uri": "https://localhost:8080/",
          "height": 297
        },
        "id": "LeQlfwnQTpmb",
        "outputId": "7c20b60f-ccee-4fd8-e0ee-26726f3acf43"
      },
      "source": [
        "sns.histplot(np.log(train.carat))"
      ],
      "execution_count": null,
      "outputs": [
        {
          "output_type": "execute_result",
          "data": {
            "text/plain": [
              "<matplotlib.axes._subplots.AxesSubplot at 0x7f701f627090>"
            ]
          },
          "metadata": {},
          "execution_count": 21
        },
        {
          "output_type": "display_data",
          "data": {
            "image/png": "[encoded data removed]",
            "text/plain": [
              "<Figure size 432x288 with 1 Axes>"
            ]
          },
          "metadata": {
            "needs_background": "light"
          }
        }
      ]
    },
    {
      "cell_type": "code",
      "metadata": {
        "colab": {
          "base_uri": "https://localhost:8080/",
          "height": 354
        },
        "id": "ROL3LPpKTt9x",
        "outputId": "bd95ef3d-fa70-452f-de0b-bbf7461a31f1"
      },
      "source": [
        "sns.boxplot(np.log(train.carat))"
      ],
      "execution_count": null,
      "outputs": [
        {
          "output_type": "stream",
          "name": "stderr",
          "text": [
            "/usr/local/lib/python3.7/dist-packages/seaborn/_decorators.py:43: FutureWarning: Pass the following variable as a keyword arg: x. From version 0.12, the only valid positional argument will be `data`, and passing other arguments without an explicit keyword will result in an error or misinterpretation.\n",
            "  FutureWarning\n"
          ]
        },
        {
          "output_type": "execute_result",
          "data": {
            "text/plain": [
              "<matplotlib.axes._subplots.AxesSubplot at 0x7f701f486290>"
            ]
          },
          "metadata": {},
          "execution_count": 22
        },
        {
          "output_type": "display_data",
          "data": {
            "image/png": "[encoded data removed]",
            "text/plain": [
              "<Figure size 432x288 with 1 Axes>"
            ]
          },
          "metadata": {
            "needs_background": "light"
          }
        }
      ]
    },
    {
      "cell_type": "code",
      "metadata": {
        "colab": {
          "base_uri": "https://localhost:8080/",
          "height": 205
        },
        "id": "S3MYUooW34Yu",
        "outputId": "08df1b70-61e3-4b79-a251-3d37017af371"
      },
      "source": [
        "train.head()"
      ],
      "execution_count": null,
      "outputs": [
        {
          "output_type": "execute_result",
          "data": {
            "text/html": [
              "<div>\n",
              "<style scoped>\n",
              "    .dataframe tbody tr th:only-of-type {\n",
              "        vertical-align: middle;\n",
              "    }\n",
              "\n",
              "    .dataframe tbody tr th {\n",
              "        vertical-align: top;\n",
              "    }\n",
              "\n",
              "    .dataframe thead th {\n",
              "        text-align: right;\n",
              "    }\n",
              "</style>\n",
              "<table border=\"1\" class=\"dataframe\">\n",
              "  <thead>\n",
              "    <tr style=\"text-align: right;\">\n",
              "      <th></th>\n",
              "      <th>Unnamed: 0</th>\n",
              "      <th>carat</th>\n",
              "      <th>cut</th>\n",
              "      <th>color</th>\n",
              "      <th>clarity</th>\n",
              "      <th>depth</th>\n",
              "      <th>table</th>\n",
              "      <th>x</th>\n",
              "      <th>y</th>\n",
              "      <th>z</th>\n",
              "      <th>price</th>\n",
              "    </tr>\n",
              "  </thead>\n",
              "  <tbody>\n",
              "    <tr>\n",
              "      <th>0</th>\n",
              "      <td>0</td>\n",
              "      <td>0.190620</td>\n",
              "      <td>Ideal</td>\n",
              "      <td>H</td>\n",
              "      <td>VS2</td>\n",
              "      <td>63.0</td>\n",
              "      <td>57.0</td>\n",
              "      <td>6.73</td>\n",
              "      <td>6.70</td>\n",
              "      <td>4.23</td>\n",
              "      <td>6134</td>\n",
              "    </tr>\n",
              "    <tr>\n",
              "      <th>1</th>\n",
              "      <td>1</td>\n",
              "      <td>-1.272966</td>\n",
              "      <td>Very Good</td>\n",
              "      <td>D</td>\n",
              "      <td>VVS2</td>\n",
              "      <td>64.0</td>\n",
              "      <td>56.0</td>\n",
              "      <td>4.14</td>\n",
              "      <td>4.17</td>\n",
              "      <td>2.66</td>\n",
              "      <td>532</td>\n",
              "    </tr>\n",
              "    <tr>\n",
              "      <th>2</th>\n",
              "      <td>2</td>\n",
              "      <td>-0.867501</td>\n",
              "      <td>Premium</td>\n",
              "      <td>F</td>\n",
              "      <td>VS1</td>\n",
              "      <td>61.2</td>\n",
              "      <td>58.0</td>\n",
              "      <td>4.86</td>\n",
              "      <td>4.82</td>\n",
              "      <td>2.96</td>\n",
              "      <td>1103</td>\n",
              "    </tr>\n",
              "    <tr>\n",
              "      <th>3</th>\n",
              "      <td>3</td>\n",
              "      <td>-1.347074</td>\n",
              "      <td>Ideal</td>\n",
              "      <td>H</td>\n",
              "      <td>IF</td>\n",
              "      <td>61.1</td>\n",
              "      <td>57.0</td>\n",
              "      <td>4.16</td>\n",
              "      <td>4.12</td>\n",
              "      <td>2.53</td>\n",
              "      <td>600</td>\n",
              "    </tr>\n",
              "    <tr>\n",
              "      <th>4</th>\n",
              "      <td>4</td>\n",
              "      <td>0.095310</td>\n",
              "      <td>Good</td>\n",
              "      <td>G</td>\n",
              "      <td>SI1</td>\n",
              "      <td>63.4</td>\n",
              "      <td>57.0</td>\n",
              "      <td>6.52</td>\n",
              "      <td>6.55</td>\n",
              "      <td>4.14</td>\n",
              "      <td>4997</td>\n",
              "    </tr>\n",
              "  </tbody>\n",
              "</table>\n",
              "</div>"
            ],
            "text/plain": [
              "   Unnamed: 0     carat        cut color  ...     x     y     z  price\n",
              "0           0  0.190620      Ideal     H  ...  6.73  6.70  4.23   6134\n",
              "1           1 -1.272966  Very Good     D  ...  4.14  4.17  2.66    532\n",
              "2           2 -0.867501    Premium     F  ...  4.86  4.82  2.96   1103\n",
              "3           3 -1.347074      Ideal     H  ...  4.16  4.12  2.53    600\n",
              "4           4  0.095310       Good     G  ...  6.52  6.55  4.14   4997\n",
              "\n",
              "[5 rows x 11 columns]"
            ]
          },
          "metadata": {},
          "execution_count": 24
        }
      ]
    },
    {
      "cell_type": "code",
      "metadata": {
        "colab": {
          "base_uri": "https://localhost:8080/",
          "height": 297
        },
        "id": "3YuaKsz2T8KO",
        "outputId": "2a40b3fc-5568-45cf-ef42-ce680bd737bf"
      },
      "source": [
        "sns.histplot(train.z)"
      ],
      "execution_count": null,
      "outputs": [
        {
          "output_type": "execute_result",
          "data": {
            "text/plain": [
              "<matplotlib.axes._subplots.AxesSubplot at 0x7f701cc276d0>"
            ]
          },
          "metadata": {},
          "execution_count": 44
        },
        {
          "output_type": "display_data",
          "data": {
            "image/png": "[encoded data removed]",
            "text/plain": [
              "<Figure size 432x288 with 1 Axes>"
            ]
          },
          "metadata": {
            "needs_background": "light"
          }
        }
      ]
    },
    {
      "cell_type": "code",
      "metadata": {
        "colab": {
          "base_uri": "https://localhost:8080/",
          "height": 354
        },
        "id": "MfxlTudmUB0a",
        "outputId": "34c9dcea-6193-4de5-eff7-9e73621e4b1f"
      },
      "source": [
        "sns.boxplot(train.z)"
      ],
      "execution_count": null,
      "outputs": [
        {
          "output_type": "stream",
          "name": "stderr",
          "text": [
            "/usr/local/lib/python3.7/dist-packages/seaborn/_decorators.py:43: FutureWarning: Pass the following variable as a keyword arg: x. From version 0.12, the only valid positional argument will be `data`, and passing other arguments without an explicit keyword will result in an error or misinterpretation.\n",
            "  FutureWarning\n"
          ]
        },
        {
          "output_type": "execute_result",
          "data": {
            "text/plain": [
              "<matplotlib.axes._subplots.AxesSubplot at 0x7f701cc15810>"
            ]
          },
          "metadata": {},
          "execution_count": 45
        },
        {
          "output_type": "display_data",
          "data": {
            "image/png": "[encoded data removed]",
            "text/plain": [
              "<Figure size 432x288 with 1 Axes>"
            ]
          },
          "metadata": {
            "needs_background": "light"
          }
        }
      ]
    },
    {
      "cell_type": "code",
      "metadata": {
        "colab": {
          "base_uri": "https://localhost:8080/",
          "height": 334
        },
        "id": "9uVkN1S6UFq5",
        "outputId": "fd775f15-df9d-4d52-d05a-4da26d82a49a"
      },
      "source": [
        "sns.histplot(np.log(train.z))"
      ],
      "execution_count": null,
      "outputs": [
        {
          "output_type": "stream",
          "name": "stderr",
          "text": [
            "/usr/local/lib/python3.7/dist-packages/pandas/core/series.py:726: RuntimeWarning: divide by zero encountered in log\n",
            "  result = getattr(ufunc, method)(*inputs, **kwargs)\n"
          ]
        },
        {
          "output_type": "execute_result",
          "data": {
            "text/plain": [
              "<matplotlib.axes._subplots.AxesSubplot at 0x7f701c97c390>"
            ]
          },
          "metadata": {},
          "execution_count": 46
        },
        {
          "output_type": "display_data",
          "data": {
            "image/png": "[encoded data removed]",
            "text/plain": [
              "<Figure size 432x288 with 1 Axes>"
            ]
          },
          "metadata": {
            "needs_background": "light"
          }
        }
      ]
    },
    {
      "cell_type": "code",
      "metadata": {
        "colab": {
          "base_uri": "https://localhost:8080/",
          "height": 390
        },
        "id": "ILAnvFINULOv",
        "outputId": "f398ad27-0ad6-47c5-e006-761b835971e1"
      },
      "source": [
        "sns.boxplot(np.log(train.z))"
      ],
      "execution_count": null,
      "outputs": [
        {
          "output_type": "stream",
          "name": "stderr",
          "text": [
            "/usr/local/lib/python3.7/dist-packages/pandas/core/series.py:726: RuntimeWarning: divide by zero encountered in log\n",
            "  result = getattr(ufunc, method)(*inputs, **kwargs)\n",
            "/usr/local/lib/python3.7/dist-packages/seaborn/_decorators.py:43: FutureWarning: Pass the following variable as a keyword arg: x. From version 0.12, the only valid positional argument will be `data`, and passing other arguments without an explicit keyword will result in an error or misinterpretation.\n",
            "  FutureWarning\n"
          ]
        },
        {
          "output_type": "execute_result",
          "data": {
            "text/plain": [
              "<matplotlib.axes._subplots.AxesSubplot at 0x7f701c823610>"
            ]
          },
          "metadata": {},
          "execution_count": 47
        },
        {
          "output_type": "display_data",
          "data": {
            "image/png": "[encoded data removed]",
            "text/plain": [
              "<Figure size 432x288 with 1 Axes>"
            ]
          },
          "metadata": {
            "needs_background": "light"
          }
        }
      ]
    },
    {
      "cell_type": "code",
      "metadata": {
        "colab": {
          "base_uri": "https://localhost:8080/"
        },
        "id": "UrlWUhP-UdDn",
        "outputId": "5f902b58-7904-4615-fe17-645b9889af90"
      },
      "source": [
        "train.carat = np.log(train.carat)\n",
        "train.x = np.log(train.x)\n",
        "train.y = np.log(train.y)\n",
        "train.drop(train.query('y>3').index, inplace=True)\n",
        "train.z = np.log(train.z)\n",
        "train.drop(train.query('z>2 | z<0.6').index, inplace=True)"
      ],
      "execution_count": null,
      "outputs": [
        {
          "output_type": "stream",
          "name": "stderr",
          "text": [
            "/usr/local/lib/python3.7/dist-packages/pandas/core/series.py:726: RuntimeWarning: divide by zero encountered in log\n",
            "  result = getattr(ufunc, method)(*inputs, **kwargs)\n"
          ]
        }
      ]
    },
    {
      "cell_type": "code",
      "metadata": {
        "colab": {
          "base_uri": "https://localhost:8080/"
        },
        "id": "_kfbXn3FVE41",
        "outputId": "d08a8540-21a5-456d-9b22-b729c3a2276b"
      },
      "source": [
        "test.x = np.log(test.x)\n",
        "test.y = np.log(test.y)\n",
        "test.z = np.log(test.z)\n",
        "test.carat = np.log(test.carat)"
      ],
      "execution_count": null,
      "outputs": [
        {
          "output_type": "stream",
          "name": "stderr",
          "text": [
            "/usr/local/lib/python3.7/dist-packages/pandas/core/series.py:726: RuntimeWarning: divide by zero encountered in log\n",
            "  result = getattr(ufunc, method)(*inputs, **kwargs)\n"
          ]
        }
      ]
    },
    {
      "cell_type": "code",
      "metadata": {
        "id": "ad4qRY5Z4Nqu"
      },
      "source": [
        "le = LabelEncoder()\n",
        "train.cut = le.fit_transform(train.cut)\n",
        "test.cut = le.transform(test.cut)\n",
        "train.color = le.fit_transform(train.color)\n",
        "test.color = le.transform(test.color)\n",
        "train.clarity = le.fit_transform(train.clarity)\n",
        "test.clarity = le.transform(test.clarity)"
      ],
      "execution_count": null,
      "outputs": []
    },
    {
      "cell_type": "code",
      "metadata": {
        "colab": {
          "base_uri": "https://localhost:8080/",
          "height": 338
        },
        "id": "q4MfdySV44Wr",
        "outputId": "d91f7644-2d1d-4245-ad74-dd1a2383b9bc"
      },
      "source": [
        "sns.heatmap(train.corr())"
      ],
      "execution_count": null,
      "outputs": [
        {
          "output_type": "execute_result",
          "data": {
            "text/plain": [
              "<matplotlib.axes._subplots.AxesSubplot at 0x7f701c7a0e90>"
            ]
          },
          "metadata": {},
          "execution_count": 51
        },
        {
          "output_type": "display_data",
          "data": {
            "image/png": "[encoded data removed]",
            "text/plain": [
              "<Figure size 432x288 with 2 Axes>"
            ]
          },
          "metadata": {
            "needs_background": "light"
          }
        }
      ]
    },
    {
      "cell_type": "code",
      "metadata": {
        "id": "Qa3paHWJ5x1l"
      },
      "source": [
        "X = train.drop(['price', 'Unnamed: 0'], axis=1)\n",
        "y = train.price"
      ],
      "execution_count": null,
      "outputs": []
    },
    {
      "cell_type": "code",
      "metadata": {
        "id": "-R_sIwX26uwf"
      },
      "source": [
        "sc = StandardScaler()\n",
        "X_sc = sc.fit_transform(X)"
      ],
      "execution_count": null,
      "outputs": []
    },
    {
      "cell_type": "code",
      "metadata": {
        "id": "s9PS76i46r1m"
      },
      "source": [
        "X_train, X_test, y_train, y_test = train_test_split(X, y, test_size=0.33,random_state=17)"
      ],
      "execution_count": null,
      "outputs": []
    },
    {
      "cell_type": "code",
      "metadata": {
        "colab": {
          "base_uri": "https://localhost:8080/"
        },
        "id": "T5wNgJM_6-Fa",
        "outputId": "0023089d-69e2-41ad-9111-fed34474213a"
      },
      "source": [
        "linear = LinearRegression()\n",
        "linear.fit(X_train, np.log(y_train))\n",
        "rmse(y_test, np.exp(linear.predict(X_test)))"
      ],
      "execution_count": null,
      "outputs": [
        {
          "output_type": "execute_result",
          "data": {
            "text/plain": [
              "1230.3646622352735"
            ]
          },
          "metadata": {},
          "execution_count": 80
        }
      ]
    },
    {
      "cell_type": "code",
      "metadata": {
        "id": "eXJehd9U7glo"
      },
      "source": [
        "sas = pd.read_csv('sample_submission.csv')"
      ],
      "execution_count": null,
      "outputs": []
    },
    {
      "cell_type": "code",
      "metadata": {
        "id": "8poVyIux8JWG"
      },
      "source": [
        "sas.price = np.exp(best_cb.predict(test.drop('Unnamed: 0',axis=1)))"
      ],
      "execution_count": null,
      "outputs": []
    },
    {
      "cell_type": "code",
      "metadata": {
        "id": "mFWE7QnS-PHg"
      },
      "source": [
        "sas.to_csv('5.csv',index=False)"
      ],
      "execution_count": null,
      "outputs": []
    },
    {
      "cell_type": "code",
      "metadata": {
        "colab": {
          "base_uri": "https://localhost:8080/"
        },
        "id": "TYwC-zOy8LFp",
        "outputId": "7d92f7cf-f4f1-4334-ef50-331948875091"
      },
      "source": [
        "!pip install catboost"
      ],
      "execution_count": null,
      "outputs": [
        {
          "output_type": "stream",
          "name": "stdout",
          "text": [
            "Collecting catboost\n",
            "  Downloading catboost-1.0.3-cp37-none-manylinux1_x86_64.whl (76.3 MB)\n",
            "\u001b[K     |████████████████████████████████| 76.3 MB 24 kB/s \n",
            "\u001b[?25hRequirement already satisfied: six in /usr/local/lib/python3.7/dist-packages (from catboost) (1.15.0)\n",
            "Requirement already satisfied: matplotlib in /usr/local/lib/python3.7/dist-packages (from catboost) (3.2.2)\n",
            "Requirement already satisfied: numpy>=1.16.0 in /usr/local/lib/python3.7/dist-packages (from catboost) (1.19.5)\n",
            "Requirement already satisfied: scipy in /usr/local/lib/python3.7/dist-packages (from catboost) (1.4.1)\n",
            "Requirement already satisfied: plotly in /usr/local/lib/python3.7/dist-packages (from catboost) (4.4.1)\n",
            "Requirement already satisfied: pandas>=0.24.0 in /usr/local/lib/python3.7/dist-packages (from catboost) (1.1.5)\n",
            "Requirement already satisfied: graphviz in /usr/local/lib/python3.7/dist-packages (from catboost) (0.10.1)\n",
            "Requirement already satisfied: pytz>=2017.2 in /usr/local/lib/python3.7/dist-packages (from pandas>=0.24.0->catboost) (2018.9)\n",
            "Requirement already satisfied: python-dateutil>=2.7.3 in /usr/local/lib/python3.7/dist-packages (from pandas>=0.24.0->catboost) (2.8.2)\n",
            "Requirement already satisfied: pyparsing!=2.0.4,!=2.1.2,!=2.1.6,>=2.0.1 in /usr/local/lib/python3.7/dist-packages (from matplotlib->catboost) (2.4.7)\n",
            "Requirement already satisfied: cycler>=0.10 in /usr/local/lib/python3.7/dist-packages (from matplotlib->catboost) (0.10.0)\n",
            "Requirement already satisfied: kiwisolver>=1.0.1 in /usr/local/lib/python3.7/dist-packages (from matplotlib->catboost) (1.3.2)\n",
            "Requirement already satisfied: retrying>=1.3.3 in /usr/local/lib/python3.7/dist-packages (from plotly->catboost) (1.3.3)\n",
            "Installing collected packages: catboost\n",
            "Successfully installed catboost-1.0.3\n"
          ]
        }
      ]
    },
    {
      "cell_type": "code",
      "metadata": {
        "colab": {
          "base_uri": "https://localhost:8080/"
        },
        "id": "AN2MWPOP8NdA",
        "outputId": "8142fe60-8a59-4164-bb67-8e302068619a"
      },
      "source": [
        "from catboost import CatBoostRegressor\n",
        "\n",
        "cb = CatBoostRegressor(verbose = 100)\n",
        "\n",
        "cb.fit(X, np.log(y))"
      ],
      "execution_count": null,
      "outputs": [
        {
          "output_type": "stream",
          "name": "stdout",
          "text": [
            "Learning rate set to 0.073427\n",
            "0:\tlearn: 0.9462389\ttotal: 10.6ms\tremaining: 10.6s\n",
            "100:\tlearn: 0.1113120\ttotal: 713ms\tremaining: 6.34s\n",
            "200:\tlearn: 0.0973552\ttotal: 1.38s\tremaining: 5.5s\n",
            "300:\tlearn: 0.0918001\ttotal: 2.05s\tremaining: 4.76s\n",
            "400:\tlearn: 0.0882924\ttotal: 2.72s\tremaining: 4.06s\n",
            "500:\tlearn: 0.0862739\ttotal: 3.36s\tremaining: 3.35s\n",
            "600:\tlearn: 0.0845792\ttotal: 4.02s\tremaining: 2.67s\n",
            "700:\tlearn: 0.0832770\ttotal: 4.68s\tremaining: 2s\n",
            "800:\tlearn: 0.0821627\ttotal: 5.33s\tremaining: 1.32s\n",
            "900:\tlearn: 0.0812134\ttotal: 6s\tremaining: 660ms\n",
            "999:\tlearn: 0.0803085\ttotal: 6.66s\tremaining: 0us\n"
          ]
        },
        {
          "output_type": "execute_result",
          "data": {
            "text/plain": [
              "<catboost.core.CatBoostRegressor at 0x7f701c749c90>"
            ]
          },
          "metadata": {},
          "execution_count": 62
        }
      ]
    },
    {
      "cell_type": "code",
      "metadata": {
        "colab": {
          "base_uri": "https://localhost:8080/"
        },
        "id": "9BOIaRqbXpoz",
        "outputId": "40c9a853-86d5-4ec0-835f-25f1c2dd1f8d"
      },
      "source": [
        "cb = CatBoostRegressor()\n",
        "gr_cb = GridSearchCV(cb, {'depth'         : [6,8,10, 12, 15, 18],\n",
        "                  'learning_rate' : [0.01, 0.05, 0.1],\n",
        "                  'iterations'    : [30, 50, 100, 150, 200, 300]\n",
        "                 }, n_jobs=-1, cv=5)\n",
        "gr_cb.fit(X_train, np.log(y_train))\n",
        "rmse(y_test, np.exp(gr_cb.predict(X_test)))\n"
      ],
      "execution_count": null,
      "outputs": [
        {
          "output_type": "stream",
          "name": "stderr",
          "text": [
            "/usr/local/lib/python3.7/dist-packages/joblib/externals/loky/process_executor.py:691: UserWarning: A worker stopped while some jobs were given to the executor. This can be caused by a too short worker timeout or by a memory leak.\n",
            "  \"timeout or by a memory leak.\", UserWarning\n"
          ]
        },
        {
          "output_type": "stream",
          "name": "stdout",
          "text": [
            "0:\tlearn: 0.9188935\ttotal: 38.5ms\tremaining: 11.5s\n",
            "1:\tlearn: 0.8359345\ttotal: 73.9ms\tremaining: 11s\n",
            "2:\tlearn: 0.7585450\ttotal: 143ms\tremaining: 14.1s\n",
            "3:\tlearn: 0.6889613\ttotal: 210ms\tremaining: 15.5s\n",
            "4:\tlearn: 0.6256039\ttotal: 279ms\tremaining: 16.4s\n",
            "5:\tlearn: 0.5714141\ttotal: 345ms\tremaining: 16.9s\n",
            "6:\tlearn: 0.5216567\ttotal: 411ms\tremaining: 17.2s\n",
            "7:\tlearn: 0.4768570\ttotal: 478ms\tremaining: 17.4s\n",
            "8:\tlearn: 0.4357469\ttotal: 546ms\tremaining: 17.7s\n",
            "9:\tlearn: 0.4003638\ttotal: 568ms\tremaining: 16.5s\n",
            "10:\tlearn: 0.3684958\ttotal: 632ms\tremaining: 16.6s\n",
            "11:\tlearn: 0.3397827\ttotal: 699ms\tremaining: 16.8s\n",
            "12:\tlearn: 0.3140407\ttotal: 770ms\tremaining: 17s\n",
            "13:\tlearn: 0.2904992\ttotal: 835ms\tremaining: 17.1s\n",
            "14:\tlearn: 0.2684375\ttotal: 900ms\tremaining: 17.1s\n",
            "15:\tlearn: 0.2500536\ttotal: 968ms\tremaining: 17.2s\n",
            "16:\tlearn: 0.2339230\ttotal: 1.03s\tremaining: 17.2s\n",
            "17:\tlearn: 0.2184734\ttotal: 1.11s\tremaining: 17.3s\n",
            "18:\tlearn: 0.2044195\ttotal: 1.17s\tremaining: 17.4s\n",
            "19:\tlearn: 0.1934589\ttotal: 1.24s\tremaining: 17.3s\n",
            "20:\tlearn: 0.1831868\ttotal: 1.3s\tremaining: 17.3s\n",
            "21:\tlearn: 0.1732731\ttotal: 1.37s\tremaining: 17.4s\n",
            "22:\tlearn: 0.1645535\ttotal: 1.44s\tremaining: 17.3s\n",
            "23:\tlearn: 0.1570184\ttotal: 1.51s\tremaining: 17.3s\n",
            "24:\tlearn: 0.1501844\ttotal: 1.57s\tremaining: 17.3s\n",
            "25:\tlearn: 0.1449863\ttotal: 1.64s\tremaining: 17.3s\n",
            "26:\tlearn: 0.1401117\ttotal: 1.71s\tremaining: 17.2s\n",
            "27:\tlearn: 0.1357975\ttotal: 1.79s\tremaining: 17.4s\n",
            "28:\tlearn: 0.1318002\ttotal: 1.85s\tremaining: 17.3s\n",
            "29:\tlearn: 0.1282458\ttotal: 1.92s\tremaining: 17.3s\n",
            "30:\tlearn: 0.1255855\ttotal: 1.99s\tremaining: 17.3s\n",
            "31:\tlearn: 0.1233594\ttotal: 2.06s\tremaining: 17.2s\n",
            "32:\tlearn: 0.1211381\ttotal: 2.13s\tremaining: 17.2s\n",
            "33:\tlearn: 0.1188247\ttotal: 2.2s\tremaining: 17.2s\n",
            "34:\tlearn: 0.1169388\ttotal: 2.27s\tremaining: 17.2s\n",
            "35:\tlearn: 0.1153794\ttotal: 2.34s\tremaining: 17.1s\n",
            "36:\tlearn: 0.1137204\ttotal: 2.41s\tremaining: 17.1s\n",
            "37:\tlearn: 0.1126308\ttotal: 2.47s\tremaining: 17.1s\n",
            "38:\tlearn: 0.1114681\ttotal: 2.54s\tremaining: 17s\n",
            "39:\tlearn: 0.1103647\ttotal: 2.61s\tremaining: 16.9s\n",
            "40:\tlearn: 0.1093290\ttotal: 2.68s\tremaining: 16.9s\n",
            "41:\tlearn: 0.1081270\ttotal: 2.75s\tremaining: 16.9s\n",
            "42:\tlearn: 0.1071672\ttotal: 2.82s\tremaining: 16.8s\n",
            "43:\tlearn: 0.1064091\ttotal: 2.89s\tremaining: 16.8s\n",
            "44:\tlearn: 0.1054839\ttotal: 2.96s\tremaining: 16.7s\n",
            "45:\tlearn: 0.1046978\ttotal: 3.02s\tremaining: 16.7s\n",
            "46:\tlearn: 0.1040436\ttotal: 3.09s\tremaining: 16.7s\n",
            "47:\tlearn: 0.1033857\ttotal: 3.17s\tremaining: 16.6s\n",
            "48:\tlearn: 0.1029132\ttotal: 3.23s\tremaining: 16.6s\n",
            "49:\tlearn: 0.1024941\ttotal: 3.3s\tremaining: 16.5s\n",
            "50:\tlearn: 0.1020482\ttotal: 3.37s\tremaining: 16.4s\n",
            "51:\tlearn: 0.1016872\ttotal: 3.43s\tremaining: 16.4s\n",
            "52:\tlearn: 0.1012283\ttotal: 3.5s\tremaining: 16.3s\n",
            "53:\tlearn: 0.1008158\ttotal: 3.57s\tremaining: 16.3s\n",
            "54:\tlearn: 0.1001779\ttotal: 3.64s\tremaining: 16.2s\n",
            "55:\tlearn: 0.0999424\ttotal: 3.7s\tremaining: 16.1s\n",
            "56:\tlearn: 0.0996253\ttotal: 3.78s\tremaining: 16.1s\n",
            "57:\tlearn: 0.0990630\ttotal: 3.85s\tremaining: 16.1s\n",
            "58:\tlearn: 0.0985994\ttotal: 3.91s\tremaining: 16s\n",
            "59:\tlearn: 0.0982308\ttotal: 3.98s\tremaining: 15.9s\n",
            "60:\tlearn: 0.0978307\ttotal: 4.05s\tremaining: 15.9s\n",
            "61:\tlearn: 0.0974619\ttotal: 4.12s\tremaining: 15.8s\n",
            "62:\tlearn: 0.0971650\ttotal: 4.18s\tremaining: 15.7s\n",
            "63:\tlearn: 0.0967756\ttotal: 4.25s\tremaining: 15.7s\n",
            "64:\tlearn: 0.0964196\ttotal: 4.32s\tremaining: 15.6s\n",
            "65:\tlearn: 0.0961135\ttotal: 4.38s\tremaining: 15.5s\n",
            "66:\tlearn: 0.0959546\ttotal: 4.45s\tremaining: 15.5s\n",
            "67:\tlearn: 0.0956814\ttotal: 4.52s\tremaining: 15.4s\n",
            "68:\tlearn: 0.0955165\ttotal: 4.59s\tremaining: 15.4s\n",
            "69:\tlearn: 0.0952053\ttotal: 4.63s\tremaining: 15.2s\n",
            "70:\tlearn: 0.0950526\ttotal: 4.7s\tremaining: 15.2s\n",
            "71:\tlearn: 0.0947969\ttotal: 4.77s\tremaining: 15.1s\n",
            "72:\tlearn: 0.0946646\ttotal: 4.84s\tremaining: 15.1s\n",
            "73:\tlearn: 0.0945134\ttotal: 4.91s\tremaining: 15s\n",
            "74:\tlearn: 0.0942506\ttotal: 4.98s\tremaining: 14.9s\n",
            "75:\tlearn: 0.0939946\ttotal: 5.04s\tremaining: 14.9s\n",
            "76:\tlearn: 0.0937667\ttotal: 5.11s\tremaining: 14.8s\n",
            "77:\tlearn: 0.0935191\ttotal: 5.18s\tremaining: 14.7s\n",
            "78:\tlearn: 0.0933816\ttotal: 5.24s\tremaining: 14.7s\n",
            "79:\tlearn: 0.0931815\ttotal: 5.31s\tremaining: 14.6s\n",
            "80:\tlearn: 0.0928831\ttotal: 5.38s\tremaining: 14.5s\n",
            "81:\tlearn: 0.0926091\ttotal: 5.44s\tremaining: 14.5s\n",
            "82:\tlearn: 0.0924507\ttotal: 5.51s\tremaining: 14.4s\n",
            "83:\tlearn: 0.0922773\ttotal: 5.58s\tremaining: 14.3s\n",
            "84:\tlearn: 0.0920515\ttotal: 5.64s\tremaining: 14.3s\n",
            "85:\tlearn: 0.0917670\ttotal: 5.71s\tremaining: 14.2s\n",
            "86:\tlearn: 0.0915895\ttotal: 5.78s\tremaining: 14.1s\n",
            "87:\tlearn: 0.0914517\ttotal: 5.85s\tremaining: 14.1s\n",
            "88:\tlearn: 0.0912706\ttotal: 5.92s\tremaining: 14s\n",
            "89:\tlearn: 0.0911266\ttotal: 5.98s\tremaining: 14s\n",
            "90:\tlearn: 0.0910301\ttotal: 6.04s\tremaining: 13.9s\n",
            "91:\tlearn: 0.0908315\ttotal: 6.11s\tremaining: 13.8s\n",
            "92:\tlearn: 0.0906237\ttotal: 6.18s\tremaining: 13.8s\n",
            "93:\tlearn: 0.0904657\ttotal: 6.25s\tremaining: 13.7s\n",
            "94:\tlearn: 0.0903046\ttotal: 6.32s\tremaining: 13.6s\n",
            "95:\tlearn: 0.0901658\ttotal: 6.38s\tremaining: 13.6s\n",
            "96:\tlearn: 0.0899849\ttotal: 6.45s\tremaining: 13.5s\n",
            "97:\tlearn: 0.0898878\ttotal: 6.52s\tremaining: 13.4s\n",
            "98:\tlearn: 0.0896856\ttotal: 6.59s\tremaining: 13.4s\n",
            "99:\tlearn: 0.0895075\ttotal: 6.65s\tremaining: 13.3s\n",
            "100:\tlearn: 0.0894090\ttotal: 6.72s\tremaining: 13.2s\n",
            "101:\tlearn: 0.0892312\ttotal: 6.8s\tremaining: 13.2s\n",
            "102:\tlearn: 0.0890459\ttotal: 6.86s\tremaining: 13.1s\n",
            "103:\tlearn: 0.0889670\ttotal: 6.93s\tremaining: 13.1s\n",
            "104:\tlearn: 0.0888253\ttotal: 7s\tremaining: 13s\n",
            "105:\tlearn: 0.0887170\ttotal: 7.07s\tremaining: 12.9s\n",
            "106:\tlearn: 0.0886248\ttotal: 7.14s\tremaining: 12.9s\n",
            "107:\tlearn: 0.0883901\ttotal: 7.2s\tremaining: 12.8s\n",
            "108:\tlearn: 0.0883022\ttotal: 7.27s\tremaining: 12.7s\n",
            "109:\tlearn: 0.0882103\ttotal: 7.34s\tremaining: 12.7s\n",
            "110:\tlearn: 0.0880992\ttotal: 7.41s\tremaining: 12.6s\n",
            "111:\tlearn: 0.0879356\ttotal: 7.47s\tremaining: 12.5s\n",
            "112:\tlearn: 0.0877495\ttotal: 7.54s\tremaining: 12.5s\n",
            "113:\tlearn: 0.0876164\ttotal: 7.61s\tremaining: 12.4s\n",
            "114:\tlearn: 0.0875463\ttotal: 7.68s\tremaining: 12.4s\n",
            "115:\tlearn: 0.0874278\ttotal: 7.75s\tremaining: 12.3s\n",
            "116:\tlearn: 0.0872643\ttotal: 7.83s\tremaining: 12.2s\n",
            "117:\tlearn: 0.0871973\ttotal: 7.89s\tremaining: 12.2s\n",
            "118:\tlearn: 0.0871244\ttotal: 7.96s\tremaining: 12.1s\n",
            "119:\tlearn: 0.0869239\ttotal: 8.03s\tremaining: 12s\n",
            "120:\tlearn: 0.0867661\ttotal: 8.1s\tremaining: 12s\n",
            "121:\tlearn: 0.0866125\ttotal: 8.17s\tremaining: 11.9s\n",
            "122:\tlearn: 0.0864714\ttotal: 8.23s\tremaining: 11.8s\n",
            "123:\tlearn: 0.0863843\ttotal: 8.3s\tremaining: 11.8s\n",
            "124:\tlearn: 0.0862484\ttotal: 8.37s\tremaining: 11.7s\n",
            "125:\tlearn: 0.0862041\ttotal: 8.44s\tremaining: 11.7s\n",
            "126:\tlearn: 0.0861064\ttotal: 8.51s\tremaining: 11.6s\n",
            "127:\tlearn: 0.0859992\ttotal: 8.57s\tremaining: 11.5s\n",
            "128:\tlearn: 0.0858792\ttotal: 8.65s\tremaining: 11.5s\n",
            "129:\tlearn: 0.0857164\ttotal: 8.71s\tremaining: 11.4s\n",
            "130:\tlearn: 0.0856112\ttotal: 8.79s\tremaining: 11.3s\n",
            "131:\tlearn: 0.0855319\ttotal: 8.87s\tremaining: 11.3s\n",
            "132:\tlearn: 0.0854310\ttotal: 8.94s\tremaining: 11.2s\n",
            "133:\tlearn: 0.0852761\ttotal: 9.01s\tremaining: 11.2s\n",
            "134:\tlearn: 0.0852001\ttotal: 9.07s\tremaining: 11.1s\n",
            "135:\tlearn: 0.0850554\ttotal: 9.14s\tremaining: 11s\n",
            "136:\tlearn: 0.0849625\ttotal: 9.21s\tremaining: 11s\n",
            "137:\tlearn: 0.0849602\ttotal: 9.22s\tremaining: 10.8s\n",
            "138:\tlearn: 0.0848723\ttotal: 9.29s\tremaining: 10.8s\n",
            "139:\tlearn: 0.0847625\ttotal: 9.36s\tremaining: 10.7s\n",
            "140:\tlearn: 0.0846949\ttotal: 9.43s\tremaining: 10.6s\n",
            "141:\tlearn: 0.0845810\ttotal: 9.49s\tremaining: 10.6s\n",
            "142:\tlearn: 0.0844679\ttotal: 9.56s\tremaining: 10.5s\n",
            "143:\tlearn: 0.0843797\ttotal: 9.62s\tremaining: 10.4s\n",
            "144:\tlearn: 0.0842941\ttotal: 9.69s\tremaining: 10.4s\n",
            "145:\tlearn: 0.0841889\ttotal: 9.76s\tremaining: 10.3s\n",
            "146:\tlearn: 0.0840554\ttotal: 9.83s\tremaining: 10.2s\n",
            "147:\tlearn: 0.0840013\ttotal: 9.9s\tremaining: 10.2s\n",
            "148:\tlearn: 0.0839100\ttotal: 9.97s\tremaining: 10.1s\n",
            "149:\tlearn: 0.0838372\ttotal: 10s\tremaining: 10s\n",
            "150:\tlearn: 0.0837587\ttotal: 10.1s\tremaining: 9.97s\n",
            "151:\tlearn: 0.0836637\ttotal: 10.2s\tremaining: 9.9s\n",
            "152:\tlearn: 0.0835623\ttotal: 10.2s\tremaining: 9.84s\n",
            "153:\tlearn: 0.0835091\ttotal: 10.3s\tremaining: 9.77s\n",
            "154:\tlearn: 0.0833782\ttotal: 10.4s\tremaining: 9.71s\n",
            "155:\tlearn: 0.0833069\ttotal: 10.4s\tremaining: 9.64s\n",
            "156:\tlearn: 0.0832129\ttotal: 10.5s\tremaining: 9.58s\n",
            "157:\tlearn: 0.0831016\ttotal: 10.6s\tremaining: 9.51s\n",
            "158:\tlearn: 0.0830246\ttotal: 10.7s\tremaining: 9.45s\n",
            "159:\tlearn: 0.0829107\ttotal: 10.7s\tremaining: 9.39s\n",
            "160:\tlearn: 0.0828353\ttotal: 10.8s\tremaining: 9.32s\n",
            "161:\tlearn: 0.0827321\ttotal: 10.9s\tremaining: 9.26s\n",
            "162:\tlearn: 0.0826084\ttotal: 10.9s\tremaining: 9.2s\n",
            "163:\tlearn: 0.0825545\ttotal: 11s\tremaining: 9.13s\n",
            "164:\tlearn: 0.0824926\ttotal: 11.1s\tremaining: 9.06s\n",
            "165:\tlearn: 0.0823924\ttotal: 11.1s\tremaining: 8.99s\n",
            "166:\tlearn: 0.0823207\ttotal: 11.2s\tremaining: 8.93s\n",
            "167:\tlearn: 0.0822314\ttotal: 11.3s\tremaining: 8.86s\n",
            "168:\tlearn: 0.0821636\ttotal: 11.3s\tremaining: 8.79s\n",
            "169:\tlearn: 0.0821036\ttotal: 11.4s\tremaining: 8.72s\n",
            "170:\tlearn: 0.0819836\ttotal: 11.5s\tremaining: 8.66s\n",
            "171:\tlearn: 0.0818905\ttotal: 11.5s\tremaining: 8.59s\n",
            "172:\tlearn: 0.0817968\ttotal: 11.6s\tremaining: 8.53s\n",
            "173:\tlearn: 0.0816765\ttotal: 11.7s\tremaining: 8.46s\n",
            "174:\tlearn: 0.0816149\ttotal: 11.8s\tremaining: 8.4s\n",
            "175:\tlearn: 0.0814985\ttotal: 11.8s\tremaining: 8.33s\n",
            "176:\tlearn: 0.0814260\ttotal: 11.9s\tremaining: 8.27s\n",
            "177:\tlearn: 0.0814246\ttotal: 11.9s\tremaining: 8.16s\n",
            "178:\tlearn: 0.0813380\ttotal: 12s\tremaining: 8.09s\n",
            "179:\tlearn: 0.0812899\ttotal: 12s\tremaining: 8.03s\n",
            "180:\tlearn: 0.0812352\ttotal: 12.1s\tremaining: 7.96s\n",
            "181:\tlearn: 0.0811377\ttotal: 12.2s\tremaining: 7.9s\n",
            "182:\tlearn: 0.0810300\ttotal: 12.2s\tremaining: 7.83s\n",
            "183:\tlearn: 0.0809562\ttotal: 12.3s\tremaining: 7.76s\n",
            "184:\tlearn: 0.0808792\ttotal: 12.4s\tremaining: 7.7s\n",
            "185:\tlearn: 0.0807887\ttotal: 12.5s\tremaining: 7.63s\n",
            "186:\tlearn: 0.0807120\ttotal: 12.5s\tremaining: 7.57s\n",
            "187:\tlearn: 0.0806384\ttotal: 12.6s\tremaining: 7.5s\n",
            "188:\tlearn: 0.0805844\ttotal: 12.7s\tremaining: 7.44s\n",
            "189:\tlearn: 0.0805242\ttotal: 12.7s\tremaining: 7.38s\n",
            "190:\tlearn: 0.0804485\ttotal: 12.8s\tremaining: 7.31s\n",
            "191:\tlearn: 0.0803912\ttotal: 12.9s\tremaining: 7.25s\n",
            "192:\tlearn: 0.0803196\ttotal: 13s\tremaining: 7.18s\n",
            "193:\tlearn: 0.0802674\ttotal: 13s\tremaining: 7.12s\n",
            "194:\tlearn: 0.0802030\ttotal: 13.1s\tremaining: 7.05s\n",
            "195:\tlearn: 0.0801044\ttotal: 13.2s\tremaining: 6.99s\n",
            "196:\tlearn: 0.0800390\ttotal: 13.2s\tremaining: 6.92s\n",
            "197:\tlearn: 0.0799597\ttotal: 13.3s\tremaining: 6.85s\n",
            "198:\tlearn: 0.0799580\ttotal: 13.3s\tremaining: 6.76s\n",
            "199:\tlearn: 0.0798736\ttotal: 13.4s\tremaining: 6.69s\n",
            "200:\tlearn: 0.0798294\ttotal: 13.5s\tremaining: 6.63s\n",
            "201:\tlearn: 0.0797851\ttotal: 13.5s\tremaining: 6.56s\n",
            "202:\tlearn: 0.0797408\ttotal: 13.6s\tremaining: 6.5s\n",
            "203:\tlearn: 0.0797349\ttotal: 13.6s\tremaining: 6.4s\n",
            "204:\tlearn: 0.0796431\ttotal: 13.7s\tremaining: 6.33s\n",
            "205:\tlearn: 0.0795721\ttotal: 13.7s\tremaining: 6.27s\n",
            "206:\tlearn: 0.0794858\ttotal: 13.8s\tremaining: 6.21s\n",
            "207:\tlearn: 0.0794336\ttotal: 13.9s\tremaining: 6.14s\n",
            "208:\tlearn: 0.0793718\ttotal: 14s\tremaining: 6.08s\n",
            "209:\tlearn: 0.0793310\ttotal: 14s\tremaining: 6.01s\n",
            "210:\tlearn: 0.0792527\ttotal: 14.1s\tremaining: 5.95s\n",
            "211:\tlearn: 0.0792049\ttotal: 14.2s\tremaining: 5.88s\n",
            "212:\tlearn: 0.0791475\ttotal: 14.2s\tremaining: 5.81s\n",
            "213:\tlearn: 0.0790669\ttotal: 14.3s\tremaining: 5.75s\n",
            "214:\tlearn: 0.0789875\ttotal: 14.4s\tremaining: 5.68s\n",
            "215:\tlearn: 0.0789579\ttotal: 14.4s\tremaining: 5.62s\n",
            "216:\tlearn: 0.0788992\ttotal: 14.5s\tremaining: 5.55s\n",
            "217:\tlearn: 0.0788525\ttotal: 14.6s\tremaining: 5.48s\n",
            "218:\tlearn: 0.0787740\ttotal: 14.6s\tremaining: 5.42s\n",
            "219:\tlearn: 0.0786569\ttotal: 14.7s\tremaining: 5.35s\n",
            "220:\tlearn: 0.0785998\ttotal: 14.8s\tremaining: 5.28s\n",
            "221:\tlearn: 0.0785542\ttotal: 14.9s\tremaining: 5.22s\n",
            "222:\tlearn: 0.0784881\ttotal: 14.9s\tremaining: 5.16s\n",
            "223:\tlearn: 0.0784297\ttotal: 15s\tremaining: 5.09s\n",
            "224:\tlearn: 0.0783937\ttotal: 15.1s\tremaining: 5.02s\n",
            "225:\tlearn: 0.0783127\ttotal: 15.1s\tremaining: 4.96s\n",
            "226:\tlearn: 0.0782582\ttotal: 15.2s\tremaining: 4.89s\n",
            "227:\tlearn: 0.0782125\ttotal: 15.3s\tremaining: 4.82s\n",
            "228:\tlearn: 0.0781234\ttotal: 15.3s\tremaining: 4.76s\n",
            "229:\tlearn: 0.0780398\ttotal: 15.4s\tremaining: 4.69s\n",
            "230:\tlearn: 0.0779930\ttotal: 15.5s\tremaining: 4.62s\n",
            "231:\tlearn: 0.0779314\ttotal: 15.6s\tremaining: 4.56s\n",
            "232:\tlearn: 0.0778810\ttotal: 15.6s\tremaining: 4.49s\n",
            "233:\tlearn: 0.0778014\ttotal: 15.7s\tremaining: 4.42s\n",
            "234:\tlearn: 0.0777732\ttotal: 15.8s\tremaining: 4.36s\n",
            "235:\tlearn: 0.0777074\ttotal: 15.8s\tremaining: 4.29s\n",
            "236:\tlearn: 0.0776255\ttotal: 15.9s\tremaining: 4.23s\n",
            "237:\tlearn: 0.0775655\ttotal: 16s\tremaining: 4.16s\n",
            "238:\tlearn: 0.0774747\ttotal: 16s\tremaining: 4.09s\n",
            "239:\tlearn: 0.0774175\ttotal: 16.1s\tremaining: 4.03s\n",
            "240:\tlearn: 0.0773305\ttotal: 16.2s\tremaining: 3.96s\n",
            "241:\tlearn: 0.0772699\ttotal: 16.3s\tremaining: 3.9s\n",
            "242:\tlearn: 0.0771828\ttotal: 16.3s\tremaining: 3.83s\n",
            "243:\tlearn: 0.0771437\ttotal: 16.4s\tremaining: 3.76s\n",
            "244:\tlearn: 0.0770742\ttotal: 16.5s\tremaining: 3.69s\n",
            "245:\tlearn: 0.0769719\ttotal: 16.5s\tremaining: 3.63s\n",
            "246:\tlearn: 0.0769156\ttotal: 16.6s\tremaining: 3.56s\n",
            "247:\tlearn: 0.0768811\ttotal: 16.7s\tremaining: 3.5s\n",
            "248:\tlearn: 0.0768222\ttotal: 16.7s\tremaining: 3.43s\n",
            "249:\tlearn: 0.0767434\ttotal: 16.8s\tremaining: 3.36s\n",
            "250:\tlearn: 0.0767027\ttotal: 16.9s\tremaining: 3.3s\n",
            "251:\tlearn: 0.0766288\ttotal: 17s\tremaining: 3.23s\n",
            "252:\tlearn: 0.0766272\ttotal: 17s\tremaining: 3.15s\n",
            "253:\tlearn: 0.0765754\ttotal: 17.1s\tremaining: 3.09s\n",
            "254:\tlearn: 0.0765299\ttotal: 17.1s\tremaining: 3.02s\n",
            "255:\tlearn: 0.0764737\ttotal: 17.2s\tremaining: 2.96s\n",
            "256:\tlearn: 0.0764690\ttotal: 17.3s\tremaining: 2.89s\n",
            "257:\tlearn: 0.0764327\ttotal: 17.3s\tremaining: 2.82s\n",
            "258:\tlearn: 0.0763825\ttotal: 17.4s\tremaining: 2.76s\n",
            "259:\tlearn: 0.0763700\ttotal: 17.4s\tremaining: 2.68s\n",
            "260:\tlearn: 0.0762985\ttotal: 17.5s\tremaining: 2.61s\n",
            "261:\tlearn: 0.0762981\ttotal: 17.5s\tremaining: 2.54s\n",
            "262:\tlearn: 0.0762485\ttotal: 17.6s\tremaining: 2.47s\n",
            "263:\tlearn: 0.0761579\ttotal: 17.6s\tremaining: 2.4s\n",
            "264:\tlearn: 0.0760784\ttotal: 17.7s\tremaining: 2.34s\n",
            "265:\tlearn: 0.0759799\ttotal: 17.8s\tremaining: 2.27s\n",
            "266:\tlearn: 0.0759200\ttotal: 17.9s\tremaining: 2.21s\n",
            "267:\tlearn: 0.0758578\ttotal: 17.9s\tremaining: 2.14s\n",
            "268:\tlearn: 0.0758227\ttotal: 18s\tremaining: 2.07s\n",
            "269:\tlearn: 0.0757612\ttotal: 18.1s\tremaining: 2.01s\n",
            "270:\tlearn: 0.0757121\ttotal: 18.1s\tremaining: 1.94s\n",
            "271:\tlearn: 0.0756457\ttotal: 18.2s\tremaining: 1.87s\n",
            "272:\tlearn: 0.0755956\ttotal: 18.3s\tremaining: 1.81s\n",
            "273:\tlearn: 0.0755375\ttotal: 18.3s\tremaining: 1.74s\n",
            "274:\tlearn: 0.0754836\ttotal: 18.4s\tremaining: 1.67s\n",
            "275:\tlearn: 0.0754106\ttotal: 18.5s\tremaining: 1.61s\n",
            "276:\tlearn: 0.0753539\ttotal: 18.5s\tremaining: 1.54s\n",
            "277:\tlearn: 0.0753056\ttotal: 18.6s\tremaining: 1.47s\n",
            "278:\tlearn: 0.0752232\ttotal: 18.7s\tremaining: 1.41s\n",
            "279:\tlearn: 0.0751400\ttotal: 18.8s\tremaining: 1.34s\n",
            "280:\tlearn: 0.0750853\ttotal: 18.8s\tremaining: 1.27s\n",
            "281:\tlearn: 0.0750573\ttotal: 18.9s\tremaining: 1.21s\n",
            "282:\tlearn: 0.0750564\ttotal: 18.9s\tremaining: 1.14s\n",
            "283:\tlearn: 0.0750152\ttotal: 19s\tremaining: 1.07s\n",
            "284:\tlearn: 0.0749605\ttotal: 19s\tremaining: 1s\n",
            "285:\tlearn: 0.0749040\ttotal: 19.1s\tremaining: 936ms\n",
            "286:\tlearn: 0.0748640\ttotal: 19.2s\tremaining: 869ms\n",
            "287:\tlearn: 0.0748119\ttotal: 19.3s\tremaining: 802ms\n",
            "288:\tlearn: 0.0747464\ttotal: 19.3s\tremaining: 736ms\n",
            "289:\tlearn: 0.0746872\ttotal: 19.4s\tremaining: 669ms\n",
            "290:\tlearn: 0.0746244\ttotal: 19.5s\tremaining: 602ms\n",
            "291:\tlearn: 0.0745558\ttotal: 19.5s\tremaining: 535ms\n",
            "292:\tlearn: 0.0744784\ttotal: 19.6s\tremaining: 468ms\n",
            "293:\tlearn: 0.0744101\ttotal: 19.7s\tremaining: 401ms\n",
            "294:\tlearn: 0.0743667\ttotal: 19.7s\tremaining: 335ms\n",
            "295:\tlearn: 0.0743033\ttotal: 19.8s\tremaining: 268ms\n",
            "296:\tlearn: 0.0742500\ttotal: 19.9s\tremaining: 201ms\n",
            "297:\tlearn: 0.0742068\ttotal: 20s\tremaining: 134ms\n",
            "298:\tlearn: 0.0741304\ttotal: 20s\tremaining: 67ms\n",
            "299:\tlearn: 0.0740650\ttotal: 20.1s\tremaining: 0us\n"
          ]
        },
        {
          "output_type": "execute_result",
          "data": {
            "text/plain": [
              "538.3292502428183"
            ]
          },
          "metadata": {},
          "execution_count": 88
        }
      ]
    },
    {
      "cell_type": "code",
      "metadata": {
        "colab": {
          "base_uri": "https://localhost:8080/"
        },
        "id": "D1I7mkqp92GC",
        "outputId": "ce9e693e-c46a-4e9f-8c48-80ff0714be14"
      },
      "source": [
        "best_cb = gr_cb.best_estimator_\n",
        "best_cb.fit(X, np.log(y))"
      ],
      "execution_count": null,
      "outputs": [
        {
          "output_type": "stream",
          "name": "stdout",
          "text": [
            "0:\tlearn: 0.9204000\ttotal: 40.8ms\tremaining: 12.2s\n",
            "1:\tlearn: 0.8357497\ttotal: 119ms\tremaining: 17.7s\n",
            "2:\tlearn: 0.7587684\ttotal: 190ms\tremaining: 18.8s\n",
            "3:\tlearn: 0.6910437\ttotal: 264ms\tremaining: 19.5s\n",
            "4:\tlearn: 0.6295452\ttotal: 334ms\tremaining: 19.7s\n",
            "5:\tlearn: 0.5750687\ttotal: 359ms\tremaining: 17.6s\n",
            "6:\tlearn: 0.5251661\ttotal: 434ms\tremaining: 18.2s\n",
            "7:\tlearn: 0.4785359\ttotal: 519ms\tremaining: 18.9s\n",
            "8:\tlearn: 0.4379460\ttotal: 590ms\tremaining: 19.1s\n",
            "9:\tlearn: 0.4010586\ttotal: 667ms\tremaining: 19.3s\n",
            "10:\tlearn: 0.3681794\ttotal: 742ms\tremaining: 19.5s\n",
            "11:\tlearn: 0.3380008\ttotal: 818ms\tremaining: 19.6s\n",
            "12:\tlearn: 0.3122733\ttotal: 892ms\tremaining: 19.7s\n",
            "13:\tlearn: 0.2884015\ttotal: 967ms\tremaining: 19.8s\n",
            "14:\tlearn: 0.2672588\ttotal: 1.04s\tremaining: 19.8s\n",
            "15:\tlearn: 0.2493593\ttotal: 1.11s\tremaining: 19.8s\n",
            "16:\tlearn: 0.2323621\ttotal: 1.19s\tremaining: 19.8s\n",
            "17:\tlearn: 0.2162120\ttotal: 1.26s\tremaining: 19.7s\n",
            "18:\tlearn: 0.2027557\ttotal: 1.33s\tremaining: 19.7s\n",
            "19:\tlearn: 0.1911531\ttotal: 1.41s\tremaining: 19.7s\n",
            "20:\tlearn: 0.1807526\ttotal: 1.48s\tremaining: 19.7s\n",
            "21:\tlearn: 0.1718387\ttotal: 1.56s\tremaining: 19.7s\n",
            "22:\tlearn: 0.1635290\ttotal: 1.64s\tremaining: 19.8s\n",
            "23:\tlearn: 0.1564085\ttotal: 1.72s\tremaining: 19.7s\n",
            "24:\tlearn: 0.1499982\ttotal: 1.79s\tremaining: 19.7s\n",
            "25:\tlearn: 0.1447089\ttotal: 1.87s\tremaining: 19.7s\n",
            "26:\tlearn: 0.1395709\ttotal: 1.94s\tremaining: 19.6s\n",
            "27:\tlearn: 0.1353206\ttotal: 2.01s\tremaining: 19.5s\n",
            "28:\tlearn: 0.1317066\ttotal: 2.08s\tremaining: 19.5s\n",
            "29:\tlearn: 0.1280175\ttotal: 2.15s\tremaining: 19.4s\n",
            "30:\tlearn: 0.1249432\ttotal: 2.22s\tremaining: 19.3s\n",
            "31:\tlearn: 0.1224842\ttotal: 2.3s\tremaining: 19.3s\n",
            "32:\tlearn: 0.1203964\ttotal: 2.37s\tremaining: 19.2s\n",
            "33:\tlearn: 0.1185104\ttotal: 2.44s\tremaining: 19.1s\n",
            "34:\tlearn: 0.1166476\ttotal: 2.53s\tremaining: 19.1s\n",
            "35:\tlearn: 0.1146829\ttotal: 2.6s\tremaining: 19.1s\n",
            "36:\tlearn: 0.1130215\ttotal: 2.67s\tremaining: 19s\n",
            "37:\tlearn: 0.1116511\ttotal: 2.75s\tremaining: 18.9s\n",
            "38:\tlearn: 0.1105598\ttotal: 2.84s\tremaining: 19s\n",
            "39:\tlearn: 0.1095102\ttotal: 2.91s\tremaining: 18.9s\n",
            "40:\tlearn: 0.1084333\ttotal: 2.99s\tremaining: 18.9s\n",
            "41:\tlearn: 0.1074557\ttotal: 3.06s\tremaining: 18.8s\n",
            "42:\tlearn: 0.1067455\ttotal: 3.14s\tremaining: 18.7s\n",
            "43:\tlearn: 0.1061014\ttotal: 3.21s\tremaining: 18.7s\n",
            "44:\tlearn: 0.1053738\ttotal: 3.28s\tremaining: 18.6s\n",
            "45:\tlearn: 0.1046721\ttotal: 3.35s\tremaining: 18.5s\n",
            "46:\tlearn: 0.1039945\ttotal: 3.43s\tremaining: 18.5s\n",
            "47:\tlearn: 0.1033278\ttotal: 3.5s\tremaining: 18.4s\n",
            "48:\tlearn: 0.1028803\ttotal: 3.58s\tremaining: 18.3s\n",
            "49:\tlearn: 0.1023700\ttotal: 3.66s\tremaining: 18.3s\n",
            "50:\tlearn: 0.1019541\ttotal: 3.73s\tremaining: 18.2s\n",
            "51:\tlearn: 0.1015835\ttotal: 3.8s\tremaining: 18.1s\n",
            "52:\tlearn: 0.1010172\ttotal: 3.88s\tremaining: 18.1s\n",
            "53:\tlearn: 0.1006198\ttotal: 3.95s\tremaining: 18s\n",
            "54:\tlearn: 0.1000583\ttotal: 4.02s\tremaining: 17.9s\n",
            "55:\tlearn: 0.0996429\ttotal: 4.1s\tremaining: 17.9s\n",
            "56:\tlearn: 0.0993136\ttotal: 4.17s\tremaining: 17.8s\n",
            "57:\tlearn: 0.0988103\ttotal: 4.24s\tremaining: 17.7s\n",
            "58:\tlearn: 0.0985067\ttotal: 4.32s\tremaining: 17.6s\n",
            "59:\tlearn: 0.0982229\ttotal: 4.39s\tremaining: 17.6s\n",
            "60:\tlearn: 0.0978150\ttotal: 4.46s\tremaining: 17.5s\n",
            "61:\tlearn: 0.0975774\ttotal: 4.54s\tremaining: 17.4s\n",
            "62:\tlearn: 0.0972555\ttotal: 4.62s\tremaining: 17.4s\n",
            "63:\tlearn: 0.0967278\ttotal: 4.69s\tremaining: 17.3s\n",
            "64:\tlearn: 0.0963718\ttotal: 4.77s\tremaining: 17.2s\n",
            "65:\tlearn: 0.0960666\ttotal: 4.84s\tremaining: 17.2s\n",
            "66:\tlearn: 0.0958802\ttotal: 4.91s\tremaining: 17.1s\n",
            "67:\tlearn: 0.0956308\ttotal: 4.99s\tremaining: 17s\n",
            "68:\tlearn: 0.0953262\ttotal: 5.07s\tremaining: 17s\n",
            "69:\tlearn: 0.0950121\ttotal: 5.14s\tremaining: 16.9s\n",
            "70:\tlearn: 0.0947341\ttotal: 5.21s\tremaining: 16.8s\n",
            "71:\tlearn: 0.0945149\ttotal: 5.28s\tremaining: 16.7s\n",
            "72:\tlearn: 0.0943216\ttotal: 5.36s\tremaining: 16.7s\n",
            "73:\tlearn: 0.0941769\ttotal: 5.43s\tremaining: 16.6s\n",
            "74:\tlearn: 0.0940218\ttotal: 5.5s\tremaining: 16.5s\n",
            "75:\tlearn: 0.0937586\ttotal: 5.58s\tremaining: 16.5s\n",
            "76:\tlearn: 0.0935292\ttotal: 5.66s\tremaining: 16.4s\n",
            "77:\tlearn: 0.0933121\ttotal: 5.73s\tremaining: 16.3s\n",
            "78:\tlearn: 0.0931767\ttotal: 5.81s\tremaining: 16.2s\n",
            "79:\tlearn: 0.0930330\ttotal: 5.88s\tremaining: 16.2s\n",
            "80:\tlearn: 0.0928189\ttotal: 5.95s\tremaining: 16.1s\n",
            "81:\tlearn: 0.0926232\ttotal: 6.02s\tremaining: 16s\n",
            "82:\tlearn: 0.0924583\ttotal: 6.1s\tremaining: 15.9s\n",
            "83:\tlearn: 0.0923301\ttotal: 6.17s\tremaining: 15.9s\n",
            "84:\tlearn: 0.0921720\ttotal: 6.24s\tremaining: 15.8s\n",
            "85:\tlearn: 0.0920269\ttotal: 6.32s\tremaining: 15.7s\n",
            "86:\tlearn: 0.0919515\ttotal: 6.39s\tremaining: 15.6s\n",
            "87:\tlearn: 0.0916446\ttotal: 6.46s\tremaining: 15.6s\n",
            "88:\tlearn: 0.0915442\ttotal: 6.54s\tremaining: 15.5s\n",
            "89:\tlearn: 0.0913445\ttotal: 6.62s\tremaining: 15.4s\n",
            "90:\tlearn: 0.0912151\ttotal: 6.69s\tremaining: 15.4s\n",
            "91:\tlearn: 0.0909956\ttotal: 6.76s\tremaining: 15.3s\n",
            "92:\tlearn: 0.0908558\ttotal: 6.84s\tremaining: 15.2s\n",
            "93:\tlearn: 0.0907807\ttotal: 6.91s\tremaining: 15.1s\n",
            "94:\tlearn: 0.0907018\ttotal: 6.98s\tremaining: 15.1s\n",
            "95:\tlearn: 0.0905912\ttotal: 7.06s\tremaining: 15s\n",
            "96:\tlearn: 0.0904728\ttotal: 7.13s\tremaining: 14.9s\n",
            "97:\tlearn: 0.0902555\ttotal: 7.2s\tremaining: 14.8s\n",
            "98:\tlearn: 0.0901010\ttotal: 7.27s\tremaining: 14.8s\n",
            "99:\tlearn: 0.0899853\ttotal: 7.34s\tremaining: 14.7s\n",
            "100:\tlearn: 0.0898737\ttotal: 7.42s\tremaining: 14.6s\n",
            "101:\tlearn: 0.0897752\ttotal: 7.49s\tremaining: 14.5s\n",
            "102:\tlearn: 0.0895520\ttotal: 7.56s\tremaining: 14.5s\n",
            "103:\tlearn: 0.0893766\ttotal: 7.64s\tremaining: 14.4s\n",
            "104:\tlearn: 0.0892467\ttotal: 7.71s\tremaining: 14.3s\n",
            "105:\tlearn: 0.0891356\ttotal: 7.79s\tremaining: 14.3s\n",
            "106:\tlearn: 0.0890391\ttotal: 7.87s\tremaining: 14.2s\n",
            "107:\tlearn: 0.0889414\ttotal: 7.94s\tremaining: 14.1s\n",
            "108:\tlearn: 0.0888826\ttotal: 8.01s\tremaining: 14s\n",
            "109:\tlearn: 0.0886780\ttotal: 8.09s\tremaining: 14s\n",
            "110:\tlearn: 0.0884541\ttotal: 8.16s\tremaining: 13.9s\n",
            "111:\tlearn: 0.0882902\ttotal: 8.23s\tremaining: 13.8s\n",
            "112:\tlearn: 0.0882086\ttotal: 8.3s\tremaining: 13.7s\n",
            "113:\tlearn: 0.0881171\ttotal: 8.37s\tremaining: 13.7s\n",
            "114:\tlearn: 0.0880125\ttotal: 8.45s\tremaining: 13.6s\n",
            "115:\tlearn: 0.0878946\ttotal: 8.52s\tremaining: 13.5s\n",
            "116:\tlearn: 0.0877287\ttotal: 8.6s\tremaining: 13.4s\n",
            "117:\tlearn: 0.0875985\ttotal: 8.67s\tremaining: 13.4s\n",
            "118:\tlearn: 0.0875181\ttotal: 8.75s\tremaining: 13.3s\n",
            "119:\tlearn: 0.0874406\ttotal: 8.82s\tremaining: 13.2s\n",
            "120:\tlearn: 0.0873518\ttotal: 8.89s\tremaining: 13.1s\n",
            "121:\tlearn: 0.0872158\ttotal: 8.96s\tremaining: 13.1s\n",
            "122:\tlearn: 0.0871361\ttotal: 9.04s\tremaining: 13s\n",
            "123:\tlearn: 0.0869542\ttotal: 9.11s\tremaining: 12.9s\n",
            "124:\tlearn: 0.0868661\ttotal: 9.18s\tremaining: 12.9s\n",
            "125:\tlearn: 0.0867944\ttotal: 9.25s\tremaining: 12.8s\n",
            "126:\tlearn: 0.0867069\ttotal: 9.32s\tremaining: 12.7s\n",
            "127:\tlearn: 0.0865776\ttotal: 9.39s\tremaining: 12.6s\n",
            "128:\tlearn: 0.0864606\ttotal: 9.46s\tremaining: 12.5s\n",
            "129:\tlearn: 0.0863783\ttotal: 9.54s\tremaining: 12.5s\n",
            "130:\tlearn: 0.0861803\ttotal: 9.62s\tremaining: 12.4s\n",
            "131:\tlearn: 0.0861011\ttotal: 9.69s\tremaining: 12.3s\n",
            "132:\tlearn: 0.0859605\ttotal: 9.77s\tremaining: 12.3s\n",
            "133:\tlearn: 0.0858333\ttotal: 9.84s\tremaining: 12.2s\n",
            "134:\tlearn: 0.0857643\ttotal: 9.91s\tremaining: 12.1s\n",
            "135:\tlearn: 0.0856693\ttotal: 9.99s\tremaining: 12s\n",
            "136:\tlearn: 0.0855901\ttotal: 10.1s\tremaining: 12s\n",
            "137:\tlearn: 0.0854815\ttotal: 10.1s\tremaining: 11.9s\n",
            "138:\tlearn: 0.0853988\ttotal: 10.2s\tremaining: 11.8s\n",
            "139:\tlearn: 0.0852999\ttotal: 10.3s\tremaining: 11.8s\n",
            "140:\tlearn: 0.0852317\ttotal: 10.4s\tremaining: 11.7s\n",
            "141:\tlearn: 0.0851738\ttotal: 10.4s\tremaining: 11.6s\n",
            "142:\tlearn: 0.0850669\ttotal: 10.5s\tremaining: 11.5s\n",
            "143:\tlearn: 0.0849893\ttotal: 10.6s\tremaining: 11.5s\n",
            "144:\tlearn: 0.0849078\ttotal: 10.7s\tremaining: 11.4s\n",
            "145:\tlearn: 0.0848028\ttotal: 10.7s\tremaining: 11.3s\n",
            "146:\tlearn: 0.0846655\ttotal: 10.8s\tremaining: 11.3s\n",
            "147:\tlearn: 0.0846198\ttotal: 10.9s\tremaining: 11.2s\n",
            "148:\tlearn: 0.0845976\ttotal: 10.9s\tremaining: 11.1s\n",
            "149:\tlearn: 0.0845334\ttotal: 11s\tremaining: 11s\n",
            "150:\tlearn: 0.0844217\ttotal: 11.1s\tremaining: 10.9s\n",
            "151:\tlearn: 0.0843236\ttotal: 11.1s\tremaining: 10.8s\n",
            "152:\tlearn: 0.0842375\ttotal: 11.2s\tremaining: 10.8s\n",
            "153:\tlearn: 0.0841560\ttotal: 11.3s\tremaining: 10.7s\n",
            "154:\tlearn: 0.0841107\ttotal: 11.4s\tremaining: 10.6s\n",
            "155:\tlearn: 0.0840371\ttotal: 11.4s\tremaining: 10.6s\n",
            "156:\tlearn: 0.0839199\ttotal: 11.5s\tremaining: 10.5s\n",
            "157:\tlearn: 0.0838270\ttotal: 11.6s\tremaining: 10.4s\n",
            "158:\tlearn: 0.0837291\ttotal: 11.7s\tremaining: 10.3s\n",
            "159:\tlearn: 0.0836568\ttotal: 11.7s\tremaining: 10.3s\n",
            "160:\tlearn: 0.0835876\ttotal: 11.8s\tremaining: 10.2s\n",
            "161:\tlearn: 0.0835014\ttotal: 11.9s\tremaining: 10.1s\n",
            "162:\tlearn: 0.0834270\ttotal: 11.9s\tremaining: 10s\n",
            "163:\tlearn: 0.0833166\ttotal: 12s\tremaining: 9.96s\n",
            "164:\tlearn: 0.0832551\ttotal: 12.1s\tremaining: 9.89s\n",
            "165:\tlearn: 0.0831801\ttotal: 12.2s\tremaining: 9.81s\n",
            "166:\tlearn: 0.0831110\ttotal: 12.2s\tremaining: 9.74s\n",
            "167:\tlearn: 0.0830406\ttotal: 12.3s\tremaining: 9.66s\n",
            "168:\tlearn: 0.0829654\ttotal: 12.4s\tremaining: 9.59s\n",
            "169:\tlearn: 0.0829303\ttotal: 12.4s\tremaining: 9.51s\n",
            "170:\tlearn: 0.0828966\ttotal: 12.5s\tremaining: 9.44s\n",
            "171:\tlearn: 0.0828187\ttotal: 12.6s\tremaining: 9.37s\n",
            "172:\tlearn: 0.0827647\ttotal: 12.7s\tremaining: 9.29s\n",
            "173:\tlearn: 0.0827022\ttotal: 12.7s\tremaining: 9.22s\n",
            "174:\tlearn: 0.0826306\ttotal: 12.8s\tremaining: 9.15s\n",
            "175:\tlearn: 0.0825832\ttotal: 12.9s\tremaining: 9.08s\n",
            "176:\tlearn: 0.0825186\ttotal: 13s\tremaining: 9.01s\n",
            "177:\tlearn: 0.0824104\ttotal: 13s\tremaining: 8.93s\n",
            "178:\tlearn: 0.0823423\ttotal: 13.1s\tremaining: 8.87s\n",
            "179:\tlearn: 0.0822532\ttotal: 13.2s\tremaining: 8.8s\n",
            "180:\tlearn: 0.0821800\ttotal: 13.3s\tremaining: 8.72s\n",
            "181:\tlearn: 0.0820730\ttotal: 13.3s\tremaining: 8.64s\n",
            "182:\tlearn: 0.0820292\ttotal: 13.4s\tremaining: 8.57s\n",
            "183:\tlearn: 0.0819629\ttotal: 13.5s\tremaining: 8.5s\n",
            "184:\tlearn: 0.0819120\ttotal: 13.5s\tremaining: 8.42s\n",
            "185:\tlearn: 0.0818068\ttotal: 13.6s\tremaining: 8.35s\n",
            "186:\tlearn: 0.0817441\ttotal: 13.7s\tremaining: 8.28s\n",
            "187:\tlearn: 0.0816593\ttotal: 13.8s\tremaining: 8.21s\n",
            "188:\tlearn: 0.0816024\ttotal: 13.9s\tremaining: 8.14s\n",
            "189:\tlearn: 0.0815328\ttotal: 13.9s\tremaining: 8.06s\n",
            "190:\tlearn: 0.0814943\ttotal: 14s\tremaining: 7.99s\n",
            "191:\tlearn: 0.0814319\ttotal: 14.1s\tremaining: 7.91s\n",
            "192:\tlearn: 0.0813419\ttotal: 14.1s\tremaining: 7.84s\n",
            "193:\tlearn: 0.0812862\ttotal: 14.2s\tremaining: 7.76s\n",
            "194:\tlearn: 0.0812819\ttotal: 14.3s\tremaining: 7.69s\n",
            "195:\tlearn: 0.0812402\ttotal: 14.3s\tremaining: 7.61s\n",
            "196:\tlearn: 0.0811800\ttotal: 14.4s\tremaining: 7.54s\n",
            "197:\tlearn: 0.0810996\ttotal: 14.5s\tremaining: 7.47s\n",
            "198:\tlearn: 0.0810461\ttotal: 14.6s\tremaining: 7.39s\n",
            "199:\tlearn: 0.0809748\ttotal: 14.6s\tremaining: 7.32s\n",
            "200:\tlearn: 0.0809077\ttotal: 14.7s\tremaining: 7.25s\n",
            "201:\tlearn: 0.0808504\ttotal: 14.8s\tremaining: 7.17s\n",
            "202:\tlearn: 0.0808054\ttotal: 14.9s\tremaining: 7.1s\n",
            "203:\tlearn: 0.0807591\ttotal: 14.9s\tremaining: 7.03s\n",
            "204:\tlearn: 0.0807059\ttotal: 15s\tremaining: 6.95s\n",
            "205:\tlearn: 0.0806544\ttotal: 15.1s\tremaining: 6.88s\n",
            "206:\tlearn: 0.0806165\ttotal: 15.1s\tremaining: 6.8s\n",
            "207:\tlearn: 0.0805712\ttotal: 15.2s\tremaining: 6.73s\n",
            "208:\tlearn: 0.0805275\ttotal: 15.3s\tremaining: 6.65s\n",
            "209:\tlearn: 0.0805133\ttotal: 15.4s\tremaining: 6.58s\n",
            "210:\tlearn: 0.0804523\ttotal: 15.4s\tremaining: 6.51s\n",
            "211:\tlearn: 0.0803979\ttotal: 15.5s\tremaining: 6.43s\n",
            "212:\tlearn: 0.0803321\ttotal: 15.6s\tremaining: 6.36s\n",
            "213:\tlearn: 0.0802993\ttotal: 15.6s\tremaining: 6.29s\n",
            "214:\tlearn: 0.0802140\ttotal: 15.7s\tremaining: 6.21s\n",
            "215:\tlearn: 0.0801367\ttotal: 15.8s\tremaining: 6.14s\n",
            "216:\tlearn: 0.0800882\ttotal: 15.9s\tremaining: 6.07s\n",
            "217:\tlearn: 0.0800336\ttotal: 15.9s\tremaining: 5.99s\n",
            "218:\tlearn: 0.0799950\ttotal: 16s\tremaining: 5.92s\n",
            "219:\tlearn: 0.0799577\ttotal: 16.1s\tremaining: 5.85s\n",
            "220:\tlearn: 0.0799044\ttotal: 16.2s\tremaining: 5.78s\n",
            "221:\tlearn: 0.0798611\ttotal: 16.2s\tremaining: 5.7s\n",
            "222:\tlearn: 0.0797998\ttotal: 16.3s\tremaining: 5.63s\n",
            "223:\tlearn: 0.0797416\ttotal: 16.4s\tremaining: 5.56s\n",
            "224:\tlearn: 0.0796842\ttotal: 16.5s\tremaining: 5.49s\n",
            "225:\tlearn: 0.0796346\ttotal: 16.5s\tremaining: 5.41s\n",
            "226:\tlearn: 0.0795650\ttotal: 16.6s\tremaining: 5.34s\n",
            "227:\tlearn: 0.0794991\ttotal: 16.7s\tremaining: 5.27s\n",
            "228:\tlearn: 0.0794324\ttotal: 16.8s\tremaining: 5.2s\n",
            "229:\tlearn: 0.0793429\ttotal: 16.8s\tremaining: 5.12s\n",
            "230:\tlearn: 0.0792638\ttotal: 16.9s\tremaining: 5.05s\n",
            "231:\tlearn: 0.0791627\ttotal: 17s\tremaining: 4.97s\n",
            "232:\tlearn: 0.0791089\ttotal: 17s\tremaining: 4.9s\n",
            "233:\tlearn: 0.0790786\ttotal: 17.1s\tremaining: 4.83s\n",
            "234:\tlearn: 0.0790204\ttotal: 17.2s\tremaining: 4.75s\n",
            "235:\tlearn: 0.0789819\ttotal: 17.3s\tremaining: 4.68s\n",
            "236:\tlearn: 0.0789199\ttotal: 17.3s\tremaining: 4.61s\n",
            "237:\tlearn: 0.0788391\ttotal: 17.4s\tremaining: 4.54s\n",
            "238:\tlearn: 0.0787797\ttotal: 17.5s\tremaining: 4.46s\n",
            "239:\tlearn: 0.0787196\ttotal: 17.6s\tremaining: 4.39s\n",
            "240:\tlearn: 0.0786727\ttotal: 17.6s\tremaining: 4.32s\n",
            "241:\tlearn: 0.0786207\ttotal: 17.7s\tremaining: 4.25s\n",
            "242:\tlearn: 0.0785342\ttotal: 17.8s\tremaining: 4.17s\n",
            "243:\tlearn: 0.0784852\ttotal: 17.9s\tremaining: 4.1s\n",
            "244:\tlearn: 0.0784446\ttotal: 17.9s\tremaining: 4.03s\n",
            "245:\tlearn: 0.0784147\ttotal: 18s\tremaining: 3.95s\n",
            "246:\tlearn: 0.0783785\ttotal: 18.1s\tremaining: 3.88s\n",
            "247:\tlearn: 0.0783434\ttotal: 18.2s\tremaining: 3.81s\n",
            "248:\tlearn: 0.0782920\ttotal: 18.2s\tremaining: 3.73s\n",
            "249:\tlearn: 0.0782370\ttotal: 18.3s\tremaining: 3.66s\n",
            "250:\tlearn: 0.0782088\ttotal: 18.4s\tremaining: 3.59s\n",
            "251:\tlearn: 0.0781584\ttotal: 18.5s\tremaining: 3.51s\n",
            "252:\tlearn: 0.0781098\ttotal: 18.5s\tremaining: 3.44s\n",
            "253:\tlearn: 0.0780448\ttotal: 18.6s\tremaining: 3.37s\n",
            "254:\tlearn: 0.0779922\ttotal: 18.7s\tremaining: 3.29s\n",
            "255:\tlearn: 0.0779280\ttotal: 18.8s\tremaining: 3.22s\n",
            "256:\tlearn: 0.0778635\ttotal: 18.8s\tremaining: 3.15s\n",
            "257:\tlearn: 0.0778079\ttotal: 18.9s\tremaining: 3.08s\n",
            "258:\tlearn: 0.0777653\ttotal: 19s\tremaining: 3s\n",
            "259:\tlearn: 0.0777432\ttotal: 19s\tremaining: 2.93s\n",
            "260:\tlearn: 0.0777006\ttotal: 19.1s\tremaining: 2.85s\n",
            "261:\tlearn: 0.0776536\ttotal: 19.2s\tremaining: 2.78s\n",
            "262:\tlearn: 0.0776020\ttotal: 19.3s\tremaining: 2.71s\n",
            "263:\tlearn: 0.0775506\ttotal: 19.3s\tremaining: 2.63s\n",
            "264:\tlearn: 0.0775109\ttotal: 19.4s\tremaining: 2.56s\n",
            "265:\tlearn: 0.0774550\ttotal: 19.5s\tremaining: 2.49s\n",
            "266:\tlearn: 0.0774151\ttotal: 19.5s\tremaining: 2.42s\n",
            "267:\tlearn: 0.0773614\ttotal: 19.6s\tremaining: 2.34s\n",
            "268:\tlearn: 0.0773107\ttotal: 19.7s\tremaining: 2.27s\n",
            "269:\tlearn: 0.0772678\ttotal: 19.8s\tremaining: 2.2s\n",
            "270:\tlearn: 0.0772125\ttotal: 19.8s\tremaining: 2.12s\n",
            "271:\tlearn: 0.0771724\ttotal: 19.9s\tremaining: 2.05s\n",
            "272:\tlearn: 0.0771504\ttotal: 20s\tremaining: 1.98s\n",
            "273:\tlearn: 0.0771215\ttotal: 20.1s\tremaining: 1.9s\n",
            "274:\tlearn: 0.0770550\ttotal: 20.1s\tremaining: 1.83s\n",
            "275:\tlearn: 0.0770155\ttotal: 20.2s\tremaining: 1.76s\n",
            "276:\tlearn: 0.0769854\ttotal: 20.3s\tremaining: 1.68s\n",
            "277:\tlearn: 0.0769276\ttotal: 20.4s\tremaining: 1.61s\n",
            "278:\tlearn: 0.0768700\ttotal: 20.4s\tremaining: 1.54s\n",
            "279:\tlearn: 0.0768088\ttotal: 20.5s\tremaining: 1.46s\n",
            "280:\tlearn: 0.0767691\ttotal: 20.6s\tremaining: 1.39s\n",
            "281:\tlearn: 0.0767137\ttotal: 20.7s\tremaining: 1.32s\n",
            "282:\tlearn: 0.0766530\ttotal: 20.7s\tremaining: 1.25s\n",
            "283:\tlearn: 0.0766172\ttotal: 20.8s\tremaining: 1.17s\n",
            "284:\tlearn: 0.0765292\ttotal: 20.9s\tremaining: 1.1s\n",
            "285:\tlearn: 0.0764891\ttotal: 20.9s\tremaining: 1.02s\n",
            "286:\tlearn: 0.0764339\ttotal: 21s\tremaining: 952ms\n",
            "287:\tlearn: 0.0764050\ttotal: 21.1s\tremaining: 879ms\n",
            "288:\tlearn: 0.0763590\ttotal: 21.2s\tremaining: 806ms\n",
            "289:\tlearn: 0.0763313\ttotal: 21.2s\tremaining: 732ms\n",
            "290:\tlearn: 0.0763079\ttotal: 21.3s\tremaining: 659ms\n",
            "291:\tlearn: 0.0762272\ttotal: 21.4s\tremaining: 586ms\n",
            "292:\tlearn: 0.0762049\ttotal: 21.5s\tremaining: 513ms\n",
            "293:\tlearn: 0.0761732\ttotal: 21.5s\tremaining: 439ms\n",
            "294:\tlearn: 0.0761317\ttotal: 21.6s\tremaining: 366ms\n",
            "295:\tlearn: 0.0760919\ttotal: 21.7s\tremaining: 293ms\n",
            "296:\tlearn: 0.0760254\ttotal: 21.8s\tremaining: 220ms\n",
            "297:\tlearn: 0.0759864\ttotal: 21.8s\tremaining: 147ms\n",
            "298:\tlearn: 0.0759248\ttotal: 21.9s\tremaining: 73.2ms\n",
            "299:\tlearn: 0.0758592\ttotal: 22s\tremaining: 0us\n"
          ]
        },
        {
          "output_type": "execute_result",
          "data": {
            "text/plain": [
              "<catboost.core.CatBoostRegressor at 0x7f700613bb10>"
            ]
          },
          "metadata": {},
          "execution_count": 90
        }
      ]
    },
    {
      "cell_type": "code",
      "metadata": {
        "colab": {
          "base_uri": "https://localhost:8080/"
        },
        "id": "U_dq7ccdIbOp",
        "outputId": "e75b6b78-d4de-4c45-e097-877cad6beb54"
      },
      "source": [
        "gr_cb.best_params_"
      ],
      "execution_count": null,
      "outputs": [
        {
          "output_type": "execute_result",
          "data": {
            "text/plain": [
              "{'depth': 12, 'iterations': 300, 'learning_rate': 0.1}"
            ]
          },
          "metadata": {},
          "execution_count": 89
        }
      ]
    }
  ]
}