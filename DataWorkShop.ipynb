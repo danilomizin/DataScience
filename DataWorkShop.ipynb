{
  "nbformat": 4,
  "nbformat_minor": 5,
  "metadata": {
    "kernelspec": {
      "display_name": "Python 3",
      "language": "python",
      "name": "python3"
    },
    "language_info": {
      "codemirror_mode": {
        "name": "ipython",
        "version": 3
      },
      "file_extension": ".py",
      "mimetype": "text/x-python",
      "name": "python",
      "nbconvert_exporter": "python",
      "pygments_lexer": "ipython3",
      "version": "3.8.6"
    },
    "colab": {
      "name": "Untitled.ipynb",
      "provenance": []
    }
  },
  "cells": [
    {
      "cell_type": "code",
      "metadata": {
        "id": "eight-shoulder"
      },
      "source": [
        "import pandas as pd\n",
        "import numpy as np\n",
        "import helper as h\n",
        "\n",
        "from sklearn.preprocessing import LabelEncoder\n",
        "from sklearn.metrics import mean_absolute_error\n",
        "from sklearn.dummy import DummyRegressor\n",
        "from sklearn.neighbors import KNeighborsRegressor\n",
        "from sklearn.ensemble import RandomForestRegressor\n",
        "from sklearn.model_selection import GridSearchCV\n",
        "import catboost as cb\n",
        "from sklearn.model_selection import train_test_split\n",
        "from sklearn.linear_model import LinearRegression\n",
        "from sklearn.preprocessing import StandardScaler\n",
        "from sklearn.decomposition import PCA\n",
        "from sklearn.ensemble import GradientBoostingRegressor\n",
        "import xgboost as xgb"
      ],
      "id": "eight-shoulder",
      "execution_count": null,
      "outputs": []
    },
    {
      "cell_type": "code",
      "metadata": {
        "id": "objective-found",
        "outputId": "4735bcd2-41a7-4bce-bc15-8894b143b152"
      },
      "source": [
        "df_train = pd.read_hdf(\"../input/train_data.h5\")\n",
        "df_train['price'] = df_train['price'].map(h.parse_price)\n",
        "\n",
        "df_test = pd.read_hdf(\"../input/test_data.h5\")\n",
        "\n",
        "print(df_train.shape, df_test.shape)"
      ],
      "id": "objective-found",
      "execution_count": null,
      "outputs": [
        {
          "output_type": "stream",
          "text": [
            "(22732, 8) (11448, 7)\n"
          ],
          "name": "stdout"
        }
      ]
    },
    {
      "cell_type": "code",
      "metadata": {
        "id": "modern-surge"
      },
      "source": [
        "df = pd.concat([df_train, df_test])"
      ],
      "id": "modern-surge",
      "execution_count": null,
      "outputs": []
    },
    {
      "cell_type": "code",
      "metadata": {
        "id": "pressing-illustration",
        "outputId": "1c286a81-fa8a-4742-b7cf-e774ba2d93b9"
      },
      "source": [
        "df.head()"
      ],
      "id": "pressing-illustration",
      "execution_count": null,
      "outputs": [
        {
          "output_type": "execute_result",
          "data": {
            "text/html": [
              "<div>\n",
              "<style scoped>\n",
              "    .dataframe tbody tr th:only-of-type {\n",
              "        vertical-align: middle;\n",
              "    }\n",
              "\n",
              "    .dataframe tbody tr th {\n",
              "        vertical-align: top;\n",
              "    }\n",
              "\n",
              "    .dataframe thead th {\n",
              "        text-align: right;\n",
              "    }\n",
              "</style>\n",
              "<table border=\"1\" class=\"dataframe\">\n",
              "  <thead>\n",
              "    <tr style=\"text-align: right;\">\n",
              "      <th></th>\n",
              "      <th>geo_block</th>\n",
              "      <th>breadcrumbs</th>\n",
              "      <th>price</th>\n",
              "      <th>owner</th>\n",
              "      <th>params</th>\n",
              "      <th>date</th>\n",
              "      <th>user_block</th>\n",
              "      <th>id</th>\n",
              "    </tr>\n",
              "  </thead>\n",
              "  <tbody>\n",
              "    <tr>\n",
              "      <th>0</th>\n",
              "      <td>[г. Москва, Лианозово, г. Москва, Лианозово]</td>\n",
              "      <td>[Москва, Лианозово, м. Алтуфьево, МЦК Лихоборы]</td>\n",
              "      <td>5.402084</td>\n",
              "      <td>[]</td>\n",
              "      <td>{'Охрана:': 'закрытая территория', 'Тип здания...</td>\n",
              "      <td>[22 апреля, 12, (+1 за сегодня), Обновлено 18 ...</td>\n",
              "      <td>[&lt;div class=\"block-user__name\"&gt;НДВ Недвижимост...</td>\n",
              "      <td>34995</td>\n",
              "    </tr>\n",
              "    <tr>\n",
              "      <th>1</th>\n",
              "      <td>[г. Москва, Ховрино, г. Москва, Ховрино]</td>\n",
              "      <td>[Москва, Ховрино, м. Ховрино, МЦК Коптево]</td>\n",
              "      <td>6.827990</td>\n",
              "      <td>[]</td>\n",
              "      <td>{'Лифт:': 'да', 'Тип здания:': 'Монолитное', '...</td>\n",
              "      <td>[10 мая, 2, (+1 за сегодня), Обновлено 16 мая]</td>\n",
              "      <td>[&lt;div class=\"block-user__name\"&gt;MR-Group&lt;/div&gt;,...</td>\n",
              "      <td>15030</td>\n",
              "    </tr>\n",
              "    <tr>\n",
              "      <th>2</th>\n",
              "      <td>[г. Москва, ул Лобачевского, г. Москва, ул Лоб...</td>\n",
              "      <td>[Москва, МЦК Кутузовская, ул. Лобачевского]</td>\n",
              "      <td>8.680000</td>\n",
              "      <td>[ЖК \"Крылья\". Доп. скидка 5%!]</td>\n",
              "      <td>{'Лифт:': 'да', 'Охрана:': 'закрытая территори...</td>\n",
              "      <td>[20 марта, 12, (+2 за сегодня), Обновлено 18 мая]</td>\n",
              "      <td>[]</td>\n",
              "      <td>37811</td>\n",
              "    </tr>\n",
              "    <tr>\n",
              "      <th>3</th>\n",
              "      <td>[г. Москва, Ховрино, ул Дыбенко, г. Москва, Хо...</td>\n",
              "      <td>[Москва, Ховрино, м. Ховрино, МЦК Коптево, ул....</td>\n",
              "      <td>8.624435</td>\n",
              "      <td>[]</td>\n",
              "      <td>{'Лифт:': 'да', 'Тип здания:': 'Монолитное', '...</td>\n",
              "      <td>[29 апреля, 3, (+1 за сегодня), Обновлено 13 мая]</td>\n",
              "      <td>[&lt;div class=\"block-user__name\"&gt;MR-Group&lt;/div&gt;,...</td>\n",
              "      <td>31685</td>\n",
              "    </tr>\n",
              "    <tr>\n",
              "      <th>4</th>\n",
              "      <td>[г. Москва, Даниловский, г. Москва, Даниловский]</td>\n",
              "      <td>[Москва, Даниловский, м. Автозаводская, МЦК Ав...</td>\n",
              "      <td>29.500000</td>\n",
              "      <td>[]</td>\n",
              "      <td>{'Общая площадь:': '141.1 м²', 'Дата публикаци...</td>\n",
              "      <td>[15 декабря 2018, 30, (+1 за сегодня), Обновле...</td>\n",
              "      <td>[&lt;div class=\"block-user__name\"&gt;Наталья Вдовиче...</td>\n",
              "      <td>56215</td>\n",
              "    </tr>\n",
              "  </tbody>\n",
              "</table>\n",
              "</div>"
            ],
            "text/plain": [
              "                                           geo_block  \\\n",
              "0       [г. Москва, Лианозово, г. Москва, Лианозово]   \n",
              "1           [г. Москва, Ховрино, г. Москва, Ховрино]   \n",
              "2  [г. Москва, ул Лобачевского, г. Москва, ул Лоб...   \n",
              "3  [г. Москва, Ховрино, ул Дыбенко, г. Москва, Хо...   \n",
              "4   [г. Москва, Даниловский, г. Москва, Даниловский]   \n",
              "\n",
              "                                         breadcrumbs      price  \\\n",
              "0    [Москва, Лианозово, м. Алтуфьево, МЦК Лихоборы]   5.402084   \n",
              "1         [Москва, Ховрино, м. Ховрино, МЦК Коптево]   6.827990   \n",
              "2        [Москва, МЦК Кутузовская, ул. Лобачевского]   8.680000   \n",
              "3  [Москва, Ховрино, м. Ховрино, МЦК Коптево, ул....   8.624435   \n",
              "4  [Москва, Даниловский, м. Автозаводская, МЦК Ав...  29.500000   \n",
              "\n",
              "                            owner  \\\n",
              "0                              []   \n",
              "1                              []   \n",
              "2  [ЖК \"Крылья\". Доп. скидка 5%!]   \n",
              "3                              []   \n",
              "4                              []   \n",
              "\n",
              "                                              params  \\\n",
              "0  {'Охрана:': 'закрытая территория', 'Тип здания...   \n",
              "1  {'Лифт:': 'да', 'Тип здания:': 'Монолитное', '...   \n",
              "2  {'Лифт:': 'да', 'Охрана:': 'закрытая территори...   \n",
              "3  {'Лифт:': 'да', 'Тип здания:': 'Монолитное', '...   \n",
              "4  {'Общая площадь:': '141.1 м²', 'Дата публикаци...   \n",
              "\n",
              "                                                date  \\\n",
              "0  [22 апреля, 12, (+1 за сегодня), Обновлено 18 ...   \n",
              "1     [10 мая, 2, (+1 за сегодня), Обновлено 16 мая]   \n",
              "2  [20 марта, 12, (+2 за сегодня), Обновлено 18 мая]   \n",
              "3  [29 апреля, 3, (+1 за сегодня), Обновлено 13 мая]   \n",
              "4  [15 декабря 2018, 30, (+1 за сегодня), Обновле...   \n",
              "\n",
              "                                          user_block     id  \n",
              "0  [<div class=\"block-user__name\">НДВ Недвижимост...  34995  \n",
              "1  [<div class=\"block-user__name\">MR-Group</div>,...  15030  \n",
              "2                                                 []  37811  \n",
              "3  [<div class=\"block-user__name\">MR-Group</div>,...  31685  \n",
              "4  [<div class=\"block-user__name\">Наталья Вдовиче...  56215  "
            ]
          },
          "metadata": {
            "tags": []
          },
          "execution_count": 4
        }
      ]
    },
    {
      "cell_type": "markdown",
      "metadata": {
        "id": "K0xEInq4jUNY"
      },
      "source": [
        "<b>Смотрим на данные и видим, что данные живые и настоящие. Начинаем обрабатывать с первого столбца - geo_block. Так как видно что geo_block имеет повторяющие элементы, нужно от них избавиться, + так как мы смотрим цены в Москве, мы можем удалить первый элемент списка - г.Москва."
      ],
      "id": "K0xEInq4jUNY"
    },
    {
      "cell_type": "code",
      "metadata": {
        "id": "alert-beginning"
      },
      "source": [
        "def parse_geo_block(l):\n",
        "    l = l[:(len(l)//2)]\n",
        "    if len(l)>1: \n",
        "        l = l[1:]\n",
        "    return \" \".join(l)"
      ],
      "id": "alert-beginning",
      "execution_count": null,
      "outputs": []
    },
    {
      "cell_type": "code",
      "metadata": {
        "id": "continental-seeker"
      },
      "source": [
        "df.geo_block = df.geo_block.apply(lambda x: parse_geo_block(x))"
      ],
      "id": "continental-seeker",
      "execution_count": null,
      "outputs": []
    },
    {
      "cell_type": "markdown",
      "metadata": {
        "id": "H15Z9uCtmvpU"
      },
      "source": [
        "<b>Теперь рассмотрим вторую колонку - breadcrumbs. С этого столбца можно достать много информации, а именно - district, metro, MCK и street, для этого напишем пару функций для обработки информации."
      ],
      "id": "H15Z9uCtmvpU"
    },
    {
      "cell_type": "code",
      "metadata": {
        "id": "beneficial-reflection"
      },
      "source": [
        "def parse_breadcrumbs(l):\n",
        "    if len(l)==1:\n",
        "        return l[0]\n",
        "    else:\n",
        "        return l[1]\n",
        "df['district'] = df.breadcrumbs.apply(lambda x: parse_breadcrumbs(x))\n",
        "\n",
        "def parse_breadcrumbs_metro(l):\n",
        "    for i in l:\n",
        "        if 'м.' in i:\n",
        "            return i\n",
        "    return np.nan\n",
        "df['metro'] = df.breadcrumbs.apply(lambda x: parse_breadcrumbs_metro(x))\n",
        "\n",
        "def MCK(l):\n",
        "    for i in l:\n",
        "        if \"МЦК\" in i:\n",
        "            return i\n",
        "    return np.nan\n",
        "df['MCK'] = df.breadcrumbs.apply(lambda x: MCK(x))\n",
        "\n",
        "def street(l):\n",
        "    for i in l:\n",
        "        if 'ул.' in i or 'пр-кт.' in i:\n",
        "            return i\n",
        "    return np.nan\n",
        "df['street'] = df.breadcrumbs.apply(lambda x: street(x))"
      ],
      "id": "beneficial-reflection",
      "execution_count": null,
      "outputs": []
    },
    {
      "cell_type": "code",
      "metadata": {
        "id": "hired-niagara",
        "outputId": "7ddc0f97-1534-4c89-958d-170a7e462f39"
      },
      "source": [
        "df.head()"
      ],
      "id": "hired-niagara",
      "execution_count": null,
      "outputs": [
        {
          "output_type": "execute_result",
          "data": {
            "text/html": [
              "<div>\n",
              "<style scoped>\n",
              "    .dataframe tbody tr th:only-of-type {\n",
              "        vertical-align: middle;\n",
              "    }\n",
              "\n",
              "    .dataframe tbody tr th {\n",
              "        vertical-align: top;\n",
              "    }\n",
              "\n",
              "    .dataframe thead th {\n",
              "        text-align: right;\n",
              "    }\n",
              "</style>\n",
              "<table border=\"1\" class=\"dataframe\">\n",
              "  <thead>\n",
              "    <tr style=\"text-align: right;\">\n",
              "      <th></th>\n",
              "      <th>geo_block</th>\n",
              "      <th>breadcrumbs</th>\n",
              "      <th>price</th>\n",
              "      <th>owner</th>\n",
              "      <th>params</th>\n",
              "      <th>date</th>\n",
              "      <th>user_block</th>\n",
              "      <th>id</th>\n",
              "      <th>district</th>\n",
              "      <th>metro</th>\n",
              "      <th>MCK</th>\n",
              "      <th>street</th>\n",
              "    </tr>\n",
              "  </thead>\n",
              "  <tbody>\n",
              "    <tr>\n",
              "      <th>0</th>\n",
              "      <td>Лианозово</td>\n",
              "      <td>[Москва, Лианозово, м. Алтуфьево, МЦК Лихоборы]</td>\n",
              "      <td>5.402084</td>\n",
              "      <td>[]</td>\n",
              "      <td>{'Охрана:': 'закрытая территория', 'Тип здания...</td>\n",
              "      <td>[22 апреля, 12, (+1 за сегодня), Обновлено 18 ...</td>\n",
              "      <td>[&lt;div class=\"block-user__name\"&gt;НДВ Недвижимост...</td>\n",
              "      <td>34995</td>\n",
              "      <td>Лианозово</td>\n",
              "      <td>м. Алтуфьево</td>\n",
              "      <td>МЦК Лихоборы</td>\n",
              "      <td>NaN</td>\n",
              "    </tr>\n",
              "    <tr>\n",
              "      <th>1</th>\n",
              "      <td>Ховрино</td>\n",
              "      <td>[Москва, Ховрино, м. Ховрино, МЦК Коптево]</td>\n",
              "      <td>6.827990</td>\n",
              "      <td>[]</td>\n",
              "      <td>{'Лифт:': 'да', 'Тип здания:': 'Монолитное', '...</td>\n",
              "      <td>[10 мая, 2, (+1 за сегодня), Обновлено 16 мая]</td>\n",
              "      <td>[&lt;div class=\"block-user__name\"&gt;MR-Group&lt;/div&gt;,...</td>\n",
              "      <td>15030</td>\n",
              "      <td>Ховрино</td>\n",
              "      <td>м. Ховрино</td>\n",
              "      <td>МЦК Коптево</td>\n",
              "      <td>NaN</td>\n",
              "    </tr>\n",
              "    <tr>\n",
              "      <th>2</th>\n",
              "      <td>ул Лобачевского</td>\n",
              "      <td>[Москва, МЦК Кутузовская, ул. Лобачевского]</td>\n",
              "      <td>8.680000</td>\n",
              "      <td>[ЖК \"Крылья\". Доп. скидка 5%!]</td>\n",
              "      <td>{'Лифт:': 'да', 'Охрана:': 'закрытая территори...</td>\n",
              "      <td>[20 марта, 12, (+2 за сегодня), Обновлено 18 мая]</td>\n",
              "      <td>[]</td>\n",
              "      <td>37811</td>\n",
              "      <td>МЦК Кутузовская</td>\n",
              "      <td>NaN</td>\n",
              "      <td>МЦК Кутузовская</td>\n",
              "      <td>ул. Лобачевского</td>\n",
              "    </tr>\n",
              "    <tr>\n",
              "      <th>3</th>\n",
              "      <td>Ховрино ул Дыбенко</td>\n",
              "      <td>[Москва, Ховрино, м. Ховрино, МЦК Коптево, ул....</td>\n",
              "      <td>8.624435</td>\n",
              "      <td>[]</td>\n",
              "      <td>{'Лифт:': 'да', 'Тип здания:': 'Монолитное', '...</td>\n",
              "      <td>[29 апреля, 3, (+1 за сегодня), Обновлено 13 мая]</td>\n",
              "      <td>[&lt;div class=\"block-user__name\"&gt;MR-Group&lt;/div&gt;,...</td>\n",
              "      <td>31685</td>\n",
              "      <td>Ховрино</td>\n",
              "      <td>м. Ховрино</td>\n",
              "      <td>МЦК Коптево</td>\n",
              "      <td>ул. Дыбенко</td>\n",
              "    </tr>\n",
              "    <tr>\n",
              "      <th>4</th>\n",
              "      <td>Даниловский</td>\n",
              "      <td>[Москва, Даниловский, м. Автозаводская, МЦК Ав...</td>\n",
              "      <td>29.500000</td>\n",
              "      <td>[]</td>\n",
              "      <td>{'Общая площадь:': '141.1 м²', 'Дата публикаци...</td>\n",
              "      <td>[15 декабря 2018, 30, (+1 за сегодня), Обновле...</td>\n",
              "      <td>[&lt;div class=\"block-user__name\"&gt;Наталья Вдовиче...</td>\n",
              "      <td>56215</td>\n",
              "      <td>Даниловский</td>\n",
              "      <td>м. Автозаводская</td>\n",
              "      <td>МЦК Автозаводская</td>\n",
              "      <td>NaN</td>\n",
              "    </tr>\n",
              "  </tbody>\n",
              "</table>\n",
              "</div>"
            ],
            "text/plain": [
              "            geo_block                                        breadcrumbs  \\\n",
              "0           Лианозово    [Москва, Лианозово, м. Алтуфьево, МЦК Лихоборы]   \n",
              "1             Ховрино         [Москва, Ховрино, м. Ховрино, МЦК Коптево]   \n",
              "2     ул Лобачевского        [Москва, МЦК Кутузовская, ул. Лобачевского]   \n",
              "3  Ховрино ул Дыбенко  [Москва, Ховрино, м. Ховрино, МЦК Коптево, ул....   \n",
              "4         Даниловский  [Москва, Даниловский, м. Автозаводская, МЦК Ав...   \n",
              "\n",
              "       price                           owner  \\\n",
              "0   5.402084                              []   \n",
              "1   6.827990                              []   \n",
              "2   8.680000  [ЖК \"Крылья\". Доп. скидка 5%!]   \n",
              "3   8.624435                              []   \n",
              "4  29.500000                              []   \n",
              "\n",
              "                                              params  \\\n",
              "0  {'Охрана:': 'закрытая территория', 'Тип здания...   \n",
              "1  {'Лифт:': 'да', 'Тип здания:': 'Монолитное', '...   \n",
              "2  {'Лифт:': 'да', 'Охрана:': 'закрытая территори...   \n",
              "3  {'Лифт:': 'да', 'Тип здания:': 'Монолитное', '...   \n",
              "4  {'Общая площадь:': '141.1 м²', 'Дата публикаци...   \n",
              "\n",
              "                                                date  \\\n",
              "0  [22 апреля, 12, (+1 за сегодня), Обновлено 18 ...   \n",
              "1     [10 мая, 2, (+1 за сегодня), Обновлено 16 мая]   \n",
              "2  [20 марта, 12, (+2 за сегодня), Обновлено 18 мая]   \n",
              "3  [29 апреля, 3, (+1 за сегодня), Обновлено 13 мая]   \n",
              "4  [15 декабря 2018, 30, (+1 за сегодня), Обновле...   \n",
              "\n",
              "                                          user_block     id         district  \\\n",
              "0  [<div class=\"block-user__name\">НДВ Недвижимост...  34995        Лианозово   \n",
              "1  [<div class=\"block-user__name\">MR-Group</div>,...  15030          Ховрино   \n",
              "2                                                 []  37811  МЦК Кутузовская   \n",
              "3  [<div class=\"block-user__name\">MR-Group</div>,...  31685          Ховрино   \n",
              "4  [<div class=\"block-user__name\">Наталья Вдовиче...  56215      Даниловский   \n",
              "\n",
              "              metro                MCK            street  \n",
              "0      м. Алтуфьево       МЦК Лихоборы               NaN  \n",
              "1        м. Ховрино        МЦК Коптево               NaN  \n",
              "2               NaN    МЦК Кутузовская  ул. Лобачевского  \n",
              "3        м. Ховрино        МЦК Коптево       ул. Дыбенко  \n",
              "4  м. Автозаводская  МЦК Автозаводская               NaN  "
            ]
          },
          "metadata": {
            "tags": []
          },
          "execution_count": 20
        }
      ]
    },
    {
      "cell_type": "markdown",
      "metadata": {
        "id": "DdnInF7boYtz"
      },
      "source": [
        "**Переходим к самому вкусному, это столбец - params. В этой колонке находиться очень много полезной нам информации. Количественную информацию сразу же в int64 или float64. Некоторую информацию было решено перевести  категориальную.**"
      ],
      "id": "DdnInF7boYtz"
    },
    {
      "cell_type": "markdown",
      "metadata": {
        "id": "rrMVXr9OovK1"
      },
      "source": [
        "**Какие информация находится в params, я взял с starte_2**\n",
        "<p>{'Лифт:': 2,\n",
        " 'Возможна ипотека:': 2,\n",
        " 'Мусоропровод:': 2,\n",
        " 'Мебель на кухне:': 2,\n",
        " 'Холодильник:': 2,\n",
        " 'Интернет:': 2,\n",
        " 'Мебель:': 2,\n",
        " 'Телефон:': 2,\n",
        " 'Свободная планировка:': 2,\n",
        " 'Возможен торг:': 2,\n",
        " 'Класс:': 2,\n",
        " 'Телевизор:': 2,\n",
        " 'Детская площадка:': 2,\n",
        " 'Стиральная машина:': 2,\n",
        " 'Тип объявления:': 3,\n",
        " 'Вид из окна:': 3,\n",
        " 'Тип дома:': 3,\n",
        " 'Тип санузла:': 4,\n",
        " 'Тип комнат:': 4,\n",
        " 'Предоплата:': 4,\n",
        " 'Тип объекта:': 5,\n",
        " 'Класс жилья:': 5,\n",
        " 'Покрытие пола:': 5,\n",
        " 'Тип перекрытия:': 5,\n",
        " 'Комиссия агенту:': 6,\n",
        " 'Тип балкона:': 6,\n",
        " 'Ремонт:': 7,\n",
        " 'Тип фундамента:': 7,\n",
        " 'Этап строительства:': 8,\n",
        " 'Количество комнат:': 13,\n",
        " 'Наибольшее количество этажей:': 13,\n",
        " 'Количество подъездов:': 14,\n",
        " 'Тип здания:': 15,\n",
        " 'Наименьшее количество этажей:': 19,\n",
        " 'Количество корпусов:': 35,\n",
        " 'Серия:': 60,\n",
        " 'Высота потолков:': 68,\n",
        " 'Сдача:': 86,\n",
        " 'Год постройки:': 91,\n",
        " 'Количество жилых помещений:': 94,\n",
        " 'Количество этажей:': 99,\n",
        " 'Охрана:': 110,\n",
        " 'Этажность:': 110,\n",
        " 'Управляющая компания:': 112,\n",
        " 'Застройщик:': 220,\n",
        " 'Дата  обновления:': 227,\n",
        " 'Количество квартир:': 352,\n",
        " 'Парковка:': 388,\n",
        " 'Площадь кухни:': 424,\n",
        " 'Новостройка:': 610,\n",
        " 'Дата публикации:': 698,\n",
        " 'Жилая комната:': 896,\n",
        " 'Этаж:': 1241,\n",
        " 'Адрес:': 1296,\n",
        " 'Общая площадь:': 1684}"
      ],
      "id": "rrMVXr9OovK1"
    },
    {
      "cell_type": "code",
      "metadata": {
        "id": "ready-elizabeth"
      },
      "source": [
        "df['security'] = df.params.apply(lambda x: dict(x).get('Охрана:'))"
      ],
      "id": "ready-elizabeth",
      "execution_count": null,
      "outputs": []
    },
    {
      "cell_type": "code",
      "metadata": {
        "id": "intellectual-charm"
      },
      "source": [
        "df['building_type'] = df.params.apply(lambda x: dict(x).get('Тип здания:'))"
      ],
      "id": "intellectual-charm",
      "execution_count": null,
      "outputs": []
    },
    {
      "cell_type": "code",
      "metadata": {
        "id": "insured-moore"
      },
      "source": [
        "df['object_type'] = df.params.apply(lambda x: dict(x).get('Тип объекта:'))"
      ],
      "id": "insured-moore",
      "execution_count": null,
      "outputs": []
    },
    {
      "cell_type": "code",
      "metadata": {
        "id": "welcome-ethnic"
      },
      "source": [
        "df['number_of_buildings'] = df.params.apply(lambda x: np.nan if (dict(x).get('Количество корпусов:'))==None else int(dict(x).get('Количество корпусов:')))\n",
        "df.number_of_buildings = df.number_of_buildings.fillna(df.number_of_buildings.mean()).astype('int64')"
      ],
      "id": "welcome-ethnic",
      "execution_count": null,
      "outputs": []
    },
    {
      "cell_type": "code",
      "metadata": {
        "id": "intellectual-binary"
      },
      "source": [
        "df['ad_type'] = df.params.apply(lambda x: dict(x).get('Тип объявления:'))"
      ],
      "id": "intellectual-binary",
      "execution_count": null,
      "outputs": []
    },
    {
      "cell_type": "code",
      "metadata": {
        "id": "global-refrigerator"
      },
      "source": [
        "df['Developer'] = df.params.apply(lambda x: dict(x).get('Застройщик:'))"
      ],
      "id": "global-refrigerator",
      "execution_count": null,
      "outputs": []
    },
    {
      "cell_type": "code",
      "metadata": {
        "id": "structural-consortium"
      },
      "source": [
        "df['total_area'] = df.params.apply(lambda x: float(dict(x).get('Общая площадь:').split(\" \")[0])).astype('float64')"
      ],
      "id": "structural-consortium",
      "execution_count": null,
      "outputs": []
    },
    {
      "cell_type": "code",
      "metadata": {
        "id": "european-bowling"
      },
      "source": [
        "df['month_of_publication'] = df.params.apply(lambda x: dict(x).get('Дата публикации:').split(' ')[1])"
      ],
      "id": "european-bowling",
      "execution_count": null,
      "outputs": []
    },
    {
      "cell_type": "code",
      "metadata": {
        "id": "intensive-difference"
      },
      "source": [
        "df['rooms'] = df.params.apply(lambda x: np.nan if (dict(x).get('Количество комнат:'))==None else int(dict(x).get('Количество комнат:')))\n",
        "df.rooms = df.rooms.fillna(df.rooms.mean().astype('int64'))"
      ],
      "id": "intensive-difference",
      "execution_count": null,
      "outputs": []
    },
    {
      "cell_type": "code",
      "metadata": {
        "id": "veterinary-yeast"
      },
      "source": [
        "df['view_from_the_window'] = df.params.apply(lambda x: dict(x).get('Вид из окна:'))"
      ],
      "id": "veterinary-yeast",
      "execution_count": null,
      "outputs": []
    },
    {
      "cell_type": "code",
      "metadata": {
        "id": "exact-david"
      },
      "source": [
        "df['parking'] = df.params.apply(lambda x: dict(x).get('Парковка:'))"
      ],
      "id": "exact-david",
      "execution_count": null,
      "outputs": []
    },
    {
      "cell_type": "code",
      "metadata": {
        "id": "antique-cameroon"
      },
      "source": [
        "df['update_date'] = df.params.apply(lambda x: dict(x).get('Дата  обновления:'))"
      ],
      "id": "antique-cameroon",
      "execution_count": null,
      "outputs": []
    },
    {
      "cell_type": "code",
      "metadata": {
        "id": "recorded-fleet"
      },
      "source": [
        "df['Housing_class'] = df.params.apply(lambda x: dict(x).get('Класс жилья:'))"
      ],
      "id": "recorded-fleet",
      "execution_count": null,
      "outputs": []
    },
    {
      "cell_type": "code",
      "metadata": {
        "id": "removed-brake"
      },
      "source": [
        "df['floors'] = df.params.apply(lambda x: np.nan if (dict(x).get('Количество этажей:'))==None else int(dict(x).get('Количество этажей:')))\n",
        "df.floors = df.floors.fillna(df.floors.mean().astype('int64'))"
      ],
      "id": "removed-brake",
      "execution_count": null,
      "outputs": []
    },
    {
      "cell_type": "code",
      "metadata": {
        "id": "contrary-serbia"
      },
      "source": [
        "df['agent_commission'] = df.params.apply(lambda x: dict(x).get('Комиссия агенту:'))"
      ],
      "id": "contrary-serbia",
      "execution_count": null,
      "outputs": []
    },
    {
      "cell_type": "code",
      "metadata": {
        "id": "legitimate-booth"
      },
      "source": [
        "df['height'] = df.params.apply(lambda x: np.nan if (dict(x).get('Высота потолков:'))==None else float(dict(x).get('Высота потолков:').split(' ')[0]))\n",
        "df.height = df.height.fillna(df.height.mean().astype('float64'))"
      ],
      "id": "legitimate-booth",
      "execution_count": null,
      "outputs": []
    },
    {
      "cell_type": "code",
      "metadata": {
        "id": "visible-minneapolis"
      },
      "source": [
        "df['floor'] = df.params.apply(lambda x: np.nan if (dict(x).get('Этаж:'))==None else int(dict(x).get('Этаж:').split('/')[0]))\n",
        "df.floor = df.floor.fillna(df.floor.mean().astype('int64'))"
      ],
      "id": "visible-minneapolis",
      "execution_count": null,
      "outputs": []
    },
    {
      "cell_type": "code",
      "metadata": {
        "id": "therapeutic-valve"
      },
      "source": [
        "df['New_building'] = df.params.apply(lambda x: dict(x).get('Новостройка:'))"
      ],
      "id": "therapeutic-valve",
      "execution_count": null,
      "outputs": []
    },
    {
      "cell_type": "code",
      "metadata": {
        "id": "cultural-texture"
      },
      "source": [
        "df['number_of_apartments'] = df.params.apply(lambda x: -1 if (dict(x).get('Количество квартир:'))==None else dict(x).get('Количество квартир:')).astype('int64')\n"
      ],
      "id": "cultural-texture",
      "execution_count": null,
      "outputs": []
    },
    {
      "cell_type": "code",
      "metadata": {
        "id": "wired-april"
      },
      "source": [
        "def f(x):\n",
        "    if x == 'да':\n",
        "        return 1\n",
        "    return 0\n",
        "df['Mortgage'] = df.params.apply(lambda x: f(dict(x).get('Возможна ипотека:')))"
      ],
      "id": "wired-april",
      "execution_count": null,
      "outputs": []
    },
    {
      "cell_type": "code",
      "metadata": {
        "id": "cloudy-dispute"
      },
      "source": [
        "df['elevator']= df.params.apply(lambda x: 0 if dict(x).get('Лифт:')==None else 1).astype('int64')"
      ],
      "id": "cloudy-dispute",
      "execution_count": null,
      "outputs": []
    },
    {
      "cell_type": "code",
      "metadata": {
        "id": "usual-diagnosis"
      },
      "source": [
        "df['balcony'] = df.params.apply(lambda x: dict(x).get('Тип балкона:'))"
      ],
      "id": "usual-diagnosis",
      "execution_count": null,
      "outputs": []
    },
    {
      "cell_type": "code",
      "metadata": {
        "id": "extended-tomato"
      },
      "source": [
        "df['Furniture'] = df.params.apply(lambda x: 0 if dict(x).get('Мебель:')==None else 1).astype('int64')"
      ],
      "id": "extended-tomato",
      "execution_count": null,
      "outputs": []
    },
    {
      "cell_type": "code",
      "metadata": {
        "id": "humanitarian-penetration"
      },
      "source": [
        "df['free_layout'] = df.params.apply(lambda x: 0 if dict(x).get('Свободная планировка:')==None else 1).astype('int64')"
      ],
      "id": "humanitarian-penetration",
      "execution_count": null,
      "outputs": []
    },
    {
      "cell_type": "code",
      "metadata": {
        "id": "established-stress"
      },
      "source": [
        "df['type_home'] = df.params.apply(lambda x: dict(x).get('Тип дома:'))"
      ],
      "id": "established-stress",
      "execution_count": null,
      "outputs": []
    },
    {
      "cell_type": "code",
      "metadata": {
        "id": "square-blast"
      },
      "source": [
        "df['Playground'] = df.params.apply(lambda x: 0 if dict(x).get('Детская площадка:')==None else 1).astype('int64')"
      ],
      "id": "square-blast",
      "execution_count": null,
      "outputs": []
    },
    {
      "cell_type": "code",
      "metadata": {
        "id": "written-extreme"
      },
      "source": [
        "df['kitchen_area'] = df.params.apply(lambda x: np.nan if dict(x).get('Площадь кухни:')==None else float(dict(x).get('Площадь кухни:').split(' ')[0]))\n",
        "df.kitchen_area = df.kitchen_area.fillna(df.kitchen_area.mean().astype('float64'))"
      ],
      "id": "written-extreme",
      "execution_count": null,
      "outputs": []
    },
    {
      "cell_type": "code",
      "metadata": {
        "id": "amateur-electricity"
      },
      "source": [
        "def security(l):\n",
        "    if l==None or l.upper=='НЕТ':\n",
        "        return 0\n",
        "    elif 'круглосуточное' in l.split(' ') or 'Круглосуточная' in l.split(' ') or 'круглосуточная' in l.split(' '):\n",
        "        return 4\n",
        "    elif 'консьерж' in l.split(' '):\n",
        "        return 3\n",
        "    elif 'видеонаблюдение' in l.split(' '):\n",
        "        return 2\n",
        "    elif 'закрытая' in l.split(' ') or 'огороженная' in l.split(' '):\n",
        "        return 1\n",
        "    else:\n",
        "        return 0\n",
        "df.security = df.security.apply(lambda x: security(x))"
      ],
      "id": "amateur-electricity",
      "execution_count": null,
      "outputs": []
    },
    {
      "cell_type": "code",
      "metadata": {
        "id": "shared-structure"
      },
      "source": [
        "def parking(l):\n",
        "    if l==None:\n",
        "        return 0\n",
        "    elif 'подземная' in l.split(' ') or 'подземный' in l.split(' ') or 'крытая' in l.split(' '):\n",
        "        return 1\n",
        "    elif 'наземная' in l.split(' '):\n",
        "        return 2\n",
        "    else: \n",
        "        return 3\n",
        "df.parking = df.parking.apply(lambda x: parking(x))"
      ],
      "id": "shared-structure",
      "execution_count": null,
      "outputs": []
    },
    {
      "cell_type": "code",
      "metadata": {
        "id": "fossil-arctic"
      },
      "source": [
        "def bulding(l):\n",
        "    if l=='Монолитно-кирпичный' or l=='Монолитно-кирпичное' or l=='Монолитно-панельный' or l=='Монолитно-панельное':\n",
        "        return 'Монолит'\n",
        "    return l\n",
        "df.building_type = df.building_type.apply(lambda x: bulding(x))"
      ],
      "id": "fossil-arctic",
      "execution_count": null,
      "outputs": []
    },
    {
      "cell_type": "markdown",
      "metadata": {
        "id": "-SHPtM1JrMCc"
      },
      "source": [
        "**Нужно удалить столбцы которые, нам не нужны. Так как нужную информацию мы с них уже достали или эти столбцы имеют мало уникальной или нужно информацию **"
      ],
      "id": "-SHPtM1JrMCc"
    },
    {
      "cell_type": "code",
      "metadata": {
        "id": "unlike-hands",
        "outputId": "5195302d-5648-4eb5-f3fe-e6e74c7fc544"
      },
      "source": [
        "id = df_test.id\n",
        "df = df.drop(['user_block', 'id','breadcrumbs', 'owner', 'params', 'date'], axis=1)\n",
        "df.head()"
      ],
      "id": "unlike-hands",
      "execution_count": null,
      "outputs": [
        {
          "output_type": "execute_result",
          "data": {
            "text/html": [
              "<div>\n",
              "<style scoped>\n",
              "    .dataframe tbody tr th:only-of-type {\n",
              "        vertical-align: middle;\n",
              "    }\n",
              "\n",
              "    .dataframe tbody tr th {\n",
              "        vertical-align: top;\n",
              "    }\n",
              "\n",
              "    .dataframe thead th {\n",
              "        text-align: right;\n",
              "    }\n",
              "</style>\n",
              "<table border=\"1\" class=\"dataframe\">\n",
              "  <thead>\n",
              "    <tr style=\"text-align: right;\">\n",
              "      <th></th>\n",
              "      <th>geo_block</th>\n",
              "      <th>price</th>\n",
              "      <th>district</th>\n",
              "      <th>metro</th>\n",
              "      <th>MCK</th>\n",
              "      <th>street</th>\n",
              "      <th>security</th>\n",
              "      <th>building_type</th>\n",
              "      <th>object_type</th>\n",
              "      <th>number_of_buildings</th>\n",
              "      <th>...</th>\n",
              "      <th>New_building</th>\n",
              "      <th>number_of_apartments</th>\n",
              "      <th>Mortgage</th>\n",
              "      <th>elevator</th>\n",
              "      <th>balcony</th>\n",
              "      <th>Furniture</th>\n",
              "      <th>free_layout</th>\n",
              "      <th>type_home</th>\n",
              "      <th>Playground</th>\n",
              "      <th>kitchen_area</th>\n",
              "    </tr>\n",
              "  </thead>\n",
              "  <tbody>\n",
              "    <tr>\n",
              "      <th>0</th>\n",
              "      <td>Лианозово</td>\n",
              "      <td>5.402084</td>\n",
              "      <td>Лианозово</td>\n",
              "      <td>м. Алтуфьево</td>\n",
              "      <td>МЦК Лихоборы</td>\n",
              "      <td>NaN</td>\n",
              "      <td>1</td>\n",
              "      <td>Монолитное</td>\n",
              "      <td>квартиры</td>\n",
              "      <td>1</td>\n",
              "      <td>...</td>\n",
              "      <td>Апарт-комплекс Nord, м. Алтуфьево</td>\n",
              "      <td>163</td>\n",
              "      <td>0</td>\n",
              "      <td>0</td>\n",
              "      <td>None</td>\n",
              "      <td>0</td>\n",
              "      <td>0</td>\n",
              "      <td>None</td>\n",
              "      <td>0</td>\n",
              "      <td>15.020488</td>\n",
              "    </tr>\n",
              "    <tr>\n",
              "      <th>1</th>\n",
              "      <td>Ховрино</td>\n",
              "      <td>6.827990</td>\n",
              "      <td>Ховрино</td>\n",
              "      <td>м. Ховрино</td>\n",
              "      <td>МЦК Коптево</td>\n",
              "      <td>NaN</td>\n",
              "      <td>0</td>\n",
              "      <td>Монолитное</td>\n",
              "      <td>квартира</td>\n",
              "      <td>5</td>\n",
              "      <td>...</td>\n",
              "      <td>ЖК Discovery (ЖК «Дискавери»), м. Ховрино</td>\n",
              "      <td>1251</td>\n",
              "      <td>1</td>\n",
              "      <td>1</td>\n",
              "      <td>None</td>\n",
              "      <td>0</td>\n",
              "      <td>0</td>\n",
              "      <td>None</td>\n",
              "      <td>0</td>\n",
              "      <td>15.020488</td>\n",
              "    </tr>\n",
              "    <tr>\n",
              "      <th>2</th>\n",
              "      <td>ул Лобачевского</td>\n",
              "      <td>8.680000</td>\n",
              "      <td>МЦК Кутузовская</td>\n",
              "      <td>NaN</td>\n",
              "      <td>МЦК Кутузовская</td>\n",
              "      <td>ул. Лобачевского</td>\n",
              "      <td>1</td>\n",
              "      <td>Монолитное</td>\n",
              "      <td>квартиры</td>\n",
              "      <td>3</td>\n",
              "      <td>...</td>\n",
              "      <td>ЖК «Крылья», м. Раменки</td>\n",
              "      <td>1473</td>\n",
              "      <td>0</td>\n",
              "      <td>1</td>\n",
              "      <td>None</td>\n",
              "      <td>0</td>\n",
              "      <td>0</td>\n",
              "      <td>None</td>\n",
              "      <td>0</td>\n",
              "      <td>15.020488</td>\n",
              "    </tr>\n",
              "    <tr>\n",
              "      <th>3</th>\n",
              "      <td>Ховрино ул Дыбенко</td>\n",
              "      <td>8.624435</td>\n",
              "      <td>Ховрино</td>\n",
              "      <td>м. Ховрино</td>\n",
              "      <td>МЦК Коптево</td>\n",
              "      <td>ул. Дыбенко</td>\n",
              "      <td>0</td>\n",
              "      <td>Монолитное</td>\n",
              "      <td>квартира</td>\n",
              "      <td>5</td>\n",
              "      <td>...</td>\n",
              "      <td>ЖК Discovery (ЖК «Дискавери»), м. Ховрино</td>\n",
              "      <td>1251</td>\n",
              "      <td>1</td>\n",
              "      <td>1</td>\n",
              "      <td>None</td>\n",
              "      <td>0</td>\n",
              "      <td>0</td>\n",
              "      <td>None</td>\n",
              "      <td>0</td>\n",
              "      <td>15.020488</td>\n",
              "    </tr>\n",
              "    <tr>\n",
              "      <th>4</th>\n",
              "      <td>Даниловский</td>\n",
              "      <td>29.500000</td>\n",
              "      <td>Даниловский</td>\n",
              "      <td>м. Автозаводская</td>\n",
              "      <td>МЦК Автозаводская</td>\n",
              "      <td>NaN</td>\n",
              "      <td>0</td>\n",
              "      <td>Монолитное</td>\n",
              "      <td>квартиры</td>\n",
              "      <td>9</td>\n",
              "      <td>...</td>\n",
              "      <td>None</td>\n",
              "      <td>-1</td>\n",
              "      <td>0</td>\n",
              "      <td>0</td>\n",
              "      <td>None</td>\n",
              "      <td>0</td>\n",
              "      <td>0</td>\n",
              "      <td>None</td>\n",
              "      <td>0</td>\n",
              "      <td>15.020488</td>\n",
              "    </tr>\n",
              "  </tbody>\n",
              "</table>\n",
              "<p>5 rows × 33 columns</p>\n",
              "</div>"
            ],
            "text/plain": [
              "            geo_block      price         district             metro  \\\n",
              "0           Лианозово   5.402084        Лианозово      м. Алтуфьево   \n",
              "1             Ховрино   6.827990          Ховрино        м. Ховрино   \n",
              "2     ул Лобачевского   8.680000  МЦК Кутузовская               NaN   \n",
              "3  Ховрино ул Дыбенко   8.624435          Ховрино        м. Ховрино   \n",
              "4         Даниловский  29.500000      Даниловский  м. Автозаводская   \n",
              "\n",
              "                 MCK            street  security building_type object_type  \\\n",
              "0       МЦК Лихоборы               NaN         1    Монолитное    квартиры   \n",
              "1        МЦК Коптево               NaN         0    Монолитное    квартира   \n",
              "2    МЦК Кутузовская  ул. Лобачевского         1    Монолитное    квартиры   \n",
              "3        МЦК Коптево       ул. Дыбенко         0    Монолитное    квартира   \n",
              "4  МЦК Автозаводская               NaN         0    Монолитное    квартиры   \n",
              "\n",
              "   number_of_buildings  ...                               New_building  \\\n",
              "0                    1  ...          Апарт-комплекс Nord, м. Алтуфьево   \n",
              "1                    5  ...  ЖК Discovery (ЖК «Дискавери»), м. Ховрино   \n",
              "2                    3  ...                    ЖК «Крылья», м. Раменки   \n",
              "3                    5  ...  ЖК Discovery (ЖК «Дискавери»), м. Ховрино   \n",
              "4                    9  ...                                       None   \n",
              "\n",
              "  number_of_apartments  Mortgage elevator  balcony Furniture  free_layout  \\\n",
              "0                  163         0        0     None         0            0   \n",
              "1                 1251         1        1     None         0            0   \n",
              "2                 1473         0        1     None         0            0   \n",
              "3                 1251         1        1     None         0            0   \n",
              "4                   -1         0        0     None         0            0   \n",
              "\n",
              "  type_home Playground  kitchen_area  \n",
              "0      None          0     15.020488  \n",
              "1      None          0     15.020488  \n",
              "2      None          0     15.020488  \n",
              "3      None          0     15.020488  \n",
              "4      None          0     15.020488  \n",
              "\n",
              "[5 rows x 33 columns]"
            ]
          },
          "metadata": {
            "tags": []
          },
          "execution_count": 55
        }
      ]
    },
    {
      "cell_type": "code",
      "metadata": {
        "id": "drawn-wildlife",
        "outputId": "a1025a16-d1a8-4887-dc6f-9e6636215c24"
      },
      "source": [
        "df.update_date = df.update_date.apply(lambda x: x.split(' ')[1] if x!=None else 'Nan')\n",
        "df.rename(columns={'update_date': 'update_month'})\n",
        "d = {}\n",
        "for i in list(df.columns):\n",
        "    d[i] = df[i].nunique()\n",
        "d"
      ],
      "id": "drawn-wildlife",
      "execution_count": null,
      "outputs": [
        {
          "output_type": "execute_result",
          "data": {
            "text/plain": [
              "{'geo_block': 977,\n",
              " 'price': 12529,\n",
              " 'district': 258,\n",
              " 'metro': 196,\n",
              " 'MCK': 31,\n",
              " 'street': 419,\n",
              " 'security': 5,\n",
              " 'building_type': 11,\n",
              " 'object_type': 5,\n",
              " 'number_of_buildings': 34,\n",
              " 'ad_type': 3,\n",
              " 'Developer': 219,\n",
              " 'total_area': 1684,\n",
              " 'month_of_publication': 13,\n",
              " 'rooms': 12,\n",
              " 'view_from_the_window': 2,\n",
              " 'parking': 4,\n",
              " 'update_date': 4,\n",
              " 'Housing_class': 4,\n",
              " 'floors': 98,\n",
              " 'agent_commission': 5,\n",
              " 'height': 68,\n",
              " 'floor': 89,\n",
              " 'New_building': 609,\n",
              " 'number_of_apartments': 352,\n",
              " 'Mortgage': 2,\n",
              " 'elevator': 2,\n",
              " 'balcony': 5,\n",
              " 'Furniture': 2,\n",
              " 'free_layout': 2,\n",
              " 'type_home': 2,\n",
              " 'Playground': 2,\n",
              " 'kitchen_area': 424}"
            ]
          },
          "metadata": {
            "tags": []
          },
          "execution_count": 59
        }
      ]
    },
    {
      "cell_type": "markdown",
      "metadata": {
        "id": "74-IQySashie"
      },
      "source": [
        "Перед LabelEncoder проверим types наших столбцов "
      ],
      "id": "74-IQySashie"
    },
    {
      "cell_type": "code",
      "metadata": {
        "id": "broke-vienna",
        "outputId": "9eca62c1-3aba-4a70-f217-25ecdb5cfa9c"
      },
      "source": [
        "df.dtypes"
      ],
      "id": "broke-vienna",
      "execution_count": null,
      "outputs": [
        {
          "output_type": "execute_result",
          "data": {
            "text/plain": [
              "geo_block                object\n",
              "price                   float64\n",
              "district                 object\n",
              "metro                    object\n",
              "MCK                      object\n",
              "street                   object\n",
              "security                  int64\n",
              "building_type            object\n",
              "object_type              object\n",
              "number_of_buildings       int64\n",
              "ad_type                  object\n",
              "Developer                object\n",
              "total_area              float64\n",
              "month_of_publication     object\n",
              "rooms                   float64\n",
              "view_from_the_window     object\n",
              "parking                   int64\n",
              "update_date              object\n",
              "Housing_class            object\n",
              "floors                  float64\n",
              "agent_commission         object\n",
              "height                  float64\n",
              "floor                   float64\n",
              "New_building             object\n",
              "number_of_apartments      int64\n",
              "Mortgage                  int64\n",
              "elevator                  int64\n",
              "balcony                  object\n",
              "Furniture                 int64\n",
              "free_layout               int64\n",
              "type_home                object\n",
              "Playground                int64\n",
              "kitchen_area            float64\n",
              "dtype: object"
            ]
          },
          "metadata": {
            "tags": []
          },
          "execution_count": 61
        }
      ]
    },
    {
      "cell_type": "markdown",
      "metadata": {
        "id": "AHCNL4_lsuUS"
      },
      "source": [
        "Делаем LabelEncoder. Вот ссылка на статью о LabelEncoder и OneHotEncoder.\n",
        "https://habr.com/ru/post/456294/"
      ],
      "id": "AHCNL4_lsuUS"
    },
    {
      "cell_type": "code",
      "metadata": {
        "id": "accepted-accountability",
        "outputId": "2c4272e3-997a-4055-b7fb-0f3e1cdf3402"
      },
      "source": [
        "df.columns"
      ],
      "id": "accepted-accountability",
      "execution_count": null,
      "outputs": [
        {
          "output_type": "execute_result",
          "data": {
            "text/plain": [
              "Index(['geo_block', 'price', 'district', 'metro', 'MCK', 'street', 'security',\n",
              "       'building_type', 'object_type', 'number_of_buildings', 'ad_type',\n",
              "       'Developer', 'total_area', 'month_of_publication', 'rooms',\n",
              "       'view_from_the_window', 'parking', 'update_date', 'Housing_class',\n",
              "       'floors', 'agent_commission', 'height', 'floor', 'New_building',\n",
              "       'number_of_apartments', 'Mortgage', 'elevator', 'balcony', 'Furniture',\n",
              "       'free_layout', 'type_home', 'Playground', 'kitchen_area'],\n",
              "      dtype='object')"
            ]
          },
          "metadata": {
            "tags": []
          },
          "execution_count": 64
        }
      ]
    },
    {
      "cell_type": "code",
      "metadata": {
        "id": "silver-roberts"
      },
      "source": [
        "category = ['geo_block', 'district', 'metro', 'MCK', 'street',\n",
        "       'security', 'building_type', 'object_type', 'rooms',\n",
        "       'ad_type', 'Developer', 'month_of_publication',\n",
        "       'view_from_the_window', 'parking', 'update_date', 'Housing_class',\n",
        "        'agent_commission', 'New_building',\n",
        "       'Mortgage', 'balcony', 'type_home']"
      ],
      "id": "silver-roberts",
      "execution_count": null,
      "outputs": []
    },
    {
      "cell_type": "code",
      "metadata": {
        "id": "retired-kinase"
      },
      "source": [
        "le = LabelEncoder()\n",
        "for i in category:\n",
        "    df[i] = le.fit_transform(df[i]).astype('int64')"
      ],
      "id": "retired-kinase",
      "execution_count": null,
      "outputs": []
    },
    {
      "cell_type": "code",
      "metadata": {
        "id": "numerous-outline",
        "outputId": "55bdd7fb-5341-45f1-85ee-e3e0d8f34fef"
      },
      "source": [
        "df.dtypes"
      ],
      "id": "numerous-outline",
      "execution_count": null,
      "outputs": [
        {
          "output_type": "execute_result",
          "data": {
            "text/plain": [
              "geo_block                 int64\n",
              "price                   float64\n",
              "district                  int64\n",
              "metro                     int64\n",
              "MCK                       int64\n",
              "street                    int64\n",
              "security                  int64\n",
              "building_type             int64\n",
              "object_type               int64\n",
              "number_of_buildings       int64\n",
              "ad_type                   int64\n",
              "Developer                 int64\n",
              "total_area              float64\n",
              "month_of_publication      int64\n",
              "rooms                     int64\n",
              "view_from_the_window      int64\n",
              "parking                   int64\n",
              "update_date               int64\n",
              "Housing_class             int64\n",
              "floors                  float64\n",
              "agent_commission          int64\n",
              "height                  float64\n",
              "floor                   float64\n",
              "New_building              int64\n",
              "number_of_apartments      int64\n",
              "Mortgage                  int64\n",
              "elevator                  int64\n",
              "balcony                   int64\n",
              "Furniture                 int64\n",
              "free_layout               int64\n",
              "type_home                 int64\n",
              "Playground                int64\n",
              "kitchen_area            float64\n",
              "dtype: object"
            ]
          },
          "metadata": {
            "tags": []
          },
          "execution_count": 67
        }
      ]
    },
    {
      "cell_type": "markdown",
      "metadata": {
        "id": "M7TXPrfHtJ_k"
      },
      "source": [
        "**Я решил, что если np.log некоторых фичей, это может улучшить точность модели. НО это я решил когда уже, запускал модели и понял, что лучше всего работает RandomForest, и решил посмотреть feature importance, именно поэтому я выбрал именно эти фичи.\n",
        "P.S. feature importance будет представлен немного ниже.**"
      ],
      "id": "M7TXPrfHtJ_k"
    },
    {
      "cell_type": "code",
      "metadata": {
        "id": "lesser-gather",
        "outputId": "be191237-c948-4e33-b7f2-b12aac174614"
      },
      "source": [
        "def log_c(name):\n",
        "    df[name] = np.log(df[name])\n",
        "    df[name] = np.where(df[name] == -np.inf, 1, df[name])\n",
        "for i in ['geo_block', 'district', 'street', 'New_building', 'number_of_apartments', 'rooms', 'MCK','floors', 'floor', 'height', 'total_area', 'kitchen_area']:\n",
        "    log_c(i) \n",
        "    df[i] = df[i].fillna(df[i].mean())\n",
        "#'geo_block', 'district', 'street', 'New_building', 'number_of_apartments', 'rooms', 'MCK','floors', 'floor', 'height', 'total_area', 'kitchen_area' == 2.35 RF"
      ],
      "id": "lesser-gather",
      "execution_count": null,
      "outputs": [
        {
          "output_type": "stream",
          "text": [
            "/opt/conda/lib/python3.8/site-packages/pandas/core/arraylike.py:358: RuntimeWarning: divide by zero encountered in log\n",
            "  result = getattr(ufunc, method)(*inputs, **kwargs)\n",
            "/opt/conda/lib/python3.8/site-packages/pandas/core/arraylike.py:358: RuntimeWarning: divide by zero encountered in log\n",
            "  result = getattr(ufunc, method)(*inputs, **kwargs)\n",
            "/opt/conda/lib/python3.8/site-packages/pandas/core/arraylike.py:358: RuntimeWarning: divide by zero encountered in log\n",
            "  result = getattr(ufunc, method)(*inputs, **kwargs)\n",
            "/opt/conda/lib/python3.8/site-packages/pandas/core/arraylike.py:358: RuntimeWarning: divide by zero encountered in log\n",
            "  result = getattr(ufunc, method)(*inputs, **kwargs)\n",
            "/opt/conda/lib/python3.8/site-packages/pandas/core/arraylike.py:358: RuntimeWarning: invalid value encountered in log\n",
            "  result = getattr(ufunc, method)(*inputs, **kwargs)\n",
            "/opt/conda/lib/python3.8/site-packages/pandas/core/arraylike.py:358: RuntimeWarning: divide by zero encountered in log\n",
            "  result = getattr(ufunc, method)(*inputs, **kwargs)\n",
            "/opt/conda/lib/python3.8/site-packages/pandas/core/arraylike.py:358: RuntimeWarning: divide by zero encountered in log\n",
            "  result = getattr(ufunc, method)(*inputs, **kwargs)\n"
          ],
          "name": "stderr"
        }
      ]
    },
    {
      "cell_type": "markdown",
      "metadata": {
        "id": "T7cuxMNTvdYu"
      },
      "source": [
        "Разделим на train и test. + ещё разделим train на X_train, X_test, y_train, y_test с помощью train_test_split"
      ],
      "id": "T7cuxMNTvdYu"
    },
    {
      "cell_type": "code",
      "metadata": {
        "id": "greek-clause",
        "outputId": "2cb23c96-f1e8-434b-c33b-908ecd8f6e3a"
      },
      "source": [
        "df_train = df[ ~df[\"price\"].isnull() ].copy()\n",
        "df_test = df[ df[\"price\"].isnull() ].copy()\n",
        "\n",
        "df_train.shape, df_test.shape"
      ],
      "id": "greek-clause",
      "execution_count": null,
      "outputs": [
        {
          "output_type": "execute_result",
          "data": {
            "text/plain": [
              "((22732, 33), (11448, 33))"
            ]
          },
          "metadata": {
            "tags": []
          },
          "execution_count": 69
        }
      ]
    },
    {
      "cell_type": "code",
      "metadata": {
        "id": "tender-binding"
      },
      "source": [
        "df_test = df_test.drop('price', axis=1)"
      ],
      "id": "tender-binding",
      "execution_count": null,
      "outputs": []
    },
    {
      "cell_type": "code",
      "metadata": {
        "id": "thousand-mystery"
      },
      "source": [
        "X = df_train.drop('price', axis=1)\n",
        "y = df_train.price"
      ],
      "id": "thousand-mystery",
      "execution_count": null,
      "outputs": []
    },
    {
      "cell_type": "code",
      "metadata": {
        "id": "northern-pressing"
      },
      "source": [
        "X_train, X_test, y_train, y_test = train_test_split(X, y, test_size=0.33, random_state=17)\n",
        "y_train_log = np.log(y_train)"
      ],
      "id": "northern-pressing",
      "execution_count": null,
      "outputs": []
    },
    {
      "cell_type": "code",
      "metadata": {
        "id": "cloudy-figure",
        "outputId": "f9c74bae-a04c-4b1d-a90b-761aa068c732"
      },
      "source": [
        "df.head()"
      ],
      "id": "cloudy-figure",
      "execution_count": null,
      "outputs": [
        {
          "output_type": "execute_result",
          "data": {
            "text/html": [
              "<div>\n",
              "<style scoped>\n",
              "    .dataframe tbody tr th:only-of-type {\n",
              "        vertical-align: middle;\n",
              "    }\n",
              "\n",
              "    .dataframe tbody tr th {\n",
              "        vertical-align: top;\n",
              "    }\n",
              "\n",
              "    .dataframe thead th {\n",
              "        text-align: right;\n",
              "    }\n",
              "</style>\n",
              "<table border=\"1\" class=\"dataframe\">\n",
              "  <thead>\n",
              "    <tr style=\"text-align: right;\">\n",
              "      <th></th>\n",
              "      <th>geo_block</th>\n",
              "      <th>price</th>\n",
              "      <th>district</th>\n",
              "      <th>metro</th>\n",
              "      <th>MCK</th>\n",
              "      <th>street</th>\n",
              "      <th>security</th>\n",
              "      <th>building_type</th>\n",
              "      <th>object_type</th>\n",
              "      <th>number_of_buildings</th>\n",
              "      <th>...</th>\n",
              "      <th>New_building</th>\n",
              "      <th>number_of_apartments</th>\n",
              "      <th>Mortgage</th>\n",
              "      <th>elevator</th>\n",
              "      <th>balcony</th>\n",
              "      <th>Furniture</th>\n",
              "      <th>free_layout</th>\n",
              "      <th>type_home</th>\n",
              "      <th>Playground</th>\n",
              "      <th>kitchen_area</th>\n",
              "    </tr>\n",
              "  </thead>\n",
              "  <tbody>\n",
              "    <tr>\n",
              "      <th>0</th>\n",
              "      <td>5.476464</td>\n",
              "      <td>5.402084</td>\n",
              "      <td>3.761200</td>\n",
              "      <td>5</td>\n",
              "      <td>2.772589</td>\n",
              "      <td>6.037871</td>\n",
              "      <td>1</td>\n",
              "      <td>5</td>\n",
              "      <td>2</td>\n",
              "      <td>1</td>\n",
              "      <td>...</td>\n",
              "      <td>0.693147</td>\n",
              "      <td>5.093750</td>\n",
              "      <td>0</td>\n",
              "      <td>0</td>\n",
              "      <td>5</td>\n",
              "      <td>0</td>\n",
              "      <td>0</td>\n",
              "      <td>2</td>\n",
              "      <td>0</td>\n",
              "      <td>2.709415</td>\n",
              "    </tr>\n",
              "    <tr>\n",
              "      <th>1</th>\n",
              "      <td>6.335054</td>\n",
              "      <td>6.827990</td>\n",
              "      <td>4.934474</td>\n",
              "      <td>177</td>\n",
              "      <td>2.564949</td>\n",
              "      <td>6.037871</td>\n",
              "      <td>0</td>\n",
              "      <td>5</td>\n",
              "      <td>1</td>\n",
              "      <td>5</td>\n",
              "      <td>...</td>\n",
              "      <td>3.610918</td>\n",
              "      <td>7.131699</td>\n",
              "      <td>1</td>\n",
              "      <td>1</td>\n",
              "      <td>5</td>\n",
              "      <td>0</td>\n",
              "      <td>0</td>\n",
              "      <td>2</td>\n",
              "      <td>0</td>\n",
              "      <td>2.709415</td>\n",
              "    </tr>\n",
              "    <tr>\n",
              "      <th>2</th>\n",
              "      <td>6.803505</td>\n",
              "      <td>8.680000</td>\n",
              "      <td>4.127134</td>\n",
              "      <td>196</td>\n",
              "      <td>2.708050</td>\n",
              "      <td>5.303305</td>\n",
              "      <td>1</td>\n",
              "      <td>5</td>\n",
              "      <td>2</td>\n",
              "      <td>3</td>\n",
              "      <td>...</td>\n",
              "      <td>5.572154</td>\n",
              "      <td>7.295056</td>\n",
              "      <td>0</td>\n",
              "      <td>1</td>\n",
              "      <td>5</td>\n",
              "      <td>0</td>\n",
              "      <td>0</td>\n",
              "      <td>2</td>\n",
              "      <td>0</td>\n",
              "      <td>2.709415</td>\n",
              "    </tr>\n",
              "    <tr>\n",
              "      <th>3</th>\n",
              "      <td>6.340359</td>\n",
              "      <td>8.624435</td>\n",
              "      <td>4.934474</td>\n",
              "      <td>177</td>\n",
              "      <td>2.564949</td>\n",
              "      <td>4.969813</td>\n",
              "      <td>0</td>\n",
              "      <td>5</td>\n",
              "      <td>1</td>\n",
              "      <td>5</td>\n",
              "      <td>...</td>\n",
              "      <td>3.610918</td>\n",
              "      <td>7.131699</td>\n",
              "      <td>1</td>\n",
              "      <td>1</td>\n",
              "      <td>5</td>\n",
              "      <td>0</td>\n",
              "      <td>0</td>\n",
              "      <td>2</td>\n",
              "      <td>0</td>\n",
              "      <td>2.709415</td>\n",
              "    </tr>\n",
              "    <tr>\n",
              "      <th>4</th>\n",
              "      <td>4.919981</td>\n",
              "      <td>29.500000</td>\n",
              "      <td>3.091042</td>\n",
              "      <td>1</td>\n",
              "      <td>1.000000</td>\n",
              "      <td>6.037871</td>\n",
              "      <td>0</td>\n",
              "      <td>5</td>\n",
              "      <td>2</td>\n",
              "      <td>9</td>\n",
              "      <td>...</td>\n",
              "      <td>6.411818</td>\n",
              "      <td>6.947143</td>\n",
              "      <td>0</td>\n",
              "      <td>0</td>\n",
              "      <td>5</td>\n",
              "      <td>0</td>\n",
              "      <td>0</td>\n",
              "      <td>2</td>\n",
              "      <td>0</td>\n",
              "      <td>2.709415</td>\n",
              "    </tr>\n",
              "  </tbody>\n",
              "</table>\n",
              "<p>5 rows × 33 columns</p>\n",
              "</div>"
            ],
            "text/plain": [
              "   geo_block      price  district  metro       MCK    street  security  \\\n",
              "0   5.476464   5.402084  3.761200      5  2.772589  6.037871         1   \n",
              "1   6.335054   6.827990  4.934474    177  2.564949  6.037871         0   \n",
              "2   6.803505   8.680000  4.127134    196  2.708050  5.303305         1   \n",
              "3   6.340359   8.624435  4.934474    177  2.564949  4.969813         0   \n",
              "4   4.919981  29.500000  3.091042      1  1.000000  6.037871         0   \n",
              "\n",
              "   building_type  object_type  number_of_buildings  ...  New_building  \\\n",
              "0              5            2                    1  ...      0.693147   \n",
              "1              5            1                    5  ...      3.610918   \n",
              "2              5            2                    3  ...      5.572154   \n",
              "3              5            1                    5  ...      3.610918   \n",
              "4              5            2                    9  ...      6.411818   \n",
              "\n",
              "   number_of_apartments  Mortgage  elevator  balcony  Furniture  free_layout  \\\n",
              "0              5.093750         0         0        5          0            0   \n",
              "1              7.131699         1         1        5          0            0   \n",
              "2              7.295056         0         1        5          0            0   \n",
              "3              7.131699         1         1        5          0            0   \n",
              "4              6.947143         0         0        5          0            0   \n",
              "\n",
              "   type_home  Playground  kitchen_area  \n",
              "0          2           0      2.709415  \n",
              "1          2           0      2.709415  \n",
              "2          2           0      2.709415  \n",
              "3          2           0      2.709415  \n",
              "4          2           0      2.709415  \n",
              "\n",
              "[5 rows x 33 columns]"
            ]
          },
          "metadata": {
            "tags": []
          },
          "execution_count": 74
        }
      ]
    },
    {
      "cell_type": "markdown",
      "metadata": {
        "id": "ZsxqL8ewvxAG"
      },
      "source": [
        "**Пришло время к обучению. Было использовано: Linear Regression, Dummy Regressor, Random Forest Regressor, KNN Regressor, Gradient Boosting, XGB, CatBoost. Ещё использовались PCA - Метод Главных Компонент и StandardScaler, но к сильному улучшению линейных моделей это не привело, а остальные модели показывали хуже score. В итоге лучшая модель это Random Forest, но так же XGB и Catboost показывали похожий score что и RF**"
      ],
      "id": "ZsxqL8ewvxAG"
    },
    {
      "cell_type": "code",
      "metadata": {
        "id": "bored-berry",
        "outputId": "e042990b-050b-4fad-e3ce-5ca1f080bda1"
      },
      "source": [
        "logit = LinearRegression()\n",
        "logit.fit(X_train, y_train)\n",
        "mean_absolute_error(y_test, logit.predict(X_test))"
      ],
      "id": "bored-berry",
      "execution_count": null,
      "outputs": [
        {
          "output_type": "execute_result",
          "data": {
            "text/plain": [
              "12.559523689704186"
            ]
          },
          "metadata": {
            "tags": []
          },
          "execution_count": 77
        }
      ]
    },
    {
      "cell_type": "code",
      "metadata": {
        "id": "emotional-aircraft",
        "outputId": "66986f6e-d793-4156-8829-20252d77263d"
      },
      "source": [
        "model = DummyRegressor(strategy=\"median\")\n",
        "model.fit(X, y)\n",
        "y_pred = model.predict(X)\n",
        "\n",
        "mean_absolute_error(y, y_pred)"
      ],
      "id": "emotional-aircraft",
      "execution_count": null,
      "outputs": [
        {
          "output_type": "execute_result",
          "data": {
            "text/plain": [
              "10.446140640198838"
            ]
          },
          "metadata": {
            "tags": []
          },
          "execution_count": 78
        }
      ]
    },
    {
      "cell_type": "code",
      "metadata": {
        "id": "comprehensive-energy"
      },
      "source": [
        "sc = StandardScaler()"
      ],
      "id": "comprehensive-energy",
      "execution_count": null,
      "outputs": []
    },
    {
      "cell_type": "code",
      "metadata": {
        "id": "emotional-scott"
      },
      "source": [
        "X_train_sc = sc.fit_transform(X_train)\n",
        "X_test_sc = sc.transform(X_test)"
      ],
      "id": "emotional-scott",
      "execution_count": null,
      "outputs": []
    },
    {
      "cell_type": "code",
      "metadata": {
        "id": "viral-leave",
        "outputId": "32bc5f50-0254-4837-dd24-aaf32cae57e9"
      },
      "source": [
        "logit = LinearRegression()\n",
        "logit.fit(X_train_sc, y_train)"
      ],
      "id": "viral-leave",
      "execution_count": null,
      "outputs": [
        {
          "output_type": "execute_result",
          "data": {
            "text/plain": [
              "LinearRegression()"
            ]
          },
          "metadata": {
            "tags": []
          },
          "execution_count": 82
        }
      ]
    },
    {
      "cell_type": "code",
      "metadata": {
        "id": "adult-rating",
        "outputId": "4ff87268-1e50-44f3-a616-91b0b579f10a"
      },
      "source": [
        "mean_absolute_error(y_test, logit.predict(X_test_sc))"
      ],
      "id": "adult-rating",
      "execution_count": null,
      "outputs": [
        {
          "output_type": "execute_result",
          "data": {
            "text/plain": [
              "12.559523689704186"
            ]
          },
          "metadata": {
            "tags": []
          },
          "execution_count": 83
        }
      ]
    },
    {
      "cell_type": "code",
      "metadata": {
        "id": "vietnamese-display",
        "outputId": "59337e1c-56b2-40cf-d6e8-ca97f9a193ed"
      },
      "source": [
        "model = DummyRegressor(strategy=\"median\")\n",
        "model.fit(X_train_sc, y_train)\n",
        "y_pred = model.predict(X_test_sc)\n",
        "\n",
        "mean_absolute_error(y_test, y_pred)"
      ],
      "id": "vietnamese-display",
      "execution_count": null,
      "outputs": [
        {
          "output_type": "execute_result",
          "data": {
            "text/plain": [
              "10.121870564782725"
            ]
          },
          "metadata": {
            "tags": []
          },
          "execution_count": 84
        }
      ]
    },
    {
      "cell_type": "code",
      "metadata": {
        "id": "governmental-remove",
        "outputId": "92cb0a76-867c-4a9b-a699-0f381dc29439"
      },
      "source": [
        "rf1 = RandomForestRegressor()\n",
        "rf1.fit(X_train, y_train_log)\n",
        "mean_absolute_error(y_test, np.exp(rf1.predict(X_test)))"
      ],
      "id": "governmental-remove",
      "execution_count": null,
      "outputs": [
        {
          "output_type": "execute_result",
          "data": {
            "text/plain": [
              "2.4117405793727498"
            ]
          },
          "metadata": {
            "tags": []
          },
          "execution_count": 87
        }
      ]
    },
    {
      "cell_type": "code",
      "metadata": {
        "id": "australian-guest",
        "outputId": "51921121-a7da-43e7-98ee-acd0920ca77d"
      },
      "source": [
        "rf = RandomForestRegressor()\n",
        "rf.fit(X, np.log(y))\n",
        "#final submit "
      ],
      "id": "australian-guest",
      "execution_count": null,
      "outputs": [
        {
          "output_type": "execute_result",
          "data": {
            "text/plain": [
              "RandomForestRegressor()"
            ]
          },
          "metadata": {
            "tags": []
          },
          "execution_count": 88
        }
      ]
    },
    {
      "cell_type": "code",
      "metadata": {
        "id": "aerial-liberal",
        "outputId": "130165d7-19d8-44d9-a206-938fb7079191"
      },
      "source": [
        "pd.DataFrame({'name': X_train.columns, 'feature_importances_': rf1.feature_importances_}).sort_values('feature_importances_', ascending=0)"
      ],
      "id": "aerial-liberal",
      "execution_count": null,
      "outputs": [
        {
          "output_type": "execute_result",
          "data": {
            "text/html": [
              "<div>\n",
              "<style scoped>\n",
              "    .dataframe tbody tr th:only-of-type {\n",
              "        vertical-align: middle;\n",
              "    }\n",
              "\n",
              "    .dataframe tbody tr th {\n",
              "        vertical-align: top;\n",
              "    }\n",
              "\n",
              "    .dataframe thead th {\n",
              "        text-align: right;\n",
              "    }\n",
              "</style>\n",
              "<table border=\"1\" class=\"dataframe\">\n",
              "  <thead>\n",
              "    <tr style=\"text-align: right;\">\n",
              "      <th></th>\n",
              "      <th>name</th>\n",
              "      <th>feature_importances_</th>\n",
              "    </tr>\n",
              "  </thead>\n",
              "  <tbody>\n",
              "    <tr>\n",
              "      <th>11</th>\n",
              "      <td>total_area</td>\n",
              "      <td>0.734667</td>\n",
              "    </tr>\n",
              "    <tr>\n",
              "      <th>17</th>\n",
              "      <td>Housing_class</td>\n",
              "      <td>0.049417</td>\n",
              "    </tr>\n",
              "    <tr>\n",
              "      <th>20</th>\n",
              "      <td>height</td>\n",
              "      <td>0.044971</td>\n",
              "    </tr>\n",
              "    <tr>\n",
              "      <th>23</th>\n",
              "      <td>number_of_apartments</td>\n",
              "      <td>0.022111</td>\n",
              "    </tr>\n",
              "    <tr>\n",
              "      <th>3</th>\n",
              "      <td>MCK</td>\n",
              "      <td>0.020378</td>\n",
              "    </tr>\n",
              "    <tr>\n",
              "      <th>10</th>\n",
              "      <td>Developer</td>\n",
              "      <td>0.019873</td>\n",
              "    </tr>\n",
              "    <tr>\n",
              "      <th>0</th>\n",
              "      <td>geo_block</td>\n",
              "      <td>0.017899</td>\n",
              "    </tr>\n",
              "    <tr>\n",
              "      <th>8</th>\n",
              "      <td>number_of_buildings</td>\n",
              "      <td>0.012611</td>\n",
              "    </tr>\n",
              "    <tr>\n",
              "      <th>18</th>\n",
              "      <td>floors</td>\n",
              "      <td>0.010342</td>\n",
              "    </tr>\n",
              "    <tr>\n",
              "      <th>2</th>\n",
              "      <td>metro</td>\n",
              "      <td>0.010040</td>\n",
              "    </tr>\n",
              "    <tr>\n",
              "      <th>22</th>\n",
              "      <td>New_building</td>\n",
              "      <td>0.009019</td>\n",
              "    </tr>\n",
              "    <tr>\n",
              "      <th>1</th>\n",
              "      <td>district</td>\n",
              "      <td>0.008478</td>\n",
              "    </tr>\n",
              "    <tr>\n",
              "      <th>21</th>\n",
              "      <td>floor</td>\n",
              "      <td>0.007413</td>\n",
              "    </tr>\n",
              "    <tr>\n",
              "      <th>6</th>\n",
              "      <td>building_type</td>\n",
              "      <td>0.004630</td>\n",
              "    </tr>\n",
              "    <tr>\n",
              "      <th>31</th>\n",
              "      <td>kitchen_area</td>\n",
              "      <td>0.004207</td>\n",
              "    </tr>\n",
              "    <tr>\n",
              "      <th>4</th>\n",
              "      <td>street</td>\n",
              "      <td>0.004036</td>\n",
              "    </tr>\n",
              "    <tr>\n",
              "      <th>13</th>\n",
              "      <td>rooms</td>\n",
              "      <td>0.003225</td>\n",
              "    </tr>\n",
              "    <tr>\n",
              "      <th>12</th>\n",
              "      <td>month_of_publication</td>\n",
              "      <td>0.002909</td>\n",
              "    </tr>\n",
              "    <tr>\n",
              "      <th>5</th>\n",
              "      <td>security</td>\n",
              "      <td>0.002635</td>\n",
              "    </tr>\n",
              "    <tr>\n",
              "      <th>14</th>\n",
              "      <td>view_from_the_window</td>\n",
              "      <td>0.002129</td>\n",
              "    </tr>\n",
              "    <tr>\n",
              "      <th>15</th>\n",
              "      <td>parking</td>\n",
              "      <td>0.002073</td>\n",
              "    </tr>\n",
              "    <tr>\n",
              "      <th>26</th>\n",
              "      <td>balcony</td>\n",
              "      <td>0.001407</td>\n",
              "    </tr>\n",
              "    <tr>\n",
              "      <th>25</th>\n",
              "      <td>elevator</td>\n",
              "      <td>0.001335</td>\n",
              "    </tr>\n",
              "    <tr>\n",
              "      <th>16</th>\n",
              "      <td>update_date</td>\n",
              "      <td>0.000924</td>\n",
              "    </tr>\n",
              "    <tr>\n",
              "      <th>9</th>\n",
              "      <td>ad_type</td>\n",
              "      <td>0.000880</td>\n",
              "    </tr>\n",
              "    <tr>\n",
              "      <th>7</th>\n",
              "      <td>object_type</td>\n",
              "      <td>0.000479</td>\n",
              "    </tr>\n",
              "    <tr>\n",
              "      <th>28</th>\n",
              "      <td>free_layout</td>\n",
              "      <td>0.000465</td>\n",
              "    </tr>\n",
              "    <tr>\n",
              "      <th>19</th>\n",
              "      <td>agent_commission</td>\n",
              "      <td>0.000392</td>\n",
              "    </tr>\n",
              "    <tr>\n",
              "      <th>24</th>\n",
              "      <td>Mortgage</td>\n",
              "      <td>0.000357</td>\n",
              "    </tr>\n",
              "    <tr>\n",
              "      <th>27</th>\n",
              "      <td>Furniture</td>\n",
              "      <td>0.000347</td>\n",
              "    </tr>\n",
              "    <tr>\n",
              "      <th>29</th>\n",
              "      <td>type_home</td>\n",
              "      <td>0.000269</td>\n",
              "    </tr>\n",
              "    <tr>\n",
              "      <th>30</th>\n",
              "      <td>Playground</td>\n",
              "      <td>0.000082</td>\n",
              "    </tr>\n",
              "  </tbody>\n",
              "</table>\n",
              "</div>"
            ],
            "text/plain": [
              "                    name  feature_importances_\n",
              "11            total_area              0.734667\n",
              "17         Housing_class              0.049417\n",
              "20                height              0.044971\n",
              "23  number_of_apartments              0.022111\n",
              "3                    MCK              0.020378\n",
              "10             Developer              0.019873\n",
              "0              geo_block              0.017899\n",
              "8    number_of_buildings              0.012611\n",
              "18                floors              0.010342\n",
              "2                  metro              0.010040\n",
              "22          New_building              0.009019\n",
              "1               district              0.008478\n",
              "21                 floor              0.007413\n",
              "6          building_type              0.004630\n",
              "31          kitchen_area              0.004207\n",
              "4                 street              0.004036\n",
              "13                 rooms              0.003225\n",
              "12  month_of_publication              0.002909\n",
              "5               security              0.002635\n",
              "14  view_from_the_window              0.002129\n",
              "15               parking              0.002073\n",
              "26               balcony              0.001407\n",
              "25              elevator              0.001335\n",
              "16           update_date              0.000924\n",
              "9                ad_type              0.000880\n",
              "7            object_type              0.000479\n",
              "28           free_layout              0.000465\n",
              "19      agent_commission              0.000392\n",
              "24              Mortgage              0.000357\n",
              "27             Furniture              0.000347\n",
              "29             type_home              0.000269\n",
              "30            Playground              0.000082"
            ]
          },
          "metadata": {
            "tags": []
          },
          "execution_count": 90
        }
      ]
    },
    {
      "cell_type": "code",
      "metadata": {
        "id": "reserved-performer"
      },
      "source": [
        "param = {'n_estimators': range(90, 120, 10), 'max_depth': range(2, 10,3)}\n",
        "rf_cv = GridSearchCV(rf, param, n_jobs=-1, scoring='neg_mean_absolute_error', cv=5)\n",
        "rf_cv.fit(X_train, y_train)\n",
        "rf_cv.best_estimator_\n",
        "mean_absolute_error(y_test, rf_cv.predict(X_test))"
      ],
      "id": "reserved-performer",
      "execution_count": null,
      "outputs": []
    },
    {
      "cell_type": "code",
      "metadata": {
        "id": "dangerous-cheese",
        "outputId": "98e2e215-7b16-42d8-adb3-f13f324f8bd2"
      },
      "source": [
        "knn = KNeighborsRegressor()\n",
        "knn.fit(X_train_sc, y_train)\n",
        "mean_absolute_error(y_test, knn.predict(X_test_sc))"
      ],
      "id": "dangerous-cheese",
      "execution_count": null,
      "outputs": [
        {
          "output_type": "execute_result",
          "data": {
            "text/plain": [
              "4.140561015435884"
            ]
          },
          "metadata": {
            "tags": []
          },
          "execution_count": 97
        }
      ]
    },
    {
      "cell_type": "code",
      "metadata": {
        "id": "regulation-following",
        "outputId": "e483f02e-2e27-473a-97e4-5603e667b295"
      },
      "source": [
        "pca = PCA(0.90)\n",
        "X_train_pca_sc = pca.fit_transform(X_train_sc)\n",
        "X_test_pca_sc = pca.transform(X_test_sc)\n",
        "X_train_pca_sc.shape, X_train_sc.shape"
      ],
      "id": "regulation-following",
      "execution_count": null,
      "outputs": [
        {
          "output_type": "execute_result",
          "data": {
            "text/plain": [
              "((15230, 23), (15230, 32))"
            ]
          },
          "metadata": {
            "tags": []
          },
          "execution_count": 100
        }
      ]
    },
    {
      "cell_type": "code",
      "metadata": {
        "id": "leading-annex",
        "outputId": "ea4af552-eca1-4aa7-af5d-044f6a39fb51"
      },
      "source": [
        "knn = KNeighborsRegressor()\n",
        "knn.fit(X_train_pca_sc, y_train)\n",
        "mean_absolute_error(y_test, knn.predict(X_test_pca_sc))"
      ],
      "id": "leading-annex",
      "execution_count": null,
      "outputs": [
        {
          "output_type": "execute_result",
          "data": {
            "text/plain": [
              "4.137091468221807"
            ]
          },
          "metadata": {
            "tags": []
          },
          "execution_count": 101
        }
      ]
    },
    {
      "cell_type": "code",
      "metadata": {
        "id": "wrong-asset",
        "outputId": "b226bfd1-c493-40d0-cefd-9cdfc59e53b2"
      },
      "source": [
        "logit.fit(X_train_pca_sc, y_train)\n",
        "mean_absolute_error(y_test, logit.predict(X_test_pca_sc))"
      ],
      "id": "wrong-asset",
      "execution_count": null,
      "outputs": [
        {
          "output_type": "execute_result",
          "data": {
            "text/plain": [
              "12.766303562273182"
            ]
          },
          "metadata": {
            "tags": []
          },
          "execution_count": 102
        }
      ]
    },
    {
      "cell_type": "code",
      "metadata": {
        "id": "tropical-integral",
        "outputId": "4243dcfb-1db3-4ac0-d5f2-34ea8b5e1a7e"
      },
      "source": [
        "rf_pca = RandomForestRegressor(random_state=17)\n",
        "rf_pca.fit(X_train_pca_sc, y_train)\n",
        "mean_absolute_error(y_test, rf_pca.predict(X_test_pca_sc))"
      ],
      "id": "tropical-integral",
      "execution_count": null,
      "outputs": [
        {
          "output_type": "execute_result",
          "data": {
            "text/plain": [
              "4.051223091528077"
            ]
          },
          "metadata": {
            "tags": []
          },
          "execution_count": 103
        }
      ]
    },
    {
      "cell_type": "code",
      "metadata": {
        "id": "dental-month",
        "outputId": "307eba73-a0f8-4dee-ec4a-8bfb3e43362a"
      },
      "source": [
        "gbr = GradientBoostingRegressor()\n",
        "gbr.fit(X_train, y_train_log)\n",
        "mean_absolute_error(y_test, np.exp(gbr.predict(X_test)))"
      ],
      "id": "dental-month",
      "execution_count": null,
      "outputs": [
        {
          "output_type": "execute_result",
          "data": {
            "text/plain": [
              "3.3878870864050556"
            ]
          },
          "metadata": {
            "tags": []
          },
          "execution_count": 105
        }
      ]
    },
    {
      "cell_type": "code",
      "metadata": {
        "id": "elegant-upset",
        "outputId": "1d9043c9-01b6-4211-ca45-e6d9b73227e5"
      },
      "source": [
        "model = xgb.XGBRegressor()\n",
        "model.fit(X_train, y_train_log)\n",
        "mean_absolute_error(y_test, np.exp(model.predict(X_test)))"
      ],
      "id": "elegant-upset",
      "execution_count": null,
      "outputs": [
        {
          "output_type": "execute_result",
          "data": {
            "text/plain": [
              "2.4228318632207357"
            ]
          },
          "metadata": {
            "tags": []
          },
          "execution_count": 107
        }
      ]
    },
    {
      "cell_type": "code",
      "metadata": {
        "id": "gentle-wheat",
        "outputId": "274e7a42-26f3-48a2-dfbc-5af6d52f6f21"
      },
      "source": [
        "cat = cb.CatBoostRegressor(loss_function='RMSE')\n",
        "cat.fit(X_train, y_train_log)\n",
        "mean_absolute_error(y_test, np.exp(cat.predict(X_test)))"
      ],
      "id": "gentle-wheat",
      "execution_count": null,
      "outputs": [
        {
          "output_type": "stream",
          "text": [
            "Learning rate set to 0.063375\n",
            "0:\tlearn: 0.6951902\ttotal: 59.6ms\tremaining: 59.5s\n",
            "1:\tlearn: 0.6648651\ttotal: 69.2ms\tremaining: 34.5s\n",
            "2:\tlearn: 0.6365353\ttotal: 82.4ms\tremaining: 27.4s\n",
            "3:\tlearn: 0.6099497\ttotal: 90.7ms\tremaining: 22.6s\n",
            "4:\tlearn: 0.5846125\ttotal: 101ms\tremaining: 20s\n",
            "5:\tlearn: 0.5624760\ttotal: 110ms\tremaining: 18.2s\n",
            "6:\tlearn: 0.5413386\ttotal: 132ms\tremaining: 18.8s\n",
            "7:\tlearn: 0.5210771\ttotal: 143ms\tremaining: 17.8s\n",
            "8:\tlearn: 0.5015718\ttotal: 151ms\tremaining: 16.6s\n",
            "9:\tlearn: 0.4836221\ttotal: 158ms\tremaining: 15.7s\n",
            "10:\tlearn: 0.4673336\ttotal: 168ms\tremaining: 15.1s\n",
            "11:\tlearn: 0.4518118\ttotal: 175ms\tremaining: 14.4s\n",
            "12:\tlearn: 0.4377345\ttotal: 186ms\tremaining: 14.1s\n",
            "13:\tlearn: 0.4244947\ttotal: 196ms\tremaining: 13.8s\n",
            "14:\tlearn: 0.4123639\ttotal: 227ms\tremaining: 14.9s\n",
            "15:\tlearn: 0.4010468\ttotal: 239ms\tremaining: 14.7s\n",
            "16:\tlearn: 0.3903916\ttotal: 248ms\tremaining: 14.4s\n",
            "17:\tlearn: 0.3805140\ttotal: 257ms\tremaining: 14s\n",
            "18:\tlearn: 0.3719113\ttotal: 269ms\tremaining: 13.9s\n",
            "19:\tlearn: 0.3639130\ttotal: 279ms\tremaining: 13.6s\n",
            "20:\tlearn: 0.3558235\ttotal: 285ms\tremaining: 13.3s\n",
            "21:\tlearn: 0.3484227\ttotal: 294ms\tremaining: 13.1s\n",
            "22:\tlearn: 0.3412544\ttotal: 327ms\tremaining: 13.9s\n",
            "23:\tlearn: 0.3344135\ttotal: 337ms\tremaining: 13.7s\n",
            "24:\tlearn: 0.3283627\ttotal: 344ms\tremaining: 13.4s\n",
            "25:\tlearn: 0.3223154\ttotal: 353ms\tremaining: 13.2s\n",
            "26:\tlearn: 0.3173269\ttotal: 361ms\tremaining: 13s\n",
            "27:\tlearn: 0.3124606\ttotal: 368ms\tremaining: 12.8s\n",
            "28:\tlearn: 0.3082149\ttotal: 378ms\tremaining: 12.7s\n",
            "29:\tlearn: 0.3038240\ttotal: 385ms\tremaining: 12.4s\n",
            "30:\tlearn: 0.2996070\ttotal: 392ms\tremaining: 12.3s\n",
            "31:\tlearn: 0.2957431\ttotal: 425ms\tremaining: 12.9s\n",
            "32:\tlearn: 0.2922398\ttotal: 434ms\tremaining: 12.7s\n",
            "33:\tlearn: 0.2887622\ttotal: 444ms\tremaining: 12.6s\n",
            "34:\tlearn: 0.2854591\ttotal: 453ms\tremaining: 12.5s\n",
            "35:\tlearn: 0.2825612\ttotal: 460ms\tremaining: 12.3s\n",
            "36:\tlearn: 0.2788880\ttotal: 468ms\tremaining: 12.2s\n",
            "37:\tlearn: 0.2755640\ttotal: 476ms\tremaining: 12s\n",
            "38:\tlearn: 0.2727020\ttotal: 487ms\tremaining: 12s\n",
            "39:\tlearn: 0.2701200\ttotal: 494ms\tremaining: 11.9s\n",
            "40:\tlearn: 0.2674797\ttotal: 502ms\tremaining: 11.8s\n",
            "41:\tlearn: 0.2653619\ttotal: 527ms\tremaining: 12s\n",
            "42:\tlearn: 0.2634969\ttotal: 535ms\tremaining: 11.9s\n",
            "43:\tlearn: 0.2615819\ttotal: 544ms\tremaining: 11.8s\n",
            "44:\tlearn: 0.2599002\ttotal: 551ms\tremaining: 11.7s\n",
            "45:\tlearn: 0.2578132\ttotal: 560ms\tremaining: 11.6s\n",
            "46:\tlearn: 0.2562106\ttotal: 567ms\tremaining: 11.5s\n",
            "47:\tlearn: 0.2543829\ttotal: 575ms\tremaining: 11.4s\n",
            "48:\tlearn: 0.2530477\ttotal: 583ms\tremaining: 11.3s\n",
            "49:\tlearn: 0.2516079\ttotal: 591ms\tremaining: 11.2s\n",
            "50:\tlearn: 0.2502726\ttotal: 599ms\tremaining: 11.1s\n",
            "51:\tlearn: 0.2482143\ttotal: 607ms\tremaining: 11.1s\n",
            "52:\tlearn: 0.2470275\ttotal: 626ms\tremaining: 11.2s\n",
            "53:\tlearn: 0.2461235\ttotal: 634ms\tremaining: 11.1s\n",
            "54:\tlearn: 0.2447409\ttotal: 641ms\tremaining: 11s\n",
            "55:\tlearn: 0.2434251\ttotal: 647ms\tremaining: 10.9s\n",
            "56:\tlearn: 0.2423656\ttotal: 653ms\tremaining: 10.8s\n",
            "57:\tlearn: 0.2415178\ttotal: 661ms\tremaining: 10.7s\n",
            "58:\tlearn: 0.2406331\ttotal: 670ms\tremaining: 10.7s\n",
            "59:\tlearn: 0.2397127\ttotal: 678ms\tremaining: 10.6s\n",
            "60:\tlearn: 0.2389113\ttotal: 685ms\tremaining: 10.5s\n",
            "61:\tlearn: 0.2379830\ttotal: 692ms\tremaining: 10.5s\n",
            "62:\tlearn: 0.2369134\ttotal: 718ms\tremaining: 10.7s\n",
            "63:\tlearn: 0.2354003\ttotal: 726ms\tremaining: 10.6s\n",
            "64:\tlearn: 0.2344142\ttotal: 732ms\tremaining: 10.5s\n",
            "65:\tlearn: 0.2333713\ttotal: 738ms\tremaining: 10.4s\n",
            "66:\tlearn: 0.2320524\ttotal: 744ms\tremaining: 10.4s\n",
            "67:\tlearn: 0.2311356\ttotal: 753ms\tremaining: 10.3s\n",
            "68:\tlearn: 0.2306159\ttotal: 761ms\tremaining: 10.3s\n",
            "69:\tlearn: 0.2296793\ttotal: 769ms\tremaining: 10.2s\n",
            "70:\tlearn: 0.2289615\ttotal: 777ms\tremaining: 10.2s\n",
            "71:\tlearn: 0.2284097\ttotal: 785ms\tremaining: 10.1s\n",
            "72:\tlearn: 0.2279010\ttotal: 793ms\tremaining: 10.1s\n",
            "73:\tlearn: 0.2269547\ttotal: 819ms\tremaining: 10.3s\n",
            "74:\tlearn: 0.2258378\ttotal: 828ms\tremaining: 10.2s\n",
            "75:\tlearn: 0.2252591\ttotal: 836ms\tremaining: 10.2s\n",
            "76:\tlearn: 0.2246365\ttotal: 842ms\tremaining: 10.1s\n",
            "77:\tlearn: 0.2235164\ttotal: 851ms\tremaining: 10.1s\n",
            "78:\tlearn: 0.2229380\ttotal: 859ms\tremaining: 10s\n",
            "79:\tlearn: 0.2222045\ttotal: 867ms\tremaining: 9.97s\n",
            "80:\tlearn: 0.2215535\ttotal: 874ms\tremaining: 9.92s\n",
            "81:\tlearn: 0.2210795\ttotal: 881ms\tremaining: 9.86s\n",
            "82:\tlearn: 0.2203311\ttotal: 887ms\tremaining: 9.8s\n",
            "83:\tlearn: 0.2198238\ttotal: 895ms\tremaining: 9.76s\n",
            "84:\tlearn: 0.2190920\ttotal: 920ms\tremaining: 9.9s\n",
            "85:\tlearn: 0.2186372\ttotal: 926ms\tremaining: 9.84s\n",
            "86:\tlearn: 0.2181867\ttotal: 934ms\tremaining: 9.8s\n",
            "87:\tlearn: 0.2177457\ttotal: 942ms\tremaining: 9.76s\n",
            "88:\tlearn: 0.2169495\ttotal: 951ms\tremaining: 9.73s\n",
            "89:\tlearn: 0.2164661\ttotal: 961ms\tremaining: 9.72s\n",
            "90:\tlearn: 0.2161580\ttotal: 969ms\tremaining: 9.68s\n",
            "91:\tlearn: 0.2153372\ttotal: 978ms\tremaining: 9.65s\n",
            "92:\tlearn: 0.2148819\ttotal: 986ms\tremaining: 9.62s\n",
            "93:\tlearn: 0.2144505\ttotal: 994ms\tremaining: 9.58s\n",
            "94:\tlearn: 0.2139887\ttotal: 1.02s\tremaining: 9.68s\n",
            "95:\tlearn: 0.2134994\ttotal: 1.03s\tremaining: 9.68s\n",
            "96:\tlearn: 0.2130248\ttotal: 1.04s\tremaining: 9.65s\n",
            "97:\tlearn: 0.2123506\ttotal: 1.05s\tremaining: 9.65s\n",
            "98:\tlearn: 0.2118038\ttotal: 1.06s\tremaining: 9.62s\n",
            "99:\tlearn: 0.2113500\ttotal: 1.07s\tremaining: 9.6s\n",
            "100:\tlearn: 0.2107946\ttotal: 1.07s\tremaining: 9.58s\n",
            "101:\tlearn: 0.2102596\ttotal: 1.08s\tremaining: 9.56s\n",
            "102:\tlearn: 0.2098556\ttotal: 1.09s\tremaining: 9.51s\n",
            "103:\tlearn: 0.2094242\ttotal: 1.11s\tremaining: 9.61s\n",
            "104:\tlearn: 0.2090808\ttotal: 1.12s\tremaining: 9.57s\n",
            "105:\tlearn: 0.2086732\ttotal: 1.13s\tremaining: 9.56s\n",
            "106:\tlearn: 0.2081140\ttotal: 1.14s\tremaining: 9.53s\n",
            "107:\tlearn: 0.2077246\ttotal: 1.15s\tremaining: 9.49s\n",
            "108:\tlearn: 0.2071382\ttotal: 1.16s\tremaining: 9.46s\n",
            "109:\tlearn: 0.2068029\ttotal: 1.17s\tremaining: 9.43s\n",
            "110:\tlearn: 0.2062056\ttotal: 1.17s\tremaining: 9.4s\n",
            "111:\tlearn: 0.2059764\ttotal: 1.18s\tremaining: 9.36s\n",
            "112:\tlearn: 0.2056977\ttotal: 1.19s\tremaining: 9.33s\n",
            "113:\tlearn: 0.2051953\ttotal: 1.21s\tremaining: 9.42s\n",
            "114:\tlearn: 0.2049098\ttotal: 1.22s\tremaining: 9.39s\n",
            "115:\tlearn: 0.2046052\ttotal: 1.23s\tremaining: 9.36s\n",
            "116:\tlearn: 0.2042617\ttotal: 1.24s\tremaining: 9.35s\n",
            "117:\tlearn: 0.2040724\ttotal: 1.25s\tremaining: 9.32s\n",
            "118:\tlearn: 0.2036737\ttotal: 1.26s\tremaining: 9.32s\n",
            "119:\tlearn: 0.2033020\ttotal: 1.27s\tremaining: 9.29s\n",
            "120:\tlearn: 0.2027211\ttotal: 1.28s\tremaining: 9.29s\n",
            "121:\tlearn: 0.2023898\ttotal: 1.29s\tremaining: 9.26s\n",
            "122:\tlearn: 0.2021191\ttotal: 1.31s\tremaining: 9.36s\n",
            "123:\tlearn: 0.2016666\ttotal: 1.32s\tremaining: 9.34s\n",
            "124:\tlearn: 0.2012450\ttotal: 1.33s\tremaining: 9.31s\n",
            "125:\tlearn: 0.2010641\ttotal: 1.34s\tremaining: 9.3s\n",
            "126:\tlearn: 0.2007712\ttotal: 1.35s\tremaining: 9.27s\n",
            "127:\tlearn: 0.2004081\ttotal: 1.36s\tremaining: 9.24s\n",
            "128:\tlearn: 0.1999582\ttotal: 1.36s\tremaining: 9.21s\n",
            "129:\tlearn: 0.1992941\ttotal: 1.37s\tremaining: 9.17s\n",
            "130:\tlearn: 0.1989275\ttotal: 1.38s\tremaining: 9.16s\n",
            "131:\tlearn: 0.1985551\ttotal: 1.39s\tremaining: 9.14s\n",
            "132:\tlearn: 0.1981135\ttotal: 1.41s\tremaining: 9.21s\n",
            "133:\tlearn: 0.1977693\ttotal: 1.42s\tremaining: 9.18s\n",
            "134:\tlearn: 0.1974862\ttotal: 1.43s\tremaining: 9.15s\n",
            "135:\tlearn: 0.1972463\ttotal: 1.44s\tremaining: 9.13s\n",
            "136:\tlearn: 0.1968240\ttotal: 1.44s\tremaining: 9.1s\n",
            "137:\tlearn: 0.1964152\ttotal: 1.46s\tremaining: 9.09s\n",
            "138:\tlearn: 0.1960408\ttotal: 1.46s\tremaining: 9.04s\n",
            "139:\tlearn: 0.1956415\ttotal: 1.46s\tremaining: 8.99s\n",
            "140:\tlearn: 0.1953513\ttotal: 1.47s\tremaining: 8.97s\n",
            "141:\tlearn: 0.1950335\ttotal: 1.48s\tremaining: 8.95s\n",
            "142:\tlearn: 0.1947627\ttotal: 1.51s\tremaining: 9.05s\n",
            "143:\tlearn: 0.1943784\ttotal: 1.52s\tremaining: 9.04s\n",
            "144:\tlearn: 0.1940961\ttotal: 1.53s\tremaining: 9.01s\n",
            "145:\tlearn: 0.1939706\ttotal: 1.53s\tremaining: 8.97s\n",
            "146:\tlearn: 0.1936535\ttotal: 1.54s\tremaining: 8.95s\n",
            "147:\tlearn: 0.1931016\ttotal: 1.55s\tremaining: 8.92s\n",
            "148:\tlearn: 0.1928357\ttotal: 1.56s\tremaining: 8.9s\n",
            "149:\tlearn: 0.1922954\ttotal: 1.57s\tremaining: 8.88s\n",
            "150:\tlearn: 0.1918750\ttotal: 1.6s\tremaining: 9.02s\n",
            "151:\tlearn: 0.1916531\ttotal: 1.61s\tremaining: 9s\n",
            "152:\tlearn: 0.1913176\ttotal: 1.62s\tremaining: 8.97s\n",
            "153:\tlearn: 0.1907747\ttotal: 1.63s\tremaining: 8.94s\n",
            "154:\tlearn: 0.1904015\ttotal: 1.63s\tremaining: 8.91s\n",
            "155:\tlearn: 0.1901310\ttotal: 1.64s\tremaining: 8.88s\n",
            "156:\tlearn: 0.1898941\ttotal: 1.65s\tremaining: 8.86s\n",
            "157:\tlearn: 0.1896628\ttotal: 1.66s\tremaining: 8.84s\n",
            "158:\tlearn: 0.1893192\ttotal: 1.67s\tremaining: 8.82s\n",
            "159:\tlearn: 0.1889519\ttotal: 1.68s\tremaining: 8.8s\n",
            "160:\tlearn: 0.1886732\ttotal: 1.71s\tremaining: 8.9s\n",
            "161:\tlearn: 0.1884171\ttotal: 1.72s\tremaining: 8.89s\n",
            "162:\tlearn: 0.1881291\ttotal: 1.73s\tremaining: 8.87s\n",
            "163:\tlearn: 0.1878234\ttotal: 1.73s\tremaining: 8.84s\n",
            "164:\tlearn: 0.1875537\ttotal: 1.74s\tremaining: 8.82s\n",
            "165:\tlearn: 0.1873007\ttotal: 1.75s\tremaining: 8.79s\n",
            "166:\tlearn: 0.1870544\ttotal: 1.76s\tremaining: 8.76s\n",
            "167:\tlearn: 0.1866958\ttotal: 1.76s\tremaining: 8.74s\n",
            "168:\tlearn: 0.1862089\ttotal: 1.77s\tremaining: 8.72s\n",
            "169:\tlearn: 0.1856621\ttotal: 1.78s\tremaining: 8.7s\n",
            "170:\tlearn: 0.1853916\ttotal: 1.8s\tremaining: 8.75s\n",
            "171:\tlearn: 0.1852143\ttotal: 1.81s\tremaining: 8.73s\n",
            "172:\tlearn: 0.1851278\ttotal: 1.82s\tremaining: 8.71s\n"
          ],
          "name": "stdout"
        },
        {
          "output_type": "stream",
          "text": [
            "173:\tlearn: 0.1848963\ttotal: 1.83s\tremaining: 8.69s\n",
            "174:\tlearn: 0.1846704\ttotal: 1.84s\tremaining: 8.67s\n",
            "175:\tlearn: 0.1842922\ttotal: 1.85s\tremaining: 8.66s\n",
            "176:\tlearn: 0.1840175\ttotal: 1.86s\tremaining: 8.65s\n",
            "177:\tlearn: 0.1838071\ttotal: 1.87s\tremaining: 8.62s\n",
            "178:\tlearn: 0.1834951\ttotal: 1.88s\tremaining: 8.61s\n",
            "179:\tlearn: 0.1832664\ttotal: 1.9s\tremaining: 8.66s\n",
            "180:\tlearn: 0.1829744\ttotal: 1.91s\tremaining: 8.64s\n",
            "181:\tlearn: 0.1825872\ttotal: 1.92s\tremaining: 8.63s\n",
            "182:\tlearn: 0.1823855\ttotal: 1.93s\tremaining: 8.6s\n",
            "183:\tlearn: 0.1821883\ttotal: 1.93s\tremaining: 8.58s\n",
            "184:\tlearn: 0.1817103\ttotal: 1.94s\tremaining: 8.55s\n",
            "185:\tlearn: 0.1813606\ttotal: 1.95s\tremaining: 8.54s\n",
            "186:\tlearn: 0.1811438\ttotal: 1.96s\tremaining: 8.52s\n",
            "187:\tlearn: 0.1810556\ttotal: 1.97s\tremaining: 8.49s\n",
            "188:\tlearn: 0.1808972\ttotal: 1.97s\tremaining: 8.47s\n",
            "189:\tlearn: 0.1806042\ttotal: 2s\tremaining: 8.54s\n",
            "190:\tlearn: 0.1803565\ttotal: 2.01s\tremaining: 8.52s\n",
            "191:\tlearn: 0.1803074\ttotal: 2.02s\tremaining: 8.49s\n",
            "192:\tlearn: 0.1801112\ttotal: 2.02s\tremaining: 8.47s\n",
            "193:\tlearn: 0.1797599\ttotal: 2.03s\tremaining: 8.45s\n",
            "194:\tlearn: 0.1795131\ttotal: 2.04s\tremaining: 8.42s\n",
            "195:\tlearn: 0.1793017\ttotal: 2.05s\tremaining: 8.4s\n",
            "196:\tlearn: 0.1791117\ttotal: 2.06s\tremaining: 8.38s\n",
            "197:\tlearn: 0.1789208\ttotal: 2.06s\tremaining: 8.37s\n",
            "198:\tlearn: 0.1788388\ttotal: 2.07s\tremaining: 8.35s\n",
            "199:\tlearn: 0.1784996\ttotal: 2.1s\tremaining: 8.41s\n",
            "200:\tlearn: 0.1782290\ttotal: 2.11s\tremaining: 8.39s\n",
            "201:\tlearn: 0.1779886\ttotal: 2.12s\tremaining: 8.38s\n",
            "202:\tlearn: 0.1777508\ttotal: 2.13s\tremaining: 8.36s\n",
            "203:\tlearn: 0.1774146\ttotal: 2.13s\tremaining: 8.33s\n",
            "204:\tlearn: 0.1771322\ttotal: 2.14s\tremaining: 8.31s\n",
            "205:\tlearn: 0.1767990\ttotal: 2.15s\tremaining: 8.3s\n",
            "206:\tlearn: 0.1767233\ttotal: 2.16s\tremaining: 8.29s\n",
            "207:\tlearn: 0.1764281\ttotal: 2.17s\tremaining: 8.26s\n",
            "208:\tlearn: 0.1761512\ttotal: 2.18s\tremaining: 8.24s\n",
            "209:\tlearn: 0.1759059\ttotal: 2.2s\tremaining: 8.27s\n",
            "210:\tlearn: 0.1757022\ttotal: 2.21s\tremaining: 8.25s\n",
            "211:\tlearn: 0.1752726\ttotal: 2.21s\tremaining: 8.23s\n",
            "212:\tlearn: 0.1750139\ttotal: 2.22s\tremaining: 8.21s\n",
            "213:\tlearn: 0.1746926\ttotal: 2.23s\tremaining: 8.19s\n",
            "214:\tlearn: 0.1743963\ttotal: 2.24s\tremaining: 8.19s\n",
            "215:\tlearn: 0.1741913\ttotal: 2.25s\tremaining: 8.18s\n",
            "216:\tlearn: 0.1739331\ttotal: 2.26s\tremaining: 8.16s\n",
            "217:\tlearn: 0.1737370\ttotal: 2.27s\tremaining: 8.16s\n",
            "218:\tlearn: 0.1734438\ttotal: 2.29s\tremaining: 8.19s\n",
            "219:\tlearn: 0.1732582\ttotal: 2.3s\tremaining: 8.17s\n",
            "220:\tlearn: 0.1729714\ttotal: 2.31s\tremaining: 8.15s\n",
            "221:\tlearn: 0.1728530\ttotal: 2.32s\tremaining: 8.13s\n",
            "222:\tlearn: 0.1726658\ttotal: 2.33s\tremaining: 8.11s\n",
            "223:\tlearn: 0.1725002\ttotal: 2.33s\tremaining: 8.09s\n",
            "224:\tlearn: 0.1722080\ttotal: 2.34s\tremaining: 8.07s\n",
            "225:\tlearn: 0.1719700\ttotal: 2.35s\tremaining: 8.05s\n",
            "226:\tlearn: 0.1717445\ttotal: 2.36s\tremaining: 8.02s\n",
            "227:\tlearn: 0.1715168\ttotal: 2.36s\tremaining: 8s\n",
            "228:\tlearn: 0.1711735\ttotal: 2.37s\tremaining: 7.98s\n",
            "229:\tlearn: 0.1708449\ttotal: 2.39s\tremaining: 8s\n",
            "230:\tlearn: 0.1706824\ttotal: 2.4s\tremaining: 7.99s\n",
            "231:\tlearn: 0.1704794\ttotal: 2.41s\tremaining: 7.97s\n",
            "232:\tlearn: 0.1701677\ttotal: 2.42s\tremaining: 7.95s\n",
            "233:\tlearn: 0.1700012\ttotal: 2.42s\tremaining: 7.93s\n",
            "234:\tlearn: 0.1698329\ttotal: 2.43s\tremaining: 7.91s\n",
            "235:\tlearn: 0.1695208\ttotal: 2.44s\tremaining: 7.89s\n",
            "236:\tlearn: 0.1693128\ttotal: 2.44s\tremaining: 7.87s\n",
            "237:\tlearn: 0.1690023\ttotal: 2.45s\tremaining: 7.85s\n",
            "238:\tlearn: 0.1687235\ttotal: 2.46s\tremaining: 7.83s\n",
            "239:\tlearn: 0.1686039\ttotal: 2.47s\tremaining: 7.81s\n",
            "240:\tlearn: 0.1684708\ttotal: 2.49s\tremaining: 7.85s\n",
            "241:\tlearn: 0.1681750\ttotal: 2.5s\tremaining: 7.83s\n",
            "242:\tlearn: 0.1680311\ttotal: 2.51s\tremaining: 7.81s\n",
            "243:\tlearn: 0.1679872\ttotal: 2.51s\tremaining: 7.79s\n",
            "244:\tlearn: 0.1678302\ttotal: 2.52s\tremaining: 7.77s\n",
            "245:\tlearn: 0.1675687\ttotal: 2.53s\tremaining: 7.75s\n",
            "246:\tlearn: 0.1673870\ttotal: 2.54s\tremaining: 7.73s\n",
            "247:\tlearn: 0.1671589\ttotal: 2.54s\tremaining: 7.72s\n",
            "248:\tlearn: 0.1668894\ttotal: 2.55s\tremaining: 7.71s\n",
            "249:\tlearn: 0.1667485\ttotal: 2.56s\tremaining: 7.69s\n",
            "250:\tlearn: 0.1663773\ttotal: 2.59s\tremaining: 7.73s\n",
            "251:\tlearn: 0.1661976\ttotal: 2.6s\tremaining: 7.71s\n",
            "252:\tlearn: 0.1659427\ttotal: 2.61s\tremaining: 7.71s\n",
            "253:\tlearn: 0.1658735\ttotal: 2.62s\tremaining: 7.7s\n",
            "254:\tlearn: 0.1657281\ttotal: 2.63s\tremaining: 7.69s\n",
            "255:\tlearn: 0.1655571\ttotal: 2.64s\tremaining: 7.67s\n",
            "256:\tlearn: 0.1653523\ttotal: 2.65s\tremaining: 7.65s\n",
            "257:\tlearn: 0.1652126\ttotal: 2.66s\tremaining: 7.65s\n",
            "258:\tlearn: 0.1649506\ttotal: 2.66s\tremaining: 7.62s\n",
            "259:\tlearn: 0.1648005\ttotal: 2.67s\tremaining: 7.6s\n",
            "260:\tlearn: 0.1645165\ttotal: 2.69s\tremaining: 7.62s\n",
            "261:\tlearn: 0.1643982\ttotal: 2.7s\tremaining: 7.6s\n",
            "262:\tlearn: 0.1643159\ttotal: 2.71s\tremaining: 7.59s\n",
            "263:\tlearn: 0.1640369\ttotal: 2.72s\tremaining: 7.57s\n",
            "264:\tlearn: 0.1637117\ttotal: 2.73s\tremaining: 7.56s\n",
            "265:\tlearn: 0.1635688\ttotal: 2.73s\tremaining: 7.54s\n",
            "266:\tlearn: 0.1633631\ttotal: 2.74s\tremaining: 7.52s\n",
            "267:\tlearn: 0.1631923\ttotal: 2.75s\tremaining: 7.5s\n",
            "268:\tlearn: 0.1629243\ttotal: 2.75s\tremaining: 7.48s\n",
            "269:\tlearn: 0.1627352\ttotal: 2.76s\tremaining: 7.46s\n",
            "270:\tlearn: 0.1624440\ttotal: 2.77s\tremaining: 7.44s\n",
            "271:\tlearn: 0.1623041\ttotal: 2.79s\tremaining: 7.46s\n",
            "272:\tlearn: 0.1622706\ttotal: 2.8s\tremaining: 7.45s\n",
            "273:\tlearn: 0.1621804\ttotal: 2.8s\tremaining: 7.43s\n",
            "274:\tlearn: 0.1620459\ttotal: 2.81s\tremaining: 7.41s\n",
            "275:\tlearn: 0.1618660\ttotal: 2.82s\tremaining: 7.39s\n",
            "276:\tlearn: 0.1617222\ttotal: 2.82s\tremaining: 7.37s\n",
            "277:\tlearn: 0.1616360\ttotal: 2.83s\tremaining: 7.35s\n",
            "278:\tlearn: 0.1615217\ttotal: 2.84s\tremaining: 7.34s\n",
            "279:\tlearn: 0.1612555\ttotal: 2.85s\tremaining: 7.33s\n",
            "280:\tlearn: 0.1610380\ttotal: 2.86s\tremaining: 7.31s\n",
            "281:\tlearn: 0.1607163\ttotal: 2.87s\tremaining: 7.3s\n",
            "282:\tlearn: 0.1605354\ttotal: 2.89s\tremaining: 7.32s\n",
            "283:\tlearn: 0.1603910\ttotal: 2.9s\tremaining: 7.31s\n",
            "284:\tlearn: 0.1602044\ttotal: 2.91s\tremaining: 7.3s\n",
            "285:\tlearn: 0.1599777\ttotal: 2.92s\tremaining: 7.28s\n",
            "286:\tlearn: 0.1597035\ttotal: 2.92s\tremaining: 7.27s\n",
            "287:\tlearn: 0.1596419\ttotal: 2.93s\tremaining: 7.25s\n",
            "288:\tlearn: 0.1594847\ttotal: 2.94s\tremaining: 7.24s\n",
            "289:\tlearn: 0.1593080\ttotal: 2.95s\tremaining: 7.22s\n",
            "290:\tlearn: 0.1591277\ttotal: 2.96s\tremaining: 7.21s\n",
            "291:\tlearn: 0.1589912\ttotal: 2.98s\tremaining: 7.23s\n",
            "292:\tlearn: 0.1589047\ttotal: 2.99s\tremaining: 7.21s\n",
            "293:\tlearn: 0.1587067\ttotal: 3s\tremaining: 7.2s\n",
            "294:\tlearn: 0.1585519\ttotal: 3.01s\tremaining: 7.19s\n",
            "295:\tlearn: 0.1584034\ttotal: 3.02s\tremaining: 7.17s\n",
            "296:\tlearn: 0.1583349\ttotal: 3.02s\tremaining: 7.15s\n",
            "297:\tlearn: 0.1581994\ttotal: 3.03s\tremaining: 7.14s\n",
            "298:\tlearn: 0.1580086\ttotal: 3.04s\tremaining: 7.12s\n",
            "299:\tlearn: 0.1579813\ttotal: 3.05s\tremaining: 7.11s\n",
            "300:\tlearn: 0.1578461\ttotal: 3.06s\tremaining: 7.1s\n",
            "301:\tlearn: 0.1576775\ttotal: 3.08s\tremaining: 7.12s\n",
            "302:\tlearn: 0.1575685\ttotal: 3.09s\tremaining: 7.1s\n",
            "303:\tlearn: 0.1573643\ttotal: 3.1s\tremaining: 7.09s\n",
            "304:\tlearn: 0.1571988\ttotal: 3.11s\tremaining: 7.08s\n",
            "305:\tlearn: 0.1571095\ttotal: 3.12s\tremaining: 7.07s\n",
            "306:\tlearn: 0.1568516\ttotal: 3.12s\tremaining: 7.05s\n",
            "307:\tlearn: 0.1566770\ttotal: 3.13s\tremaining: 7.03s\n",
            "308:\tlearn: 0.1564789\ttotal: 3.13s\tremaining: 7.01s\n",
            "309:\tlearn: 0.1563608\ttotal: 3.14s\tremaining: 7s\n",
            "310:\tlearn: 0.1562440\ttotal: 3.15s\tremaining: 6.98s\n",
            "311:\tlearn: 0.1561755\ttotal: 3.15s\tremaining: 6.96s\n",
            "312:\tlearn: 0.1561073\ttotal: 3.17s\tremaining: 6.95s\n",
            "313:\tlearn: 0.1557492\ttotal: 3.19s\tremaining: 6.96s\n",
            "314:\tlearn: 0.1556428\ttotal: 3.19s\tremaining: 6.94s\n",
            "315:\tlearn: 0.1555129\ttotal: 3.2s\tremaining: 6.93s\n",
            "316:\tlearn: 0.1552948\ttotal: 3.21s\tremaining: 6.91s\n",
            "317:\tlearn: 0.1550483\ttotal: 3.22s\tremaining: 6.9s\n",
            "318:\tlearn: 0.1548312\ttotal: 3.22s\tremaining: 6.88s\n",
            "319:\tlearn: 0.1546438\ttotal: 3.23s\tremaining: 6.86s\n",
            "320:\tlearn: 0.1545509\ttotal: 3.24s\tremaining: 6.84s\n",
            "321:\tlearn: 0.1544021\ttotal: 3.24s\tremaining: 6.83s\n",
            "322:\tlearn: 0.1542243\ttotal: 3.25s\tremaining: 6.81s\n",
            "323:\tlearn: 0.1541133\ttotal: 3.26s\tremaining: 6.8s\n",
            "324:\tlearn: 0.1539972\ttotal: 3.28s\tremaining: 6.81s\n",
            "325:\tlearn: 0.1538889\ttotal: 3.29s\tremaining: 6.8s\n",
            "326:\tlearn: 0.1537791\ttotal: 3.3s\tremaining: 6.79s\n",
            "327:\tlearn: 0.1536313\ttotal: 3.31s\tremaining: 6.77s\n",
            "328:\tlearn: 0.1535351\ttotal: 3.31s\tremaining: 6.76s\n",
            "329:\tlearn: 0.1533935\ttotal: 3.32s\tremaining: 6.75s\n",
            "330:\tlearn: 0.1531831\ttotal: 3.33s\tremaining: 6.74s\n",
            "331:\tlearn: 0.1530659\ttotal: 3.34s\tremaining: 6.72s\n",
            "332:\tlearn: 0.1528988\ttotal: 3.35s\tremaining: 6.71s\n",
            "333:\tlearn: 0.1527380\ttotal: 3.38s\tremaining: 6.74s\n",
            "334:\tlearn: 0.1525110\ttotal: 3.39s\tremaining: 6.72s\n",
            "335:\tlearn: 0.1522515\ttotal: 3.4s\tremaining: 6.71s\n",
            "336:\tlearn: 0.1522325\ttotal: 3.4s\tremaining: 6.69s\n",
            "337:\tlearn: 0.1522142\ttotal: 3.41s\tremaining: 6.68s\n",
            "338:\tlearn: 0.1520889\ttotal: 3.42s\tremaining: 6.66s\n",
            "339:\tlearn: 0.1519704\ttotal: 3.42s\tremaining: 6.65s\n",
            "340:\tlearn: 0.1518538\ttotal: 3.43s\tremaining: 6.63s\n",
            "341:\tlearn: 0.1517539\ttotal: 3.44s\tremaining: 6.62s\n",
            "342:\tlearn: 0.1516800\ttotal: 3.45s\tremaining: 6.6s\n",
            "343:\tlearn: 0.1515521\ttotal: 3.45s\tremaining: 6.59s\n"
          ],
          "name": "stdout"
        },
        {
          "output_type": "stream",
          "text": [
            "344:\tlearn: 0.1514587\ttotal: 3.47s\tremaining: 6.6s\n",
            "345:\tlearn: 0.1511067\ttotal: 3.48s\tremaining: 6.58s\n",
            "346:\tlearn: 0.1510386\ttotal: 3.49s\tremaining: 6.57s\n",
            "347:\tlearn: 0.1508909\ttotal: 3.5s\tremaining: 6.56s\n",
            "348:\tlearn: 0.1507831\ttotal: 3.51s\tremaining: 6.55s\n",
            "349:\tlearn: 0.1507002\ttotal: 3.52s\tremaining: 6.53s\n",
            "350:\tlearn: 0.1505702\ttotal: 3.52s\tremaining: 6.51s\n",
            "351:\tlearn: 0.1503861\ttotal: 3.53s\tremaining: 6.5s\n",
            "352:\tlearn: 0.1502656\ttotal: 3.54s\tremaining: 6.49s\n",
            "353:\tlearn: 0.1501495\ttotal: 3.55s\tremaining: 6.47s\n",
            "354:\tlearn: 0.1500763\ttotal: 3.56s\tremaining: 6.46s\n",
            "355:\tlearn: 0.1499510\ttotal: 3.58s\tremaining: 6.47s\n",
            "356:\tlearn: 0.1498664\ttotal: 3.58s\tremaining: 6.45s\n",
            "357:\tlearn: 0.1497113\ttotal: 3.59s\tremaining: 6.44s\n",
            "358:\tlearn: 0.1494849\ttotal: 3.6s\tremaining: 6.42s\n",
            "359:\tlearn: 0.1493506\ttotal: 3.61s\tremaining: 6.42s\n",
            "360:\tlearn: 0.1492434\ttotal: 3.62s\tremaining: 6.4s\n",
            "361:\tlearn: 0.1490569\ttotal: 3.63s\tremaining: 6.39s\n",
            "362:\tlearn: 0.1489685\ttotal: 3.63s\tremaining: 6.38s\n",
            "363:\tlearn: 0.1487680\ttotal: 3.64s\tremaining: 6.36s\n",
            "364:\tlearn: 0.1486135\ttotal: 3.65s\tremaining: 6.35s\n",
            "365:\tlearn: 0.1485332\ttotal: 3.67s\tremaining: 6.36s\n",
            "366:\tlearn: 0.1484202\ttotal: 3.68s\tremaining: 6.35s\n",
            "367:\tlearn: 0.1481946\ttotal: 3.69s\tremaining: 6.33s\n",
            "368:\tlearn: 0.1481405\ttotal: 3.7s\tremaining: 6.32s\n",
            "369:\tlearn: 0.1479635\ttotal: 3.7s\tremaining: 6.31s\n",
            "370:\tlearn: 0.1478576\ttotal: 3.71s\tremaining: 6.29s\n",
            "371:\tlearn: 0.1478096\ttotal: 3.72s\tremaining: 6.29s\n",
            "372:\tlearn: 0.1477379\ttotal: 3.73s\tremaining: 6.27s\n",
            "373:\tlearn: 0.1476516\ttotal: 3.74s\tremaining: 6.26s\n",
            "374:\tlearn: 0.1475050\ttotal: 3.75s\tremaining: 6.24s\n",
            "375:\tlearn: 0.1473678\ttotal: 3.77s\tremaining: 6.25s\n",
            "376:\tlearn: 0.1472385\ttotal: 3.78s\tremaining: 6.24s\n",
            "377:\tlearn: 0.1470364\ttotal: 3.79s\tremaining: 6.23s\n",
            "378:\tlearn: 0.1468449\ttotal: 3.79s\tremaining: 6.22s\n",
            "379:\tlearn: 0.1466968\ttotal: 3.8s\tremaining: 6.21s\n",
            "380:\tlearn: 0.1465183\ttotal: 3.81s\tremaining: 6.19s\n",
            "381:\tlearn: 0.1463700\ttotal: 3.82s\tremaining: 6.18s\n",
            "382:\tlearn: 0.1462813\ttotal: 3.83s\tremaining: 6.17s\n",
            "383:\tlearn: 0.1461780\ttotal: 3.83s\tremaining: 6.15s\n",
            "384:\tlearn: 0.1460965\ttotal: 3.84s\tremaining: 6.14s\n",
            "385:\tlearn: 0.1459604\ttotal: 3.85s\tremaining: 6.13s\n",
            "386:\tlearn: 0.1458873\ttotal: 3.87s\tremaining: 6.13s\n",
            "387:\tlearn: 0.1457861\ttotal: 3.88s\tremaining: 6.12s\n",
            "388:\tlearn: 0.1456573\ttotal: 3.89s\tremaining: 6.11s\n",
            "389:\tlearn: 0.1455925\ttotal: 3.9s\tremaining: 6.1s\n",
            "390:\tlearn: 0.1455413\ttotal: 3.91s\tremaining: 6.09s\n",
            "391:\tlearn: 0.1454576\ttotal: 3.92s\tremaining: 6.08s\n",
            "392:\tlearn: 0.1452764\ttotal: 3.93s\tremaining: 6.07s\n",
            "393:\tlearn: 0.1451902\ttotal: 3.94s\tremaining: 6.06s\n",
            "394:\tlearn: 0.1450219\ttotal: 3.95s\tremaining: 6.04s\n",
            "395:\tlearn: 0.1449473\ttotal: 3.97s\tremaining: 6.05s\n",
            "396:\tlearn: 0.1447409\ttotal: 3.98s\tremaining: 6.04s\n",
            "397:\tlearn: 0.1446238\ttotal: 3.98s\tremaining: 6.02s\n",
            "398:\tlearn: 0.1445506\ttotal: 3.99s\tremaining: 6.01s\n",
            "399:\tlearn: 0.1444188\ttotal: 4s\tremaining: 6s\n",
            "400:\tlearn: 0.1443774\ttotal: 4.01s\tremaining: 5.99s\n",
            "401:\tlearn: 0.1443003\ttotal: 4.02s\tremaining: 5.97s\n",
            "402:\tlearn: 0.1441901\ttotal: 4.03s\tremaining: 5.96s\n",
            "403:\tlearn: 0.1440123\ttotal: 4.03s\tremaining: 5.95s\n",
            "404:\tlearn: 0.1439314\ttotal: 4.04s\tremaining: 5.94s\n",
            "405:\tlearn: 0.1439101\ttotal: 4.06s\tremaining: 5.95s\n",
            "406:\tlearn: 0.1438365\ttotal: 4.07s\tremaining: 5.93s\n",
            "407:\tlearn: 0.1437286\ttotal: 4.08s\tremaining: 5.92s\n",
            "408:\tlearn: 0.1436115\ttotal: 4.09s\tremaining: 5.91s\n",
            "409:\tlearn: 0.1434689\ttotal: 4.1s\tremaining: 5.9s\n",
            "410:\tlearn: 0.1434338\ttotal: 4.11s\tremaining: 5.89s\n",
            "411:\tlearn: 0.1432688\ttotal: 4.12s\tremaining: 5.88s\n",
            "412:\tlearn: 0.1431120\ttotal: 4.13s\tremaining: 5.87s\n",
            "413:\tlearn: 0.1430776\ttotal: 4.14s\tremaining: 5.86s\n",
            "414:\tlearn: 0.1429858\ttotal: 4.17s\tremaining: 5.88s\n",
            "415:\tlearn: 0.1428753\ttotal: 4.18s\tremaining: 5.87s\n",
            "416:\tlearn: 0.1428173\ttotal: 4.19s\tremaining: 5.86s\n",
            "417:\tlearn: 0.1427322\ttotal: 4.2s\tremaining: 5.84s\n",
            "418:\tlearn: 0.1425790\ttotal: 4.21s\tremaining: 5.83s\n",
            "419:\tlearn: 0.1424300\ttotal: 4.21s\tremaining: 5.82s\n",
            "420:\tlearn: 0.1423509\ttotal: 4.22s\tremaining: 5.81s\n",
            "421:\tlearn: 0.1421830\ttotal: 4.23s\tremaining: 5.79s\n",
            "422:\tlearn: 0.1421108\ttotal: 4.24s\tremaining: 5.78s\n",
            "423:\tlearn: 0.1420805\ttotal: 4.26s\tremaining: 5.79s\n",
            "424:\tlearn: 0.1419242\ttotal: 4.27s\tremaining: 5.78s\n",
            "425:\tlearn: 0.1419009\ttotal: 4.28s\tremaining: 5.76s\n",
            "426:\tlearn: 0.1418714\ttotal: 4.29s\tremaining: 5.75s\n",
            "427:\tlearn: 0.1418506\ttotal: 4.29s\tremaining: 5.74s\n",
            "428:\tlearn: 0.1417254\ttotal: 4.3s\tremaining: 5.73s\n",
            "429:\tlearn: 0.1416535\ttotal: 4.32s\tremaining: 5.72s\n",
            "430:\tlearn: 0.1414973\ttotal: 4.33s\tremaining: 5.71s\n",
            "431:\tlearn: 0.1413261\ttotal: 4.33s\tremaining: 5.7s\n",
            "432:\tlearn: 0.1412250\ttotal: 4.36s\tremaining: 5.7s\n",
            "433:\tlearn: 0.1411024\ttotal: 4.36s\tremaining: 5.69s\n",
            "434:\tlearn: 0.1410219\ttotal: 4.37s\tremaining: 5.68s\n",
            "435:\tlearn: 0.1408984\ttotal: 4.38s\tremaining: 5.67s\n",
            "436:\tlearn: 0.1408493\ttotal: 4.39s\tremaining: 5.65s\n",
            "437:\tlearn: 0.1407141\ttotal: 4.4s\tremaining: 5.64s\n",
            "438:\tlearn: 0.1405785\ttotal: 4.41s\tremaining: 5.63s\n",
            "439:\tlearn: 0.1404799\ttotal: 4.41s\tremaining: 5.62s\n",
            "440:\tlearn: 0.1403591\ttotal: 4.42s\tremaining: 5.61s\n",
            "441:\tlearn: 0.1402699\ttotal: 4.43s\tremaining: 5.59s\n",
            "442:\tlearn: 0.1401090\ttotal: 4.46s\tremaining: 5.6s\n",
            "443:\tlearn: 0.1400790\ttotal: 4.46s\tremaining: 5.59s\n",
            "444:\tlearn: 0.1399092\ttotal: 4.47s\tremaining: 5.58s\n",
            "445:\tlearn: 0.1397989\ttotal: 4.48s\tremaining: 5.57s\n",
            "446:\tlearn: 0.1397472\ttotal: 4.49s\tremaining: 5.56s\n",
            "447:\tlearn: 0.1396138\ttotal: 4.5s\tremaining: 5.54s\n",
            "448:\tlearn: 0.1394506\ttotal: 4.5s\tremaining: 5.53s\n",
            "449:\tlearn: 0.1392764\ttotal: 4.51s\tremaining: 5.52s\n",
            "450:\tlearn: 0.1390579\ttotal: 4.53s\tremaining: 5.51s\n",
            "451:\tlearn: 0.1389124\ttotal: 4.55s\tremaining: 5.52s\n",
            "452:\tlearn: 0.1387615\ttotal: 4.56s\tremaining: 5.51s\n",
            "453:\tlearn: 0.1386060\ttotal: 4.57s\tremaining: 5.5s\n",
            "454:\tlearn: 0.1385388\ttotal: 4.58s\tremaining: 5.49s\n",
            "455:\tlearn: 0.1384842\ttotal: 4.59s\tremaining: 5.47s\n",
            "456:\tlearn: 0.1383471\ttotal: 4.59s\tremaining: 5.46s\n",
            "457:\tlearn: 0.1382458\ttotal: 4.6s\tremaining: 5.45s\n",
            "458:\tlearn: 0.1382181\ttotal: 4.61s\tremaining: 5.43s\n",
            "459:\tlearn: 0.1381469\ttotal: 4.62s\tremaining: 5.42s\n",
            "460:\tlearn: 0.1380824\ttotal: 4.63s\tremaining: 5.41s\n",
            "461:\tlearn: 0.1379959\ttotal: 4.63s\tremaining: 5.4s\n",
            "462:\tlearn: 0.1378965\ttotal: 4.66s\tremaining: 5.4s\n",
            "463:\tlearn: 0.1378873\ttotal: 4.66s\tremaining: 5.39s\n",
            "464:\tlearn: 0.1377610\ttotal: 4.67s\tremaining: 5.37s\n",
            "465:\tlearn: 0.1377114\ttotal: 4.68s\tremaining: 5.36s\n",
            "466:\tlearn: 0.1376412\ttotal: 4.69s\tremaining: 5.35s\n",
            "467:\tlearn: 0.1375741\ttotal: 4.69s\tremaining: 5.33s\n",
            "468:\tlearn: 0.1374586\ttotal: 4.7s\tremaining: 5.33s\n",
            "469:\tlearn: 0.1372901\ttotal: 4.71s\tremaining: 5.32s\n",
            "470:\tlearn: 0.1371879\ttotal: 4.72s\tremaining: 5.3s\n",
            "471:\tlearn: 0.1371073\ttotal: 4.73s\tremaining: 5.29s\n",
            "472:\tlearn: 0.1370198\ttotal: 4.76s\tremaining: 5.3s\n",
            "473:\tlearn: 0.1369200\ttotal: 4.77s\tremaining: 5.29s\n",
            "474:\tlearn: 0.1368261\ttotal: 4.77s\tremaining: 5.28s\n",
            "475:\tlearn: 0.1368007\ttotal: 4.78s\tremaining: 5.26s\n",
            "476:\tlearn: 0.1366281\ttotal: 4.79s\tremaining: 5.25s\n",
            "477:\tlearn: 0.1365493\ttotal: 4.8s\tremaining: 5.24s\n",
            "478:\tlearn: 0.1364554\ttotal: 4.8s\tremaining: 5.23s\n",
            "479:\tlearn: 0.1363119\ttotal: 4.81s\tremaining: 5.21s\n",
            "480:\tlearn: 0.1362501\ttotal: 4.82s\tremaining: 5.2s\n",
            "481:\tlearn: 0.1361093\ttotal: 4.83s\tremaining: 5.19s\n",
            "482:\tlearn: 0.1359802\ttotal: 4.85s\tremaining: 5.19s\n",
            "483:\tlearn: 0.1358675\ttotal: 4.86s\tremaining: 5.18s\n",
            "484:\tlearn: 0.1357604\ttotal: 4.87s\tremaining: 5.17s\n",
            "485:\tlearn: 0.1356706\ttotal: 4.87s\tremaining: 5.15s\n",
            "486:\tlearn: 0.1355771\ttotal: 4.88s\tremaining: 5.14s\n",
            "487:\tlearn: 0.1354907\ttotal: 4.89s\tremaining: 5.13s\n",
            "488:\tlearn: 0.1353999\ttotal: 4.9s\tremaining: 5.12s\n",
            "489:\tlearn: 0.1353300\ttotal: 4.91s\tremaining: 5.11s\n",
            "490:\tlearn: 0.1352666\ttotal: 4.91s\tremaining: 5.09s\n",
            "491:\tlearn: 0.1351961\ttotal: 4.92s\tremaining: 5.08s\n",
            "492:\tlearn: 0.1351143\ttotal: 4.95s\tremaining: 5.09s\n",
            "493:\tlearn: 0.1350742\ttotal: 4.96s\tremaining: 5.08s\n",
            "494:\tlearn: 0.1350033\ttotal: 4.97s\tremaining: 5.07s\n",
            "495:\tlearn: 0.1349177\ttotal: 4.98s\tremaining: 5.06s\n",
            "496:\tlearn: 0.1348143\ttotal: 4.99s\tremaining: 5.04s\n",
            "497:\tlearn: 0.1346950\ttotal: 4.99s\tremaining: 5.03s\n",
            "498:\tlearn: 0.1345437\ttotal: 5s\tremaining: 5.02s\n",
            "499:\tlearn: 0.1344409\ttotal: 5.01s\tremaining: 5.01s\n",
            "500:\tlearn: 0.1344091\ttotal: 5.01s\tremaining: 5s\n",
            "501:\tlearn: 0.1343098\ttotal: 5.02s\tremaining: 4.98s\n",
            "502:\tlearn: 0.1342459\ttotal: 5.05s\tremaining: 4.99s\n",
            "503:\tlearn: 0.1341220\ttotal: 5.06s\tremaining: 4.98s\n",
            "504:\tlearn: 0.1340949\ttotal: 5.07s\tremaining: 4.97s\n",
            "505:\tlearn: 0.1339898\ttotal: 5.08s\tremaining: 4.96s\n",
            "506:\tlearn: 0.1339358\ttotal: 5.08s\tremaining: 4.95s\n",
            "507:\tlearn: 0.1338994\ttotal: 5.09s\tremaining: 4.93s\n"
          ],
          "name": "stdout"
        },
        {
          "output_type": "stream",
          "text": [
            "508:\tlearn: 0.1338369\ttotal: 5.1s\tremaining: 4.92s\n",
            "509:\tlearn: 0.1337210\ttotal: 5.11s\tremaining: 4.91s\n",
            "510:\tlearn: 0.1336002\ttotal: 5.12s\tremaining: 4.9s\n",
            "511:\tlearn: 0.1334863\ttotal: 5.14s\tremaining: 4.9s\n",
            "512:\tlearn: 0.1333570\ttotal: 5.16s\tremaining: 4.89s\n",
            "513:\tlearn: 0.1332515\ttotal: 5.16s\tremaining: 4.88s\n",
            "514:\tlearn: 0.1331895\ttotal: 5.17s\tremaining: 4.87s\n",
            "515:\tlearn: 0.1330917\ttotal: 5.18s\tremaining: 4.86s\n",
            "516:\tlearn: 0.1330131\ttotal: 5.19s\tremaining: 4.84s\n",
            "517:\tlearn: 0.1329432\ttotal: 5.2s\tremaining: 4.83s\n",
            "518:\tlearn: 0.1328488\ttotal: 5.2s\tremaining: 4.82s\n",
            "519:\tlearn: 0.1328148\ttotal: 5.21s\tremaining: 4.81s\n",
            "520:\tlearn: 0.1327477\ttotal: 5.22s\tremaining: 4.8s\n",
            "521:\tlearn: 0.1326633\ttotal: 5.24s\tremaining: 4.8s\n",
            "522:\tlearn: 0.1326000\ttotal: 5.25s\tremaining: 4.79s\n",
            "523:\tlearn: 0.1324715\ttotal: 5.26s\tremaining: 4.78s\n",
            "524:\tlearn: 0.1324222\ttotal: 5.27s\tremaining: 4.76s\n",
            "525:\tlearn: 0.1323121\ttotal: 5.27s\tremaining: 4.75s\n",
            "526:\tlearn: 0.1322235\ttotal: 5.28s\tremaining: 4.74s\n",
            "527:\tlearn: 0.1321412\ttotal: 5.29s\tremaining: 4.73s\n",
            "528:\tlearn: 0.1320559\ttotal: 5.3s\tremaining: 4.72s\n",
            "529:\tlearn: 0.1319629\ttotal: 5.31s\tremaining: 4.71s\n",
            "530:\tlearn: 0.1318660\ttotal: 5.32s\tremaining: 4.7s\n",
            "531:\tlearn: 0.1318182\ttotal: 5.34s\tremaining: 4.7s\n",
            "532:\tlearn: 0.1317870\ttotal: 5.35s\tremaining: 4.69s\n",
            "533:\tlearn: 0.1316811\ttotal: 5.36s\tremaining: 4.68s\n",
            "534:\tlearn: 0.1316279\ttotal: 5.37s\tremaining: 4.67s\n",
            "535:\tlearn: 0.1315306\ttotal: 5.38s\tremaining: 4.65s\n",
            "536:\tlearn: 0.1314776\ttotal: 5.38s\tremaining: 4.64s\n",
            "537:\tlearn: 0.1314337\ttotal: 5.39s\tremaining: 4.63s\n",
            "538:\tlearn: 0.1312956\ttotal: 5.4s\tremaining: 4.62s\n",
            "539:\tlearn: 0.1312505\ttotal: 5.41s\tremaining: 4.61s\n",
            "540:\tlearn: 0.1311444\ttotal: 5.42s\tremaining: 4.6s\n",
            "541:\tlearn: 0.1310454\ttotal: 5.44s\tremaining: 4.6s\n",
            "542:\tlearn: 0.1309612\ttotal: 5.45s\tremaining: 4.58s\n",
            "543:\tlearn: 0.1308601\ttotal: 5.46s\tremaining: 4.57s\n",
            "544:\tlearn: 0.1307940\ttotal: 5.46s\tremaining: 4.56s\n",
            "545:\tlearn: 0.1307329\ttotal: 5.47s\tremaining: 4.55s\n",
            "546:\tlearn: 0.1306468\ttotal: 5.48s\tremaining: 4.54s\n",
            "547:\tlearn: 0.1305854\ttotal: 5.49s\tremaining: 4.52s\n",
            "548:\tlearn: 0.1305286\ttotal: 5.49s\tremaining: 4.51s\n",
            "549:\tlearn: 0.1303997\ttotal: 5.5s\tremaining: 4.5s\n",
            "550:\tlearn: 0.1303873\ttotal: 5.51s\tremaining: 4.49s\n",
            "551:\tlearn: 0.1303173\ttotal: 5.54s\tremaining: 4.5s\n",
            "552:\tlearn: 0.1302884\ttotal: 5.55s\tremaining: 4.48s\n",
            "553:\tlearn: 0.1301428\ttotal: 5.55s\tremaining: 4.47s\n",
            "554:\tlearn: 0.1300402\ttotal: 5.57s\tremaining: 4.46s\n",
            "555:\tlearn: 0.1299548\ttotal: 5.57s\tremaining: 4.45s\n",
            "556:\tlearn: 0.1298500\ttotal: 5.58s\tremaining: 4.44s\n",
            "557:\tlearn: 0.1297761\ttotal: 5.59s\tremaining: 4.43s\n",
            "558:\tlearn: 0.1297257\ttotal: 5.6s\tremaining: 4.42s\n",
            "559:\tlearn: 0.1296635\ttotal: 5.6s\tremaining: 4.4s\n",
            "560:\tlearn: 0.1296013\ttotal: 5.61s\tremaining: 4.39s\n",
            "561:\tlearn: 0.1295576\ttotal: 5.62s\tremaining: 4.38s\n",
            "562:\tlearn: 0.1294651\ttotal: 5.64s\tremaining: 4.38s\n",
            "563:\tlearn: 0.1293786\ttotal: 5.64s\tremaining: 4.36s\n",
            "564:\tlearn: 0.1293247\ttotal: 5.65s\tremaining: 4.35s\n",
            "565:\tlearn: 0.1292345\ttotal: 5.66s\tremaining: 4.34s\n",
            "566:\tlearn: 0.1290920\ttotal: 5.66s\tremaining: 4.32s\n",
            "567:\tlearn: 0.1290264\ttotal: 5.67s\tremaining: 4.31s\n",
            "568:\tlearn: 0.1289792\ttotal: 5.68s\tremaining: 4.3s\n",
            "569:\tlearn: 0.1288538\ttotal: 5.69s\tremaining: 4.29s\n",
            "570:\tlearn: 0.1287750\ttotal: 5.7s\tremaining: 4.28s\n",
            "571:\tlearn: 0.1287254\ttotal: 5.7s\tremaining: 4.27s\n",
            "572:\tlearn: 0.1286453\ttotal: 5.71s\tremaining: 4.26s\n",
            "573:\tlearn: 0.1285514\ttotal: 5.74s\tremaining: 4.26s\n",
            "574:\tlearn: 0.1284964\ttotal: 5.75s\tremaining: 4.25s\n",
            "575:\tlearn: 0.1284534\ttotal: 5.76s\tremaining: 4.24s\n",
            "576:\tlearn: 0.1283372\ttotal: 5.76s\tremaining: 4.22s\n",
            "577:\tlearn: 0.1282716\ttotal: 5.77s\tremaining: 4.21s\n",
            "578:\tlearn: 0.1282136\ttotal: 5.78s\tremaining: 4.2s\n",
            "579:\tlearn: 0.1280934\ttotal: 5.79s\tremaining: 4.19s\n",
            "580:\tlearn: 0.1279176\ttotal: 5.79s\tremaining: 4.18s\n",
            "581:\tlearn: 0.1278825\ttotal: 5.81s\tremaining: 4.17s\n",
            "582:\tlearn: 0.1278338\ttotal: 5.81s\tremaining: 4.16s\n",
            "583:\tlearn: 0.1277723\ttotal: 5.83s\tremaining: 4.16s\n",
            "584:\tlearn: 0.1277395\ttotal: 5.84s\tremaining: 4.14s\n",
            "585:\tlearn: 0.1276516\ttotal: 5.85s\tremaining: 4.13s\n",
            "586:\tlearn: 0.1275463\ttotal: 5.86s\tremaining: 4.12s\n",
            "587:\tlearn: 0.1274725\ttotal: 5.87s\tremaining: 4.11s\n",
            "588:\tlearn: 0.1273926\ttotal: 5.88s\tremaining: 4.1s\n",
            "589:\tlearn: 0.1273804\ttotal: 5.88s\tremaining: 4.09s\n",
            "590:\tlearn: 0.1272827\ttotal: 5.89s\tremaining: 4.08s\n",
            "591:\tlearn: 0.1272217\ttotal: 5.9s\tremaining: 4.06s\n",
            "592:\tlearn: 0.1271511\ttotal: 5.91s\tremaining: 4.05s\n",
            "593:\tlearn: 0.1270874\ttotal: 5.93s\tremaining: 4.05s\n",
            "594:\tlearn: 0.1270371\ttotal: 5.94s\tremaining: 4.04s\n",
            "595:\tlearn: 0.1270001\ttotal: 5.95s\tremaining: 4.03s\n",
            "596:\tlearn: 0.1269678\ttotal: 5.95s\tremaining: 4.02s\n",
            "597:\tlearn: 0.1269192\ttotal: 5.96s\tremaining: 4.01s\n",
            "598:\tlearn: 0.1268201\ttotal: 5.97s\tremaining: 4s\n",
            "599:\tlearn: 0.1267325\ttotal: 5.98s\tremaining: 3.98s\n",
            "600:\tlearn: 0.1266749\ttotal: 5.99s\tremaining: 3.98s\n",
            "601:\tlearn: 0.1266406\ttotal: 6s\tremaining: 3.97s\n",
            "602:\tlearn: 0.1265767\ttotal: 6s\tremaining: 3.95s\n",
            "603:\tlearn: 0.1265150\ttotal: 6.03s\tremaining: 3.95s\n",
            "604:\tlearn: 0.1264266\ttotal: 6.03s\tremaining: 3.94s\n",
            "605:\tlearn: 0.1263645\ttotal: 6.04s\tremaining: 3.93s\n",
            "606:\tlearn: 0.1263333\ttotal: 6.05s\tremaining: 3.92s\n",
            "607:\tlearn: 0.1262569\ttotal: 6.06s\tremaining: 3.91s\n",
            "608:\tlearn: 0.1262168\ttotal: 6.07s\tremaining: 3.9s\n",
            "609:\tlearn: 0.1261316\ttotal: 6.08s\tremaining: 3.88s\n",
            "610:\tlearn: 0.1260982\ttotal: 6.08s\tremaining: 3.87s\n",
            "611:\tlearn: 0.1260602\ttotal: 6.09s\tremaining: 3.86s\n",
            "612:\tlearn: 0.1260060\ttotal: 6.1s\tremaining: 3.85s\n",
            "613:\tlearn: 0.1259744\ttotal: 6.13s\tremaining: 3.85s\n",
            "614:\tlearn: 0.1259496\ttotal: 6.13s\tremaining: 3.84s\n",
            "615:\tlearn: 0.1258581\ttotal: 6.14s\tremaining: 3.83s\n",
            "616:\tlearn: 0.1258004\ttotal: 6.15s\tremaining: 3.82s\n",
            "617:\tlearn: 0.1257355\ttotal: 6.17s\tremaining: 3.81s\n",
            "618:\tlearn: 0.1256780\ttotal: 6.18s\tremaining: 3.8s\n",
            "619:\tlearn: 0.1255959\ttotal: 6.19s\tremaining: 3.79s\n",
            "620:\tlearn: 0.1255436\ttotal: 6.2s\tremaining: 3.78s\n",
            "621:\tlearn: 0.1255252\ttotal: 6.22s\tremaining: 3.78s\n",
            "622:\tlearn: 0.1254649\ttotal: 6.23s\tremaining: 3.77s\n",
            "623:\tlearn: 0.1254165\ttotal: 6.24s\tremaining: 3.76s\n",
            "624:\tlearn: 0.1253440\ttotal: 6.25s\tremaining: 3.75s\n",
            "625:\tlearn: 0.1252894\ttotal: 6.26s\tremaining: 3.74s\n",
            "626:\tlearn: 0.1252255\ttotal: 6.26s\tremaining: 3.73s\n",
            "627:\tlearn: 0.1251880\ttotal: 6.27s\tremaining: 3.71s\n",
            "628:\tlearn: 0.1250963\ttotal: 6.28s\tremaining: 3.7s\n",
            "629:\tlearn: 0.1250118\ttotal: 6.29s\tremaining: 3.69s\n",
            "630:\tlearn: 0.1249394\ttotal: 6.3s\tremaining: 3.68s\n",
            "631:\tlearn: 0.1248892\ttotal: 6.32s\tremaining: 3.68s\n",
            "632:\tlearn: 0.1248375\ttotal: 6.33s\tremaining: 3.67s\n",
            "633:\tlearn: 0.1247776\ttotal: 6.33s\tremaining: 3.66s\n",
            "634:\tlearn: 0.1247245\ttotal: 6.34s\tremaining: 3.65s\n",
            "635:\tlearn: 0.1246966\ttotal: 6.35s\tremaining: 3.63s\n",
            "636:\tlearn: 0.1246022\ttotal: 6.36s\tremaining: 3.62s\n",
            "637:\tlearn: 0.1245537\ttotal: 6.37s\tremaining: 3.61s\n",
            "638:\tlearn: 0.1245409\ttotal: 6.37s\tremaining: 3.6s\n",
            "639:\tlearn: 0.1244857\ttotal: 6.38s\tremaining: 3.59s\n",
            "640:\tlearn: 0.1244045\ttotal: 6.39s\tremaining: 3.58s\n",
            "641:\tlearn: 0.1243280\ttotal: 6.42s\tremaining: 3.58s\n",
            "642:\tlearn: 0.1242680\ttotal: 6.42s\tremaining: 3.57s\n",
            "643:\tlearn: 0.1241718\ttotal: 6.43s\tremaining: 3.56s\n",
            "644:\tlearn: 0.1241212\ttotal: 6.44s\tremaining: 3.54s\n",
            "645:\tlearn: 0.1240494\ttotal: 6.45s\tremaining: 3.53s\n",
            "646:\tlearn: 0.1239995\ttotal: 6.46s\tremaining: 3.52s\n",
            "647:\tlearn: 0.1239396\ttotal: 6.47s\tremaining: 3.51s\n",
            "648:\tlearn: 0.1238789\ttotal: 6.47s\tremaining: 3.5s\n",
            "649:\tlearn: 0.1238283\ttotal: 6.49s\tremaining: 3.49s\n",
            "650:\tlearn: 0.1238185\ttotal: 6.49s\tremaining: 3.48s\n",
            "651:\tlearn: 0.1237698\ttotal: 6.52s\tremaining: 3.48s\n",
            "652:\tlearn: 0.1237207\ttotal: 6.53s\tremaining: 3.47s\n",
            "653:\tlearn: 0.1236842\ttotal: 6.53s\tremaining: 3.46s\n",
            "654:\tlearn: 0.1236229\ttotal: 6.54s\tremaining: 3.44s\n",
            "655:\tlearn: 0.1235591\ttotal: 6.55s\tremaining: 3.44s\n",
            "656:\tlearn: 0.1234714\ttotal: 6.56s\tremaining: 3.42s\n",
            "657:\tlearn: 0.1233604\ttotal: 6.57s\tremaining: 3.42s\n",
            "658:\tlearn: 0.1232914\ttotal: 6.59s\tremaining: 3.41s\n",
            "659:\tlearn: 0.1232160\ttotal: 6.59s\tremaining: 3.4s\n",
            "660:\tlearn: 0.1231089\ttotal: 6.62s\tremaining: 3.39s\n",
            "661:\tlearn: 0.1230368\ttotal: 6.62s\tremaining: 3.38s\n",
            "662:\tlearn: 0.1229144\ttotal: 6.63s\tremaining: 3.37s\n",
            "663:\tlearn: 0.1228423\ttotal: 6.64s\tremaining: 3.36s\n",
            "664:\tlearn: 0.1228068\ttotal: 6.65s\tremaining: 3.35s\n",
            "665:\tlearn: 0.1227400\ttotal: 6.66s\tremaining: 3.34s\n",
            "666:\tlearn: 0.1226816\ttotal: 6.67s\tremaining: 3.33s\n",
            "667:\tlearn: 0.1226390\ttotal: 6.68s\tremaining: 3.32s\n",
            "668:\tlearn: 0.1226169\ttotal: 6.69s\tremaining: 3.31s\n",
            "669:\tlearn: 0.1225149\ttotal: 6.71s\tremaining: 3.31s\n",
            "670:\tlearn: 0.1224323\ttotal: 6.72s\tremaining: 3.3s\n",
            "671:\tlearn: 0.1223682\ttotal: 6.73s\tremaining: 3.29s\n",
            "672:\tlearn: 0.1223062\ttotal: 6.74s\tremaining: 3.27s\n"
          ],
          "name": "stdout"
        },
        {
          "output_type": "stream",
          "text": [
            "673:\tlearn: 0.1222483\ttotal: 6.75s\tremaining: 3.26s\n",
            "674:\tlearn: 0.1221947\ttotal: 6.75s\tremaining: 3.25s\n",
            "675:\tlearn: 0.1221164\ttotal: 6.76s\tremaining: 3.24s\n",
            "676:\tlearn: 0.1220620\ttotal: 6.77s\tremaining: 3.23s\n",
            "677:\tlearn: 0.1220098\ttotal: 6.78s\tremaining: 3.22s\n",
            "678:\tlearn: 0.1219407\ttotal: 6.79s\tremaining: 3.21s\n",
            "679:\tlearn: 0.1218734\ttotal: 6.8s\tremaining: 3.2s\n",
            "680:\tlearn: 0.1217830\ttotal: 6.81s\tremaining: 3.19s\n",
            "681:\tlearn: 0.1217320\ttotal: 6.82s\tremaining: 3.18s\n",
            "682:\tlearn: 0.1216179\ttotal: 6.83s\tremaining: 3.17s\n",
            "683:\tlearn: 0.1215458\ttotal: 6.84s\tremaining: 3.16s\n",
            "684:\tlearn: 0.1215011\ttotal: 6.84s\tremaining: 3.15s\n",
            "685:\tlearn: 0.1214203\ttotal: 6.85s\tremaining: 3.14s\n",
            "686:\tlearn: 0.1213704\ttotal: 6.86s\tremaining: 3.13s\n",
            "687:\tlearn: 0.1212964\ttotal: 6.87s\tremaining: 3.12s\n",
            "688:\tlearn: 0.1212065\ttotal: 6.88s\tremaining: 3.1s\n",
            "689:\tlearn: 0.1211593\ttotal: 6.89s\tremaining: 3.09s\n",
            "690:\tlearn: 0.1211081\ttotal: 6.91s\tremaining: 3.09s\n",
            "691:\tlearn: 0.1210534\ttotal: 6.92s\tremaining: 3.08s\n",
            "692:\tlearn: 0.1210117\ttotal: 6.92s\tremaining: 3.07s\n",
            "693:\tlearn: 0.1209185\ttotal: 6.93s\tremaining: 3.06s\n",
            "694:\tlearn: 0.1208663\ttotal: 6.94s\tremaining: 3.04s\n",
            "695:\tlearn: 0.1207813\ttotal: 6.95s\tremaining: 3.03s\n",
            "696:\tlearn: 0.1207262\ttotal: 6.95s\tremaining: 3.02s\n",
            "697:\tlearn: 0.1206665\ttotal: 6.96s\tremaining: 3.01s\n",
            "698:\tlearn: 0.1206309\ttotal: 6.97s\tremaining: 3s\n",
            "699:\tlearn: 0.1205799\ttotal: 6.98s\tremaining: 2.99s\n",
            "700:\tlearn: 0.1205226\ttotal: 6.99s\tremaining: 2.98s\n",
            "701:\tlearn: 0.1204589\ttotal: 7.01s\tremaining: 2.98s\n",
            "702:\tlearn: 0.1204197\ttotal: 7.02s\tremaining: 2.96s\n",
            "703:\tlearn: 0.1203646\ttotal: 7.02s\tremaining: 2.95s\n",
            "704:\tlearn: 0.1202810\ttotal: 7.03s\tremaining: 2.94s\n",
            "705:\tlearn: 0.1202100\ttotal: 7.04s\tremaining: 2.93s\n",
            "706:\tlearn: 0.1201482\ttotal: 7.05s\tremaining: 2.92s\n",
            "707:\tlearn: 0.1201377\ttotal: 7.05s\tremaining: 2.91s\n",
            "708:\tlearn: 0.1201115\ttotal: 7.06s\tremaining: 2.9s\n",
            "709:\tlearn: 0.1200626\ttotal: 7.07s\tremaining: 2.89s\n",
            "710:\tlearn: 0.1200099\ttotal: 7.08s\tremaining: 2.88s\n",
            "711:\tlearn: 0.1198900\ttotal: 7.08s\tremaining: 2.87s\n",
            "712:\tlearn: 0.1198359\ttotal: 7.11s\tremaining: 2.86s\n",
            "713:\tlearn: 0.1198031\ttotal: 7.11s\tremaining: 2.85s\n",
            "714:\tlearn: 0.1197386\ttotal: 7.12s\tremaining: 2.84s\n",
            "715:\tlearn: 0.1196635\ttotal: 7.13s\tremaining: 2.83s\n",
            "716:\tlearn: 0.1196154\ttotal: 7.14s\tremaining: 2.82s\n",
            "717:\tlearn: 0.1195505\ttotal: 7.15s\tremaining: 2.81s\n",
            "718:\tlearn: 0.1194377\ttotal: 7.16s\tremaining: 2.8s\n",
            "719:\tlearn: 0.1193967\ttotal: 7.17s\tremaining: 2.79s\n",
            "720:\tlearn: 0.1193724\ttotal: 7.18s\tremaining: 2.78s\n",
            "721:\tlearn: 0.1193173\ttotal: 7.2s\tremaining: 2.77s\n",
            "722:\tlearn: 0.1192778\ttotal: 7.21s\tremaining: 2.76s\n",
            "723:\tlearn: 0.1192087\ttotal: 7.22s\tremaining: 2.75s\n",
            "724:\tlearn: 0.1191436\ttotal: 7.23s\tremaining: 2.74s\n",
            "725:\tlearn: 0.1190447\ttotal: 7.24s\tremaining: 2.73s\n",
            "726:\tlearn: 0.1189894\ttotal: 7.25s\tremaining: 2.72s\n",
            "727:\tlearn: 0.1189291\ttotal: 7.25s\tremaining: 2.71s\n",
            "728:\tlearn: 0.1188310\ttotal: 7.26s\tremaining: 2.7s\n",
            "729:\tlearn: 0.1187416\ttotal: 7.27s\tremaining: 2.69s\n",
            "730:\tlearn: 0.1187076\ttotal: 7.27s\tremaining: 2.68s\n",
            "731:\tlearn: 0.1186491\ttotal: 7.3s\tremaining: 2.67s\n",
            "732:\tlearn: 0.1185965\ttotal: 7.31s\tremaining: 2.66s\n",
            "733:\tlearn: 0.1184777\ttotal: 7.32s\tremaining: 2.65s\n",
            "734:\tlearn: 0.1184265\ttotal: 7.32s\tremaining: 2.64s\n",
            "735:\tlearn: 0.1183269\ttotal: 7.33s\tremaining: 2.63s\n",
            "736:\tlearn: 0.1182905\ttotal: 7.34s\tremaining: 2.62s\n",
            "737:\tlearn: 0.1181584\ttotal: 7.34s\tremaining: 2.61s\n",
            "738:\tlearn: 0.1180955\ttotal: 7.36s\tremaining: 2.6s\n",
            "739:\tlearn: 0.1180850\ttotal: 7.36s\tremaining: 2.59s\n",
            "740:\tlearn: 0.1180237\ttotal: 7.37s\tremaining: 2.58s\n",
            "741:\tlearn: 0.1179778\ttotal: 7.4s\tremaining: 2.57s\n",
            "742:\tlearn: 0.1179245\ttotal: 7.41s\tremaining: 2.56s\n",
            "743:\tlearn: 0.1178883\ttotal: 7.42s\tremaining: 2.55s\n",
            "744:\tlearn: 0.1178111\ttotal: 7.43s\tremaining: 2.54s\n",
            "745:\tlearn: 0.1177687\ttotal: 7.43s\tremaining: 2.53s\n",
            "746:\tlearn: 0.1177225\ttotal: 7.44s\tremaining: 2.52s\n",
            "747:\tlearn: 0.1177086\ttotal: 7.45s\tremaining: 2.51s\n",
            "748:\tlearn: 0.1176583\ttotal: 7.46s\tremaining: 2.5s\n",
            "749:\tlearn: 0.1176028\ttotal: 7.46s\tremaining: 2.49s\n",
            "750:\tlearn: 0.1175628\ttotal: 7.47s\tremaining: 2.48s\n",
            "751:\tlearn: 0.1175387\ttotal: 7.5s\tremaining: 2.47s\n",
            "752:\tlearn: 0.1174774\ttotal: 7.5s\tremaining: 2.46s\n",
            "753:\tlearn: 0.1174390\ttotal: 7.51s\tremaining: 2.45s\n",
            "754:\tlearn: 0.1173798\ttotal: 7.52s\tremaining: 2.44s\n",
            "755:\tlearn: 0.1173250\ttotal: 7.53s\tremaining: 2.43s\n",
            "756:\tlearn: 0.1173097\ttotal: 7.54s\tremaining: 2.42s\n",
            "757:\tlearn: 0.1172539\ttotal: 7.55s\tremaining: 2.41s\n",
            "758:\tlearn: 0.1171780\ttotal: 7.56s\tremaining: 2.4s\n",
            "759:\tlearn: 0.1171052\ttotal: 7.56s\tremaining: 2.39s\n",
            "760:\tlearn: 0.1170664\ttotal: 7.57s\tremaining: 2.38s\n",
            "761:\tlearn: 0.1170155\ttotal: 7.6s\tremaining: 2.37s\n",
            "762:\tlearn: 0.1169477\ttotal: 7.61s\tremaining: 2.36s\n",
            "763:\tlearn: 0.1168954\ttotal: 7.62s\tremaining: 2.35s\n",
            "764:\tlearn: 0.1168370\ttotal: 7.63s\tremaining: 2.34s\n",
            "765:\tlearn: 0.1167793\ttotal: 7.63s\tremaining: 2.33s\n",
            "766:\tlearn: 0.1167271\ttotal: 7.64s\tremaining: 2.32s\n",
            "767:\tlearn: 0.1167049\ttotal: 7.65s\tremaining: 2.31s\n",
            "768:\tlearn: 0.1166661\ttotal: 7.66s\tremaining: 2.3s\n",
            "769:\tlearn: 0.1166243\ttotal: 7.67s\tremaining: 2.29s\n",
            "770:\tlearn: 0.1166024\ttotal: 7.67s\tremaining: 2.28s\n",
            "771:\tlearn: 0.1165737\ttotal: 7.69s\tremaining: 2.27s\n",
            "772:\tlearn: 0.1164671\ttotal: 7.7s\tremaining: 2.26s\n",
            "773:\tlearn: 0.1164535\ttotal: 7.71s\tremaining: 2.25s\n",
            "774:\tlearn: 0.1163928\ttotal: 7.71s\tremaining: 2.24s\n",
            "775:\tlearn: 0.1163583\ttotal: 7.72s\tremaining: 2.23s\n",
            "776:\tlearn: 0.1163140\ttotal: 7.73s\tremaining: 2.22s\n",
            "777:\tlearn: 0.1162785\ttotal: 7.74s\tremaining: 2.21s\n",
            "778:\tlearn: 0.1162542\ttotal: 7.75s\tremaining: 2.2s\n",
            "779:\tlearn: 0.1161961\ttotal: 7.75s\tremaining: 2.19s\n",
            "780:\tlearn: 0.1161606\ttotal: 7.76s\tremaining: 2.18s\n",
            "781:\tlearn: 0.1161309\ttotal: 7.77s\tremaining: 2.17s\n",
            "782:\tlearn: 0.1161095\ttotal: 7.79s\tremaining: 2.16s\n",
            "783:\tlearn: 0.1160624\ttotal: 7.8s\tremaining: 2.15s\n",
            "784:\tlearn: 0.1160408\ttotal: 7.81s\tremaining: 2.14s\n",
            "785:\tlearn: 0.1159915\ttotal: 7.82s\tremaining: 2.13s\n",
            "786:\tlearn: 0.1159648\ttotal: 7.83s\tremaining: 2.12s\n",
            "787:\tlearn: 0.1159260\ttotal: 7.84s\tremaining: 2.11s\n",
            "788:\tlearn: 0.1158869\ttotal: 7.85s\tremaining: 2.1s\n",
            "789:\tlearn: 0.1158378\ttotal: 7.86s\tremaining: 2.09s\n",
            "790:\tlearn: 0.1157787\ttotal: 7.87s\tremaining: 2.08s\n",
            "791:\tlearn: 0.1157255\ttotal: 7.88s\tremaining: 2.07s\n",
            "792:\tlearn: 0.1156826\ttotal: 7.89s\tremaining: 2.06s\n",
            "793:\tlearn: 0.1156248\ttotal: 7.9s\tremaining: 2.05s\n",
            "794:\tlearn: 0.1155527\ttotal: 7.91s\tremaining: 2.04s\n",
            "795:\tlearn: 0.1155116\ttotal: 7.92s\tremaining: 2.03s\n",
            "796:\tlearn: 0.1154737\ttotal: 7.93s\tremaining: 2.02s\n",
            "797:\tlearn: 0.1154181\ttotal: 7.94s\tremaining: 2.01s\n",
            "798:\tlearn: 0.1153718\ttotal: 7.95s\tremaining: 2s\n",
            "799:\tlearn: 0.1153047\ttotal: 7.96s\tremaining: 1.99s\n",
            "800:\tlearn: 0.1152615\ttotal: 7.96s\tremaining: 1.98s\n",
            "801:\tlearn: 0.1152403\ttotal: 7.97s\tremaining: 1.97s\n",
            "802:\tlearn: 0.1152163\ttotal: 7.99s\tremaining: 1.96s\n",
            "803:\tlearn: 0.1151253\ttotal: 8s\tremaining: 1.95s\n",
            "804:\tlearn: 0.1151054\ttotal: 8.01s\tremaining: 1.94s\n",
            "805:\tlearn: 0.1150372\ttotal: 8.02s\tremaining: 1.93s\n",
            "806:\tlearn: 0.1150343\ttotal: 8.03s\tremaining: 1.92s\n",
            "807:\tlearn: 0.1149673\ttotal: 8.03s\tremaining: 1.91s\n",
            "808:\tlearn: 0.1148696\ttotal: 8.04s\tremaining: 1.9s\n",
            "809:\tlearn: 0.1148273\ttotal: 8.05s\tremaining: 1.89s\n",
            "810:\tlearn: 0.1148097\ttotal: 8.06s\tremaining: 1.88s\n",
            "811:\tlearn: 0.1148014\ttotal: 8.06s\tremaining: 1.87s\n",
            "812:\tlearn: 0.1147587\ttotal: 8.09s\tremaining: 1.86s\n",
            "813:\tlearn: 0.1147013\ttotal: 8.1s\tremaining: 1.85s\n",
            "814:\tlearn: 0.1146229\ttotal: 8.11s\tremaining: 1.84s\n",
            "815:\tlearn: 0.1145575\ttotal: 8.12s\tremaining: 1.83s\n",
            "816:\tlearn: 0.1145128\ttotal: 8.13s\tremaining: 1.82s\n",
            "817:\tlearn: 0.1144257\ttotal: 8.14s\tremaining: 1.81s\n",
            "818:\tlearn: 0.1144199\ttotal: 8.14s\tremaining: 1.8s\n",
            "819:\tlearn: 0.1144119\ttotal: 8.15s\tremaining: 1.79s\n",
            "820:\tlearn: 0.1143675\ttotal: 8.16s\tremaining: 1.78s\n",
            "821:\tlearn: 0.1143649\ttotal: 8.19s\tremaining: 1.77s\n",
            "822:\tlearn: 0.1143410\ttotal: 8.19s\tremaining: 1.76s\n",
            "823:\tlearn: 0.1142663\ttotal: 8.2s\tremaining: 1.75s\n",
            "824:\tlearn: 0.1142116\ttotal: 8.21s\tremaining: 1.74s\n",
            "825:\tlearn: 0.1141735\ttotal: 8.22s\tremaining: 1.73s\n",
            "826:\tlearn: 0.1141185\ttotal: 8.23s\tremaining: 1.72s\n",
            "827:\tlearn: 0.1140518\ttotal: 8.24s\tremaining: 1.71s\n",
            "828:\tlearn: 0.1139897\ttotal: 8.24s\tremaining: 1.7s\n",
            "829:\tlearn: 0.1139360\ttotal: 8.25s\tremaining: 1.69s\n",
            "830:\tlearn: 0.1139124\ttotal: 8.26s\tremaining: 1.68s\n",
            "831:\tlearn: 0.1138654\ttotal: 8.28s\tremaining: 1.67s\n",
            "832:\tlearn: 0.1138351\ttotal: 8.29s\tremaining: 1.66s\n",
            "833:\tlearn: 0.1138252\ttotal: 8.29s\tremaining: 1.65s\n",
            "834:\tlearn: 0.1138006\ttotal: 8.3s\tremaining: 1.64s\n",
            "835:\tlearn: 0.1136915\ttotal: 8.31s\tremaining: 1.63s\n",
            "836:\tlearn: 0.1136491\ttotal: 8.32s\tremaining: 1.62s\n",
            "837:\tlearn: 0.1135999\ttotal: 8.32s\tremaining: 1.61s\n",
            "838:\tlearn: 0.1135405\ttotal: 8.33s\tremaining: 1.6s\n",
            "839:\tlearn: 0.1134721\ttotal: 8.34s\tremaining: 1.59s\n",
            "840:\tlearn: 0.1134228\ttotal: 8.35s\tremaining: 1.58s\n"
          ],
          "name": "stdout"
        },
        {
          "output_type": "stream",
          "text": [
            "841:\tlearn: 0.1133225\ttotal: 8.36s\tremaining: 1.57s\n",
            "842:\tlearn: 0.1132773\ttotal: 8.38s\tremaining: 1.56s\n",
            "843:\tlearn: 0.1132318\ttotal: 8.39s\tremaining: 1.55s\n",
            "844:\tlearn: 0.1131266\ttotal: 8.4s\tremaining: 1.54s\n",
            "845:\tlearn: 0.1130740\ttotal: 8.41s\tremaining: 1.53s\n",
            "846:\tlearn: 0.1130313\ttotal: 8.42s\tremaining: 1.52s\n",
            "847:\tlearn: 0.1129740\ttotal: 8.43s\tremaining: 1.51s\n",
            "848:\tlearn: 0.1129168\ttotal: 8.44s\tremaining: 1.5s\n",
            "849:\tlearn: 0.1129085\ttotal: 8.44s\tremaining: 1.49s\n",
            "850:\tlearn: 0.1128778\ttotal: 8.45s\tremaining: 1.48s\n",
            "851:\tlearn: 0.1128365\ttotal: 8.46s\tremaining: 1.47s\n",
            "852:\tlearn: 0.1128058\ttotal: 8.48s\tremaining: 1.46s\n",
            "853:\tlearn: 0.1127317\ttotal: 8.49s\tremaining: 1.45s\n",
            "854:\tlearn: 0.1127016\ttotal: 8.5s\tremaining: 1.44s\n",
            "855:\tlearn: 0.1126647\ttotal: 8.51s\tremaining: 1.43s\n",
            "856:\tlearn: 0.1126322\ttotal: 8.52s\tremaining: 1.42s\n",
            "857:\tlearn: 0.1125954\ttotal: 8.53s\tremaining: 1.41s\n",
            "858:\tlearn: 0.1125293\ttotal: 8.53s\tremaining: 1.4s\n",
            "859:\tlearn: 0.1124814\ttotal: 8.54s\tremaining: 1.39s\n",
            "860:\tlearn: 0.1123958\ttotal: 8.55s\tremaining: 1.38s\n",
            "861:\tlearn: 0.1123492\ttotal: 8.56s\tremaining: 1.37s\n",
            "862:\tlearn: 0.1122951\ttotal: 8.58s\tremaining: 1.36s\n",
            "863:\tlearn: 0.1122623\ttotal: 8.59s\tremaining: 1.35s\n",
            "864:\tlearn: 0.1121584\ttotal: 8.6s\tremaining: 1.34s\n",
            "865:\tlearn: 0.1121130\ttotal: 8.6s\tremaining: 1.33s\n",
            "866:\tlearn: 0.1120543\ttotal: 8.62s\tremaining: 1.32s\n",
            "867:\tlearn: 0.1120211\ttotal: 8.62s\tremaining: 1.31s\n",
            "868:\tlearn: 0.1119783\ttotal: 8.63s\tremaining: 1.3s\n",
            "869:\tlearn: 0.1119389\ttotal: 8.64s\tremaining: 1.29s\n",
            "870:\tlearn: 0.1119035\ttotal: 8.65s\tremaining: 1.28s\n",
            "871:\tlearn: 0.1118652\ttotal: 8.65s\tremaining: 1.27s\n",
            "872:\tlearn: 0.1118240\ttotal: 8.68s\tremaining: 1.26s\n",
            "873:\tlearn: 0.1117523\ttotal: 8.69s\tremaining: 1.25s\n",
            "874:\tlearn: 0.1117120\ttotal: 8.69s\tremaining: 1.24s\n",
            "875:\tlearn: 0.1116803\ttotal: 8.7s\tremaining: 1.23s\n",
            "876:\tlearn: 0.1116310\ttotal: 8.71s\tremaining: 1.22s\n",
            "877:\tlearn: 0.1115887\ttotal: 8.72s\tremaining: 1.21s\n",
            "878:\tlearn: 0.1115404\ttotal: 8.72s\tremaining: 1.2s\n",
            "879:\tlearn: 0.1115060\ttotal: 8.73s\tremaining: 1.19s\n",
            "880:\tlearn: 0.1114799\ttotal: 8.74s\tremaining: 1.18s\n",
            "881:\tlearn: 0.1114057\ttotal: 8.75s\tremaining: 1.17s\n",
            "882:\tlearn: 0.1113186\ttotal: 8.76s\tremaining: 1.16s\n",
            "883:\tlearn: 0.1112810\ttotal: 8.78s\tremaining: 1.15s\n",
            "884:\tlearn: 0.1112165\ttotal: 8.79s\tremaining: 1.14s\n",
            "885:\tlearn: 0.1111708\ttotal: 8.79s\tremaining: 1.13s\n",
            "886:\tlearn: 0.1110949\ttotal: 8.8s\tremaining: 1.12s\n",
            "887:\tlearn: 0.1110475\ttotal: 8.81s\tremaining: 1.11s\n",
            "888:\tlearn: 0.1109929\ttotal: 8.82s\tremaining: 1.1s\n",
            "889:\tlearn: 0.1109355\ttotal: 8.83s\tremaining: 1.09s\n",
            "890:\tlearn: 0.1108806\ttotal: 8.84s\tremaining: 1.08s\n",
            "891:\tlearn: 0.1107916\ttotal: 8.85s\tremaining: 1.07s\n",
            "892:\tlearn: 0.1107160\ttotal: 8.87s\tremaining: 1.06s\n",
            "893:\tlearn: 0.1106835\ttotal: 8.88s\tremaining: 1.05s\n",
            "894:\tlearn: 0.1106604\ttotal: 8.89s\tremaining: 1.04s\n",
            "895:\tlearn: 0.1106131\ttotal: 8.9s\tremaining: 1.03s\n",
            "896:\tlearn: 0.1105933\ttotal: 8.9s\tremaining: 1.02s\n",
            "897:\tlearn: 0.1105823\ttotal: 8.91s\tremaining: 1.01s\n",
            "898:\tlearn: 0.1105577\ttotal: 8.92s\tremaining: 1s\n",
            "899:\tlearn: 0.1105251\ttotal: 8.93s\tremaining: 992ms\n",
            "900:\tlearn: 0.1104870\ttotal: 8.94s\tremaining: 982ms\n",
            "901:\tlearn: 0.1104660\ttotal: 8.95s\tremaining: 972ms\n",
            "902:\tlearn: 0.1104483\ttotal: 8.95s\tremaining: 962ms\n",
            "903:\tlearn: 0.1104222\ttotal: 8.98s\tremaining: 953ms\n",
            "904:\tlearn: 0.1103826\ttotal: 8.98s\tremaining: 943ms\n",
            "905:\tlearn: 0.1103608\ttotal: 8.99s\tremaining: 933ms\n",
            "906:\tlearn: 0.1103185\ttotal: 9s\tremaining: 923ms\n",
            "907:\tlearn: 0.1102988\ttotal: 9.01s\tremaining: 913ms\n",
            "908:\tlearn: 0.1102426\ttotal: 9.02s\tremaining: 903ms\n",
            "909:\tlearn: 0.1101887\ttotal: 9.03s\tremaining: 893ms\n",
            "910:\tlearn: 0.1101389\ttotal: 9.04s\tremaining: 883ms\n",
            "911:\tlearn: 0.1100772\ttotal: 9.05s\tremaining: 873ms\n",
            "912:\tlearn: 0.1100560\ttotal: 9.07s\tremaining: 864ms\n",
            "913:\tlearn: 0.1099771\ttotal: 9.08s\tremaining: 854ms\n",
            "914:\tlearn: 0.1099471\ttotal: 9.08s\tremaining: 844ms\n",
            "915:\tlearn: 0.1099224\ttotal: 9.09s\tremaining: 834ms\n",
            "916:\tlearn: 0.1099054\ttotal: 9.1s\tremaining: 824ms\n",
            "917:\tlearn: 0.1098566\ttotal: 9.11s\tremaining: 814ms\n",
            "918:\tlearn: 0.1098174\ttotal: 9.12s\tremaining: 804ms\n",
            "919:\tlearn: 0.1097613\ttotal: 9.13s\tremaining: 794ms\n",
            "920:\tlearn: 0.1097210\ttotal: 9.14s\tremaining: 784ms\n",
            "921:\tlearn: 0.1096583\ttotal: 9.15s\tremaining: 774ms\n",
            "922:\tlearn: 0.1096297\ttotal: 9.17s\tremaining: 765ms\n",
            "923:\tlearn: 0.1095484\ttotal: 9.18s\tremaining: 755ms\n",
            "924:\tlearn: 0.1094722\ttotal: 9.19s\tremaining: 745ms\n",
            "925:\tlearn: 0.1094416\ttotal: 9.2s\tremaining: 735ms\n",
            "926:\tlearn: 0.1094061\ttotal: 9.2s\tremaining: 725ms\n",
            "927:\tlearn: 0.1093692\ttotal: 9.21s\tremaining: 715ms\n",
            "928:\tlearn: 0.1093263\ttotal: 9.22s\tremaining: 705ms\n",
            "929:\tlearn: 0.1092795\ttotal: 9.23s\tremaining: 694ms\n",
            "930:\tlearn: 0.1092586\ttotal: 9.23s\tremaining: 685ms\n",
            "931:\tlearn: 0.1092199\ttotal: 9.26s\tremaining: 676ms\n",
            "932:\tlearn: 0.1092102\ttotal: 9.27s\tremaining: 666ms\n",
            "933:\tlearn: 0.1091578\ttotal: 9.28s\tremaining: 656ms\n",
            "934:\tlearn: 0.1091038\ttotal: 9.29s\tremaining: 646ms\n",
            "935:\tlearn: 0.1090855\ttotal: 9.29s\tremaining: 636ms\n",
            "936:\tlearn: 0.1090760\ttotal: 9.3s\tremaining: 626ms\n",
            "937:\tlearn: 0.1090269\ttotal: 9.31s\tremaining: 616ms\n",
            "938:\tlearn: 0.1089942\ttotal: 9.32s\tremaining: 606ms\n",
            "939:\tlearn: 0.1089604\ttotal: 9.33s\tremaining: 596ms\n",
            "940:\tlearn: 0.1089127\ttotal: 9.34s\tremaining: 586ms\n",
            "941:\tlearn: 0.1088815\ttotal: 9.36s\tremaining: 577ms\n",
            "942:\tlearn: 0.1088544\ttotal: 9.37s\tremaining: 567ms\n",
            "943:\tlearn: 0.1088140\ttotal: 9.38s\tremaining: 557ms\n",
            "944:\tlearn: 0.1087793\ttotal: 9.39s\tremaining: 547ms\n",
            "945:\tlearn: 0.1087186\ttotal: 9.4s\tremaining: 537ms\n",
            "946:\tlearn: 0.1086553\ttotal: 9.41s\tremaining: 527ms\n",
            "947:\tlearn: 0.1085842\ttotal: 9.42s\tremaining: 517ms\n",
            "948:\tlearn: 0.1085393\ttotal: 9.43s\tremaining: 507ms\n",
            "949:\tlearn: 0.1084808\ttotal: 9.45s\tremaining: 497ms\n",
            "950:\tlearn: 0.1084264\ttotal: 9.47s\tremaining: 488ms\n",
            "951:\tlearn: 0.1084010\ttotal: 9.48s\tremaining: 478ms\n",
            "952:\tlearn: 0.1083607\ttotal: 9.48s\tremaining: 468ms\n",
            "953:\tlearn: 0.1082810\ttotal: 9.49s\tremaining: 458ms\n",
            "954:\tlearn: 0.1082615\ttotal: 9.5s\tremaining: 448ms\n",
            "955:\tlearn: 0.1082154\ttotal: 9.51s\tremaining: 438ms\n",
            "956:\tlearn: 0.1081711\ttotal: 9.52s\tremaining: 428ms\n",
            "957:\tlearn: 0.1081184\ttotal: 9.53s\tremaining: 418ms\n",
            "958:\tlearn: 0.1080758\ttotal: 9.53s\tremaining: 408ms\n",
            "959:\tlearn: 0.1080439\ttotal: 9.54s\tremaining: 397ms\n",
            "960:\tlearn: 0.1080013\ttotal: 9.56s\tremaining: 388ms\n",
            "961:\tlearn: 0.1079596\ttotal: 9.56s\tremaining: 378ms\n",
            "962:\tlearn: 0.1079455\ttotal: 9.57s\tremaining: 368ms\n",
            "963:\tlearn: 0.1079195\ttotal: 9.58s\tremaining: 358ms\n",
            "964:\tlearn: 0.1078984\ttotal: 9.59s\tremaining: 348ms\n",
            "965:\tlearn: 0.1078561\ttotal: 9.6s\tremaining: 338ms\n",
            "966:\tlearn: 0.1078096\ttotal: 9.61s\tremaining: 328ms\n",
            "967:\tlearn: 0.1077665\ttotal: 9.62s\tremaining: 318ms\n",
            "968:\tlearn: 0.1077137\ttotal: 9.63s\tremaining: 308ms\n",
            "969:\tlearn: 0.1076527\ttotal: 9.64s\tremaining: 298ms\n",
            "970:\tlearn: 0.1076235\ttotal: 9.66s\tremaining: 289ms\n",
            "971:\tlearn: 0.1076067\ttotal: 9.67s\tremaining: 279ms\n",
            "972:\tlearn: 0.1075407\ttotal: 9.68s\tremaining: 269ms\n",
            "973:\tlearn: 0.1074837\ttotal: 9.68s\tremaining: 258ms\n",
            "974:\tlearn: 0.1074303\ttotal: 9.69s\tremaining: 249ms\n",
            "975:\tlearn: 0.1073865\ttotal: 9.7s\tremaining: 239ms\n",
            "976:\tlearn: 0.1073415\ttotal: 9.71s\tremaining: 229ms\n",
            "977:\tlearn: 0.1072859\ttotal: 9.72s\tremaining: 219ms\n",
            "978:\tlearn: 0.1072537\ttotal: 9.72s\tremaining: 209ms\n",
            "979:\tlearn: 0.1071747\ttotal: 9.73s\tremaining: 199ms\n",
            "980:\tlearn: 0.1071357\ttotal: 9.74s\tremaining: 189ms\n",
            "981:\tlearn: 0.1070951\ttotal: 9.76s\tremaining: 179ms\n",
            "982:\tlearn: 0.1070634\ttotal: 9.77s\tremaining: 169ms\n",
            "983:\tlearn: 0.1070051\ttotal: 9.78s\tremaining: 159ms\n",
            "984:\tlearn: 0.1069632\ttotal: 9.79s\tremaining: 149ms\n",
            "985:\tlearn: 0.1069354\ttotal: 9.8s\tremaining: 139ms\n",
            "986:\tlearn: 0.1068673\ttotal: 9.8s\tremaining: 129ms\n",
            "987:\tlearn: 0.1068380\ttotal: 9.82s\tremaining: 119ms\n",
            "988:\tlearn: 0.1067984\ttotal: 9.83s\tremaining: 109ms\n",
            "989:\tlearn: 0.1067297\ttotal: 9.83s\tremaining: 99.3ms\n",
            "990:\tlearn: 0.1066971\ttotal: 9.85s\tremaining: 89.5ms\n",
            "991:\tlearn: 0.1066600\ttotal: 9.86s\tremaining: 79.5ms\n",
            "992:\tlearn: 0.1066297\ttotal: 9.87s\tremaining: 69.6ms\n",
            "993:\tlearn: 0.1065957\ttotal: 9.88s\tremaining: 59.6ms\n",
            "994:\tlearn: 0.1065361\ttotal: 9.88s\tremaining: 49.7ms\n",
            "995:\tlearn: 0.1064950\ttotal: 9.89s\tremaining: 39.7ms\n",
            "996:\tlearn: 0.1064593\ttotal: 9.9s\tremaining: 29.8ms\n",
            "997:\tlearn: 0.1064401\ttotal: 9.91s\tremaining: 19.9ms\n",
            "998:\tlearn: 0.1064114\ttotal: 9.91s\tremaining: 9.92ms\n",
            "999:\tlearn: 0.1063597\ttotal: 9.92s\tremaining: 0us\n"
          ],
          "name": "stdout"
        },
        {
          "output_type": "execute_result",
          "data": {
            "text/plain": [
              "2.397999161885969"
            ]
          },
          "metadata": {
            "tags": []
          },
          "execution_count": 109
        }
      ]
    }
  ]
}